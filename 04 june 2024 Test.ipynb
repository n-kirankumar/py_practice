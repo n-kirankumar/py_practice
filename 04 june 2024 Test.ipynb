{
 "cells": [
  {
   "cell_type": "markdown",
   "id": "a61d934c",
   "metadata": {},
   "source": [
    "\n",
    "### 1. Provide an example where changing a mutable object inside a function affects the original object outside the function."
   ]
  },
  {
   "cell_type": "code",
   "execution_count": 1,
   "id": "7d1b8c56",
   "metadata": {
    "scrolled": true
   },
   "outputs": [
    {
     "name": "stdout",
     "output_type": "stream",
     "text": [
      "Before function call: [1, 2, 3]\n",
      "Inside function: [1, 2, 3, 4]\n",
      "After function call: [1, 2, 3, 4]\n"
     ]
    }
   ],
   "source": [
    "\n",
    "def modify_list(my_list):\n",
    "    my_list.append(4)\n",
    "    print(\"Inside function:\", my_list)\n",
    "\n",
    "original_list = [1, 2, 3]\n",
    "print(\"Before function call:\", original_list)\n",
    "modify_list(original_list)\n",
    "\n",
    "# Print the original list after the function call\n",
    "print(\"After function call:\", original_list)\n"
   ]
  },
  {
   "cell_type": "code",
   "execution_count": 3,
   "id": "a7bc1c93",
   "metadata": {},
   "outputs": [
    {
     "name": "stdout",
     "output_type": "stream",
     "text": [
      "[1, 2, 3, 4]\n"
     ]
    }
   ],
   "source": [
    "def f1(a):\n",
    "    a.append(4)\n",
    "    \n",
    "new_a = [1,2,3]\n",
    "\n",
    "f1(new_a)\n",
    "\n",
    "print(new_a)"
   ]
  },
  {
   "cell_type": "markdown",
   "id": "947ae039",
   "metadata": {},
   "source": [
    "\n",
    "\n",
    "### 3 Write a program using a for loop and list comprehensions to find all prime numbers in a given range."
   ]
  },
  {
   "cell_type": "code",
   "execution_count": null,
   "id": "f770f012",
   "metadata": {},
   "outputs": [],
   "source": []
  },
  {
   "cell_type": "code",
   "execution_count": null,
   "id": "26295e31",
   "metadata": {},
   "outputs": [],
   "source": []
  },
  {
   "cell_type": "code",
   "execution_count": 8,
   "id": "9a6e5130",
   "metadata": {},
   "outputs": [
    {
     "name": "stdout",
     "output_type": "stream",
     "text": [
      "Prime numbers between 10 and 50: [11, 13, 17, 19, 23, 29, 31, 37, 41, 43, 47]\n"
     ]
    }
   ],
   "source": [
    "def is_prime(n):\n",
    "    \"\"\"Check if a number is prime.\"\"\"\n",
    "    if n <= 1:\n",
    "        return False\n",
    "    if n == 2:\n",
    "        return True\n",
    "    if n % 2 == 0:\n",
    "        return False\n",
    "    for i in range(3, int(n**0.5) + 1, 2):\n",
    "        if n % i == 0:\n",
    "            return False\n",
    "    return True\n",
    "\n",
    "# Define the range\n",
    "start = 10\n",
    "end = 50\n",
    "\n",
    "# Find prime numbers in the range using list comprehension\n",
    "prime_numbers = [num for num in range(start, end + 1) if is_prime(num)]\n",
    "\n",
    "# Print the prime numbers\n",
    "print(f\"Prime numbers between {start} and {end}: {prime_numbers}\")\n"
   ]
  },
  {
   "cell_type": "markdown",
   "id": "9947ce9c",
   "metadata": {},
   "source": [
    "### 4. Explain the concept of short-circuit evaluation in if-else blocks with examples."
   ]
  },
  {
   "cell_type": "markdown",
   "id": "2e45e5cd",
   "metadata": {},
   "source": [
    "- Logical AND (and)\n",
    "- In an AND operation, if the first operand is False, the overall result \n",
    "- is False regardless of the second operand. Hence, the second operand is not evaluated."
   ]
  },
  {
   "cell_type": "code",
   "execution_count": 9,
   "id": "cc0b4a83",
   "metadata": {},
   "outputs": [],
   "source": [
    "x = 0\n",
    "if x != 0 and (10 / x) > 1:\n",
    "    print(\"This will not be printed.\")\n"
   ]
  },
  {
   "cell_type": "markdown",
   "id": "a5699bd7",
   "metadata": {},
   "source": [
    "- Logical OR (or)\n",
    "- In an OR operation, if the first operand is True, the overall result is True \n",
    "- regardless of the second operand. Hence, the second operand is not evaluated."
   ]
  },
  {
   "cell_type": "code",
   "execution_count": 10,
   "id": "50a0a2ae",
   "metadata": {},
   "outputs": [
    {
     "name": "stdout",
     "output_type": "stream",
     "text": [
      "This will be printed.\n"
     ]
    }
   ],
   "source": [
    "x = 0\n",
    "if x == 0 or (10 / x) > 1:\n",
    "    print(\"This will be printed.\")\n"
   ]
  },
  {
   "cell_type": "markdown",
   "id": "44bdea73",
   "metadata": {},
   "source": [
    "### 5. Write a Python program using a while loop to implement a simple text-based menu system."
   ]
  },
  {
   "cell_type": "code",
   "execution_count": 12,
   "id": "c49127ad",
   "metadata": {},
   "outputs": [
    {
     "name": "stdout",
     "output_type": "stream",
     "text": [
      "\n",
      "South Indian Breakfast Menu\n",
      "1. Idli\n",
      "2. Vada\n",
      "3. Exit\n",
      "Enter your choice (1-3): 1\n",
      "You ordered Idli.\n",
      "\n",
      "South Indian Breakfast Menu\n",
      "1. Idli\n",
      "2. Vada\n",
      "3. Exit\n",
      "Enter your choice (1-3): 1\n",
      "You ordered Idli.\n",
      "\n",
      "South Indian Breakfast Menu\n",
      "1. Idli\n",
      "2. Vada\n",
      "3. Exit\n",
      "Enter your choice (1-3): 3\n",
      "Exiting the menu. Goodbye!\n"
     ]
    }
   ],
   "source": [
    "def display_menu():\n",
    "    print(\"\\nSouth Indian Breakfast Menu\")\n",
    "    print(\"1. Idli\")\n",
    "    print(\"2. Vada\")\n",
    "    print(\"3. Exit\")\n",
    "\n",
    "def main():\n",
    "    while True:\n",
    "        display_menu()\n",
    "        choice = input(\"Enter your choice (1-3): \")\n",
    "\n",
    "        if choice == '1':\n",
    "            print(\"You ordered Idli.\")\n",
    "        elif choice == '2':\n",
    "            print(\"You ordered Vada.\")\n",
    "        elif choice == '3':\n",
    "            print(\"Exiting the menu. Goodbye!\")\n",
    "            break\n",
    "        else:\n",
    "            print(\"Invalid choice. Please enter 1, 2, or 3.\")\n",
    "main()"
   ]
  },
  {
   "cell_type": "markdown",
   "id": "c83056ef",
   "metadata": {},
   "source": [
    "### 6. How can you use range() to iterate over indices of a list?"
   ]
  },
  {
   "cell_type": "code",
   "execution_count": 14,
   "id": "f83ae5bf",
   "metadata": {},
   "outputs": [
    {
     "name": "stdout",
     "output_type": "stream",
     "text": [
      "Index: 0 Value: a\n",
      "Index: 1 Value: b\n",
      "Index: 2 Value: c\n"
     ]
    }
   ],
   "source": [
    "my_list = ['a', 'b', 'c']\n",
    "\n",
    "for i in range(len(my_list)):\n",
    "    print(\"Index:\", i, \"Value:\", my_list[i])"
   ]
  },
  {
   "cell_type": "markdown",
   "id": "b661435c",
   "metadata": {},
   "source": [
    "### 7. Explain how Python's handling of mutable and immutable types in function calls can lead to unexpected behavior. Provide an example. With Call by value and call by reference concept."
   ]
  },
  {
   "cell_type": "markdown",
   "id": "734fc187",
   "metadata": {},
   "source": [
    "- In Python, when you pass an object (whether mutable or immutable) to a function, you are passing the reference to that object, not a copy of the object itself.\n",
    "- For immutable types like integers, strings, and tuples, this means that the function receives a reference to the object, but cannot modify the original object. Any modifications made to the object inside the function actually create a new object.\n",
    "- For mutable types like lists, dictionaries, and sets, the function receives a reference to the original object and can modify it in-place. This modification affects the original object outside the function."
   ]
  },
  {
   "cell_type": "code",
   "execution_count": 15,
   "id": "020c1643",
   "metadata": {},
   "outputs": [
    {
     "name": "stdout",
     "output_type": "stream",
     "text": [
      "Inside function: 15\n",
      "Outside function: 5\n"
     ]
    }
   ],
   "source": [
    "# Function to modify an integer (immutable type)\n",
    "\n",
    "\n",
    "def modify_integer(x):\n",
    "    x += 10\n",
    "    print(\"Inside function:\", x)\n",
    "     \n",
    "# Call by Object Reference\n",
    "a = 5\n",
    "modify_integer(a)                # Call by value for immutable type (integer)\n",
    "print(\"Outside function:\", a)    # No change in the original variable 'a'\n"
   ]
  },
  {
   "cell_type": "code",
   "execution_count": 16,
   "id": "960ac3e5",
   "metadata": {},
   "outputs": [
    {
     "name": "stdout",
     "output_type": "stream",
     "text": [
      "Inside function: [1, 2, 3, 4]\n",
      "Outside function: [1, 2, 3, 4]\n"
     ]
    }
   ],
   "source": [
    "# Function to modify a list (mutable type)\n",
    "def modify_list(lst):\n",
    "    lst.append(4)\n",
    "    print(\"Inside function:\", lst)\n",
    "\n",
    "\n",
    "b = [1, 2, 3]\n",
    "modify_list(b)                     #  Call by reference for mutable type (list)\n",
    "print(\"Outside function:\", b)      # The original list 'b' is modified"
   ]
  },
  {
   "cell_type": "markdown",
   "id": "0a6cda12",
   "metadata": {},
   "source": [
    "### 8. Discuss the use of lambda functions in Python with examples."
   ]
  },
  {
   "cell_type": "markdown",
   "id": "a285cd98",
   "metadata": {},
   "source": [
    "- Lambda functions in Python are small, anonymous functions that can have any number of arguments, but can only have one expression. "
   ]
  },
  {
   "cell_type": "code",
   "execution_count": 17,
   "id": "22ebfb4b",
   "metadata": {},
   "outputs": [
    {
     "data": {
      "text/plain": [
       "5"
      ]
     },
     "execution_count": 17,
     "metadata": {},
     "output_type": "execute_result"
    }
   ],
   "source": [
    "# simplest addition\n",
    "\n",
    "add = lambda x,y : x + y\n",
    "add(2,3)"
   ]
  },
  {
   "cell_type": "code",
   "execution_count": 19,
   "id": "83d541cf",
   "metadata": {},
   "outputs": [
    {
     "data": {
      "text/plain": [
       "4"
      ]
     },
     "execution_count": 19,
     "metadata": {},
     "output_type": "execute_result"
    }
   ],
   "source": [
    "# simple power \n",
    "power = lambda x: x**2\n",
    "power(2)"
   ]
  },
  {
   "cell_type": "code",
   "execution_count": 20,
   "id": "7bb222ac",
   "metadata": {},
   "outputs": [
    {
     "data": {
      "text/plain": [
       "True"
      ]
     },
     "execution_count": 20,
     "metadata": {},
     "output_type": "execute_result"
    }
   ],
   "source": [
    "# is even \n",
    "is_even = lambda x: x % 2 == 0\n",
    "is_even(10)\n"
   ]
  },
  {
   "cell_type": "markdown",
   "id": "e8420839",
   "metadata": {},
   "source": [
    "### 9 How do you handle exceptions in Python? Provide an example using try-except blocks."
   ]
  },
  {
   "cell_type": "code",
   "execution_count": 22,
   "id": "eed26df7",
   "metadata": {},
   "outputs": [
    {
     "name": "stdout",
     "output_type": "stream",
     "text": [
      "Error: division by zero\n",
      "Division operation completed.\n"
     ]
    }
   ],
   "source": [
    "def divide(x, y):\n",
    "    try:\n",
    "        result = x / y\n",
    "    except ZeroDivisionError as e:\n",
    "        print(\"Error:\", e)\n",
    "    else:\n",
    "        print(\"Result:\", result)\n",
    "    finally:\n",
    "        print(\"Division operation completed.\")\n",
    "\n",
    "# Example 1: Handling division by zero\n",
    "divide(10, 0)\n"
   ]
  },
  {
   "cell_type": "code",
   "execution_count": 23,
   "id": "6fcb96e9",
   "metadata": {},
   "outputs": [
    {
     "name": "stdout",
     "output_type": "stream",
     "text": [
      "Result: 5.0\n",
      "Division operation completed.\n"
     ]
    }
   ],
   "source": [
    "\n",
    "# Example 2: Successful division\n",
    "divide(10, 2)\n"
   ]
  },
  {
   "cell_type": "markdown",
   "id": "2d163503",
   "metadata": {},
   "source": [
    "### 10. What are list comprehensions and dictionary comprehensions? Provide examples."
   ]
  },
  {
   "cell_type": "markdown",
   "id": "c1171333",
   "metadata": {},
   "source": [
    "- A list comprehension allows you to create a new list by applying an expression to each item in an existing iterable (such as a list, tuple, or range) and optionally filtering the items based on a condition."
   ]
  },
  {
   "cell_type": "code",
   "execution_count": 26,
   "id": "10bee66b",
   "metadata": {},
   "outputs": [
    {
     "data": {
      "text/plain": [
       "[0, 1, 2, 3]"
      ]
     },
     "execution_count": 26,
     "metadata": {},
     "output_type": "execute_result"
    }
   ],
   "source": [
    "#list of numbers\n",
    "a = [i for i in range(4)] \n",
    "a"
   ]
  },
  {
   "cell_type": "code",
   "execution_count": 28,
   "id": "79ac083a",
   "metadata": {},
   "outputs": [
    {
     "data": {
      "text/plain": [
       "[0, 1, 4, 9]"
      ]
     },
     "execution_count": 28,
     "metadata": {},
     "output_type": "execute_result"
    }
   ],
   "source": [
    "#square of numbers\n",
    "b= [i**2 for i in range(4)]\n",
    "b"
   ]
  },
  {
   "cell_type": "code",
   "execution_count": 29,
   "id": "316d94fc",
   "metadata": {},
   "outputs": [
    {
     "data": {
      "text/plain": [
       "[100, 400]"
      ]
     },
     "execution_count": 29,
     "metadata": {},
     "output_type": "execute_result"
    }
   ],
   "source": [
    "#square of numbers\n",
    "\n",
    "my_list = [10,20]\n",
    "b= [i**2 for i in my_list]\n",
    "b"
   ]
  },
  {
   "cell_type": "code",
   "execution_count": 30,
   "id": "9b7482c1",
   "metadata": {},
   "outputs": [
    {
     "data": {
      "text/plain": [
       "[2, 4]"
      ]
     },
     "execution_count": 30,
     "metadata": {},
     "output_type": "execute_result"
    }
   ],
   "source": [
    "# only even numbers\n",
    "\n",
    "my_list = [1,2,3,4,5]\n",
    "\n",
    "even = [i for i in my_list if i % 2 == 0 ]\n",
    "even"
   ]
  },
  {
   "cell_type": "markdown",
   "id": "fd3f67a4",
   "metadata": {},
   "source": [
    "- A dictionary comprehension is similar to a list comprehension but produces a dictionary instead of a list. It allows you to create a new dictionary by specifying key-value pairs derived from an iterable and an expression."
   ]
  },
  {
   "cell_type": "code",
   "execution_count": 31,
   "id": "2d6eadeb",
   "metadata": {},
   "outputs": [
    {
     "name": "stdout",
     "output_type": "stream",
     "text": [
      "{1: 1, 2: 4, 3: 9, 4: 16, 5: 25}\n"
     ]
    }
   ],
   "source": [
    "numbers = [1, 2, 3, 4, 5]\n",
    "squared_dict = {x: x ** 2 for x in numbers}\n",
    "print(squared_dict) "
   ]
  },
  {
   "cell_type": "markdown",
   "id": "b930e881",
   "metadata": {},
   "source": [
    "### 11. Explain how lambda functions are used with map(), reduce(), and filter() functions in Python. Provide examples."
   ]
  },
  {
   "cell_type": "code",
   "execution_count": 32,
   "id": "18c639b2",
   "metadata": {},
   "outputs": [
    {
     "data": {
      "text/plain": [
       "[1, 4, 9, 16, 25]"
      ]
     },
     "execution_count": 32,
     "metadata": {},
     "output_type": "execute_result"
    }
   ],
   "source": [
    "# square of given list using lambda and map \n",
    "\n",
    "numbers = [1, 2, 3, 4, 5]\n",
    "squared = map(lambda x: x**2, numbers)\n",
    "list(squared)"
   ]
  },
  {
   "cell_type": "code",
   "execution_count": 33,
   "id": "61a65784",
   "metadata": {},
   "outputs": [
    {
     "data": {
      "text/plain": [
       "[6, 7, 8, 9]"
      ]
     },
     "execution_count": 33,
     "metadata": {},
     "output_type": "execute_result"
    }
   ],
   "source": [
    "# Filter out all the numbers greater than 5 from a list using filter\n",
    "\n",
    "my_list = [1,2,3,4,5,6,7,8,9]\n",
    "output_list = filter(lambda x : x>5, my_list)\n",
    "\n",
    "list(output_list)"
   ]
  },
  {
   "cell_type": "code",
   "execution_count": 34,
   "id": "fcdef9e5",
   "metadata": {},
   "outputs": [
    {
     "data": {
      "text/plain": [
       "120"
      ]
     },
     "execution_count": 34,
     "metadata": {},
     "output_type": "execute_result"
    }
   ],
   "source": [
    "# Compute the product of a list of integers using 'reduce'function using lambda\n",
    "\n",
    "from functools import reduce\n",
    "product = reduce((lambda x,y : x*y), [1,2,3,4,5])\n",
    "\n",
    "product"
   ]
  },
  {
   "cell_type": "code",
   "execution_count": 35,
   "id": "fe88cdc4",
   "metadata": {},
   "outputs": [
    {
     "name": "stdout",
     "output_type": "stream",
     "text": [
      "120\n"
     ]
    }
   ],
   "source": [
    "#  Compute the product of a list of integers using 'reduce'function \n",
    "\n",
    "from functools import reduce\n",
    "def multiply(x, y):\n",
    "    return x * y\n",
    "\n",
    "numbers = [1, 2, 3, 4, 5]\n",
    "result = reduce(multiply, numbers)\n",
    "print(result)"
   ]
  },
  {
   "cell_type": "markdown",
   "id": "db611b88",
   "metadata": {},
   "source": [
    "### 12. What are decorators in Python? Write a simple decorator function."
   ]
  },
  {
   "cell_type": "markdown",
   "id": "a4621bca",
   "metadata": {},
   "source": [
    " - decorator is a callable object which takes function as an arguement and returns the modified function without modifying the original function"
   ]
  },
  {
   "cell_type": "code",
   "execution_count": 36,
   "id": "9a5c6eee",
   "metadata": {},
   "outputs": [
    {
     "name": "stdout",
     "output_type": "stream",
     "text": [
      "This is printed before the function is called\n",
      "Hello! The function is executing\n",
      "This is printed after the function is called\n"
     ]
    }
   ],
   "source": [
    "def decorator(func):\n",
    "    def wrapper():\n",
    "        print(\"This is printed before the function is called\")\n",
    "        func()\n",
    "        print(\"This is printed after the function is called\")\n",
    "    return wrapper\n",
    "\n",
    "@decorator\n",
    "def say_hello():\n",
    "    print(\"Hello! The function is executing\")\n",
    "\n",
    "say_hello()"
   ]
  },
  {
   "cell_type": "markdown",
   "id": "869a8c9a",
   "metadata": {},
   "source": [
    "### 13. Explain the LEGB rule in Python scope. Provide examples for Local, Enclosed, Global, and Built-in scopes."
   ]
  },
  {
   "cell_type": "code",
   "execution_count": 37,
   "id": "785da109",
   "metadata": {},
   "outputs": [
    {
     "name": "stdout",
     "output_type": "stream",
     "text": [
      "Inside function: 10\n"
     ]
    }
   ],
   "source": [
    "def my_function():\n",
    "    x = 10                            # Local variable\n",
    "    print(\"Inside function:\", x)\n",
    "\n",
    "my_function()"
   ]
  },
  {
   "cell_type": "code",
   "execution_count": 38,
   "id": "8eab4da6",
   "metadata": {},
   "outputs": [
    {
     "name": "stdout",
     "output_type": "stream",
     "text": [
      "Inside nested function: 20\n"
     ]
    }
   ],
   "source": [
    "def outer_function():\n",
    "    y = 20                                   # Enclosing variable\n",
    "    def inner_function():\n",
    "        print(\"Inside nested function:\", y)  # Accessing enclosing variable\n",
    "    inner_function()\n",
    "\n",
    "outer_function()"
   ]
  },
  {
   "cell_type": "code",
   "execution_count": 39,
   "id": "16e7c9a4",
   "metadata": {},
   "outputs": [
    {
     "name": "stdout",
     "output_type": "stream",
     "text": [
      "Inside function: 30\n",
      "Outside function: 30\n"
     ]
    }
   ],
   "source": [
    "z = 30                            # Global variable\n",
    "\n",
    "def my_function():\n",
    "    print(\"Inside function:\", z)  # Accessing global variable\n",
    "\n",
    "my_function()\n",
    "print(\"Outside function:\", z)\n"
   ]
  },
  {
   "cell_type": "code",
   "execution_count": 40,
   "id": "e9f0095c",
   "metadata": {},
   "outputs": [
    {
     "name": "stdout",
     "output_type": "stream",
     "text": [
      "Built-in scope example: 3\n"
     ]
    }
   ],
   "source": [
    "print(\"Built-in scope example:\", len([1, 2, 3]))  # Using built-in function len()\n",
    "\n"
   ]
  },
  {
   "cell_type": "markdown",
   "id": "fcbfc5b5",
   "metadata": {},
   "source": [
    "### 14. What are private, protected, and global variables in Python? Provide examples of each."
   ]
  },
  {
   "cell_type": "markdown",
   "id": "b14a332f",
   "metadata": {},
   "source": [
    "- Private Variables:\n",
    "    - Private variables are those that are intended to be accessible only within the class or object that defines them.naming convention is followed where variables starting with a double underscore (__) are treated as private"
   ]
  },
  {
   "cell_type": "code",
   "execution_count": 43,
   "id": "27a1aefc",
   "metadata": {},
   "outputs": [
    {
     "name": "stdout",
     "output_type": "stream",
     "text": [
      "10\n"
     ]
    }
   ],
   "source": [
    "class MyClass:\n",
    "    def __init__(self):\n",
    "        self.__private_var = 10  # Private variable\n",
    "\n",
    "    def get_private_var(self):\n",
    "        return self.__private_var\n",
    "\n",
    "obj = MyClass()\n",
    "#print(obj.__private_var)  # Raises AttributeError: 'MyClass' object has no attribute '__private_var'\n",
    "print(obj.get_private_var())  # Accessing private variable using a getter method\n"
   ]
  },
  {
   "cell_type": "markdown",
   "id": "2fa1e959",
   "metadata": {},
   "source": [
    "- Protected Variables:\n",
    "    - Protected variables are those that are intended to be accessible only within the class or its subclasses.  variables starting with a single underscore (_) are treated as protected."
   ]
  },
  {
   "cell_type": "code",
   "execution_count": 44,
   "id": "bbfd4049",
   "metadata": {},
   "outputs": [
    {
     "name": "stdout",
     "output_type": "stream",
     "text": [
      "20\n",
      "20\n"
     ]
    }
   ],
   "source": [
    "class MyClass:\n",
    "    def __init__(self):\n",
    "        self._protected_var = 20  # Protected variable\n",
    "\n",
    "    def get_protected_var(self):\n",
    "        return self._protected_var\n",
    "\n",
    "class MySubclass(MyClass):\n",
    "    def __init__(self):\n",
    "        super().__init__()\n",
    "\n",
    "obj = MyClass()\n",
    "print(obj.get_protected_var())  # Accessing protected variable using a getter method\n",
    "\n",
    "sub_obj = MySubclass()\n",
    "print(sub_obj.get_protected_var())  # Accessing protected variable in subclass\n"
   ]
  },
  {
   "cell_type": "markdown",
   "id": "9f549911",
   "metadata": {},
   "source": [
    "- Global Variables:\n",
    "    - Global variables are those that are defined outside of any function or class and can be accessed from anywhere within the module or script. their values persist throughout the entire execution of the program."
   ]
  },
  {
   "cell_type": "code",
   "execution_count": 46,
   "id": "12224904",
   "metadata": {},
   "outputs": [
    {
     "name": "stdout",
     "output_type": "stream",
     "text": [
      "Inside function: 30\n",
      "Outside function: 30\n"
     ]
    }
   ],
   "source": [
    "global_var = 30                              # Global variable\n",
    "\n",
    "def my_function():\n",
    "    print(\"Inside function:\", global_var)     # Accessing global variable\n",
    "\n",
    "my_function()\n",
    "print(\"Outside function:\", global_var)\n"
   ]
  },
  {
   "cell_type": "markdown",
   "id": "14dd0b2c",
   "metadata": {},
   "source": [
    "### 15. What is slicing ? Write a sample program to reverse a string."
   ]
  },
  {
   "cell_type": "code",
   "execution_count": 48,
   "id": "201e3318",
   "metadata": {},
   "outputs": [
    {
     "data": {
      "text/plain": [
       "'olleh'"
      ]
     },
     "execution_count": 48,
     "metadata": {},
     "output_type": "execute_result"
    }
   ],
   "source": [
    "my_str = 'hello'\n",
    "\n",
    "my_str[::-1]"
   ]
  },
  {
   "cell_type": "code",
   "execution_count": null,
   "id": "0459355b",
   "metadata": {},
   "outputs": [],
   "source": []
  }
 ],
 "metadata": {
  "kernelspec": {
   "display_name": "Python 3 (ipykernel)",
   "language": "python",
   "name": "python3"
  },
  "language_info": {
   "codemirror_mode": {
    "name": "ipython",
    "version": 3
   },
   "file_extension": ".py",
   "mimetype": "text/x-python",
   "name": "python",
   "nbconvert_exporter": "python",
   "pygments_lexer": "ipython3",
   "version": "3.11.5"
  }
 },
 "nbformat": 4,
 "nbformat_minor": 5
}
