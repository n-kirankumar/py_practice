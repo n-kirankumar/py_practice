{
 "cells": [
  {
   "cell_type": "code",
   "execution_count": 10,
   "id": "a399c55e",
   "metadata": {},
   "outputs": [
    {
     "name": "stdout",
     "output_type": "stream",
     "text": [
      "enter a number to check prime or not : 101\n",
      " prime\n"
     ]
    }
   ],
   "source": [
    "a = int(input('enter a number to check prime or not : '))\n",
    "\n",
    "if a < 2 :\n",
    "    print('not a prime')\n",
    "\n",
    "else:\n",
    "    for i in range(2,a):\n",
    "        if a % i == 0:\n",
    "            print('not prime')\n",
    "            break\n",
    "    else :\n",
    "        print(' prime')"
   ]
  },
  {
   "cell_type": "code",
   "execution_count": null,
   "id": "6738ff7e",
   "metadata": {},
   "outputs": [],
   "source": []
  }
 ],
 "metadata": {
  "kernelspec": {
   "display_name": "Python 3 (ipykernel)",
   "language": "python",
   "name": "python3"
  },
  "language_info": {
   "codemirror_mode": {
    "name": "ipython",
    "version": 3
   },
   "file_extension": ".py",
   "mimetype": "text/x-python",
   "name": "python",
   "nbconvert_exporter": "python",
   "pygments_lexer": "ipython3",
   "version": "3.11.5"
  }
 },
 "nbformat": 4,
 "nbformat_minor": 5
}
