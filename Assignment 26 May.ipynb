{
 "cells": [
  {
   "cell_type": "code",
   "execution_count": 1,
   "id": "e20112c4",
   "metadata": {},
   "outputs": [
    {
     "name": "stdout",
     "output_type": "stream",
     "text": [
      "<class 'int'> <class 'float'> <class 'str'>\n"
     ]
    }
   ],
   "source": [
    "## 1. What is the output of the following code?\n",
    "## ```python\n",
    "a = 10\n",
    "b = 2.5\n",
    "c = \"Hello\"\n",
    "print(type(a), type(b), type(c))"
   ]
  },
  {
   "cell_type": "code",
   "execution_count": 2,
   "id": "a8adfc23",
   "metadata": {},
   "outputs": [],
   "source": [
    "## 2 2. Convert the following to integers:\n",
    "## ```python\n",
    "x = \"123\"\n",
    "y = 45.67"
   ]
  },
  {
   "cell_type": "code",
   "execution_count": 3,
   "id": "00f0cd08",
   "metadata": {},
   "outputs": [
    {
     "name": "stdout",
     "output_type": "stream",
     "text": [
      "123\n",
      "45\n"
     ]
    }
   ],
   "source": [
    "print(int('123'))\n",
    "print(int(45.67))"
   ]
  },
  {
   "cell_type": "code",
   "execution_count": 4,
   "id": "68384a34",
   "metadata": {},
   "outputs": [],
   "source": [
    "# 3. What is the difference between `int` and `float` in Python?"
   ]
  },
  {
   "cell_type": "markdown",
   "id": "05f6cba1",
   "metadata": {},
   "source": [
    "2. **String Manipulation**\n",
    "1. Given the string `s = \"Python Programming\"`, write the code to:\n",
    "1. Extract the word \"Python\".\n",
    "2. Convert the entire string to uppercase.\n",
    "3. Replace the word \"Programming\" with \"Language\"."
   ]
  },
  {
   "cell_type": "code",
   "execution_count": 6,
   "id": "955860c2",
   "metadata": {},
   "outputs": [
    {
     "data": {
      "text/plain": [
       "'PYTHON PROGRAMMING'"
      ]
     },
     "execution_count": 6,
     "metadata": {},
     "output_type": "execute_result"
    }
   ],
   "source": [
    "s = \"Python Programming\"\n",
    "\n",
    "s.upper()"
   ]
  },
  {
   "cell_type": "code",
   "execution_count": 7,
   "id": "6ff3a916",
   "metadata": {},
   "outputs": [
    {
     "data": {
      "text/plain": [
       "'Python Language'"
      ]
     },
     "execution_count": 7,
     "metadata": {},
     "output_type": "execute_result"
    }
   ],
   "source": [
    "s.replace('Programming','Language')"
   ]
  },
  {
   "cell_type": "code",
   "execution_count": 8,
   "id": "05deef80",
   "metadata": {},
   "outputs": [
    {
     "name": "stdout",
     "output_type": "stream",
     "text": [
      "W\n",
      "!\n",
      "Hello\n"
     ]
    }
   ],
   "source": [
    "#2. What is the output of the following code?\n",
    "#```python\n",
    "s = \"Hello, World!\"\n",
    "print(s[7])\n",
    "print(s[-1])\n",
    "print(s[0:5])"
   ]
  },
  {
   "cell_type": "markdown",
   "id": "ab53be9e",
   "metadata": {},
   "source": [
    "#3. **List Operations**\n",
    "#1. Given the list `\n",
    "lst = [1, 2, 3, 4, 5]`, write the code to:\n",
    "1. Append the number `6` to the list.\n",
    "2. Remove the number `3` from the list.\n",
    "3. Reverse the list."
   ]
  },
  {
   "cell_type": "code",
   "execution_count": 16,
   "id": "5e054d84",
   "metadata": {},
   "outputs": [
    {
     "name": "stdout",
     "output_type": "stream",
     "text": [
      "[1, 2, 3, 4, 5, 6]\n"
     ]
    }
   ],
   "source": [
    "lst = [1, 2, 3, 4, 5]\n",
    "lst.append(6)    \n",
    "print(lst)"
   ]
  },
  {
   "cell_type": "code",
   "execution_count": 17,
   "id": "3c34fafd",
   "metadata": {},
   "outputs": [
    {
     "name": "stdout",
     "output_type": "stream",
     "text": [
      "[1, 2, 4, 5, 6]\n"
     ]
    }
   ],
   "source": [
    "lst.remove(3)\n",
    "print(lst)"
   ]
  },
  {
   "cell_type": "code",
   "execution_count": 19,
   "id": "038c8540",
   "metadata": {},
   "outputs": [
    {
     "name": "stdout",
     "output_type": "stream",
     "text": [
      "[6, 5, 4, 2, 1]\n"
     ]
    }
   ],
   "source": [
    "lst[::-1]\n",
    "print(lst[::-1])"
   ]
  },
  {
   "cell_type": "code",
   "execution_count": null,
   "id": "dde29bb8",
   "metadata": {},
   "outputs": [],
   "source": []
  },
  {
   "cell_type": "code",
   "execution_count": 10,
   "id": "22ba719d",
   "metadata": {},
   "outputs": [],
   "source": []
  },
  {
   "cell_type": "code",
   "execution_count": null,
   "id": "6ca35b62",
   "metadata": {},
   "outputs": [],
   "source": []
  },
  {
   "cell_type": "code",
   "execution_count": 20,
   "id": "e6d7e407",
   "metadata": {},
   "outputs": [],
   "source": [
    "t = (1, 2, 3, 4, 5)"
   ]
  },
  {
   "cell_type": "code",
   "execution_count": 11,
   "id": "52b8055a",
   "metadata": {},
   "outputs": [
    {
     "data": {
      "text/plain": [
       "3"
      ]
     },
     "execution_count": 11,
     "metadata": {},
     "output_type": "execute_result"
    }
   ],
   "source": [
    "t[2]"
   ]
  },
  {
   "cell_type": "code",
   "execution_count": 12,
   "id": "7b7200b0",
   "metadata": {},
   "outputs": [
    {
     "data": {
      "text/plain": [
       "(2, 3, 4)"
      ]
     },
     "execution_count": 12,
     "metadata": {},
     "output_type": "execute_result"
    }
   ],
   "source": [
    "t[1:4]"
   ]
  },
  {
   "cell_type": "code",
   "execution_count": 13,
   "id": "79b7be44",
   "metadata": {},
   "outputs": [
    {
     "data": {
      "text/plain": [
       "True"
      ]
     },
     "execution_count": 13,
     "metadata": {},
     "output_type": "execute_result"
    }
   ],
   "source": [
    "3 in t"
   ]
  },
  {
   "cell_type": "markdown",
   "id": "84a7188b",
   "metadata": {},
   "source": [
    "=======================\n",
    "2. What is the output of the following code?\n",
    "```python\n",
    "lst = [1, 2, 3, 4, 5]\n",
    "lst[2] = 10\n",
    "print(lst)"
   ]
  },
  {
   "cell_type": "code",
   "execution_count": 21,
   "id": "1d01f364",
   "metadata": {},
   "outputs": [
    {
     "name": "stdout",
     "output_type": "stream",
     "text": [
      "[1, 2, 10, 4, 5]\n"
     ]
    }
   ],
   "source": [
    "lst = [1, 2, 3, 4, 5]\n",
    "lst[2] =10\n",
    "print(lst)"
   ]
  },
  {
   "cell_type": "markdown",
   "id": "94e36f01",
   "metadata": {},
   "source": [
    "============================="
   ]
  },
  {
   "cell_type": "markdown",
   "id": "8ba787b6",
   "metadata": {},
   "source": [
    "4. **Dictionary Operations**\n",
    "1. Given the dictionary `d = {\"name\": \"John\", \"age\": 25, \"city\": \"New York\"}`, writ\n",
    "1. Add a new key-value pair `\"email\": \"john@example.com\"`.\n",
    "2. Update the age to `26`.\n",
    "\n",
    "3. Remove the key `\"city\"`."
   ]
  },
  {
   "cell_type": "code",
   "execution_count": 32,
   "id": "887a7812",
   "metadata": {},
   "outputs": [
    {
     "name": "stdout",
     "output_type": "stream",
     "text": [
      "{'name': 'John', 'age': 25, 'city': 'New York', 'email': 'john@example.com'}\n"
     ]
    }
   ],
   "source": [
    "d = {\"name\": \"John\", \"age\": 25, \"city\": \"New York\"}\n",
    "d['email'] = \"john@example.com\"\n",
    "print(d)"
   ]
  },
  {
   "cell_type": "code",
   "execution_count": 33,
   "id": "dce4b66a",
   "metadata": {},
   "outputs": [
    {
     "name": "stdout",
     "output_type": "stream",
     "text": [
      "{'name': 'John', 'age': 26, 'city': 'New York', 'email': 'john@example.com'}\n"
     ]
    }
   ],
   "source": [
    "d['age' ] = 26\n",
    "print(d)"
   ]
  },
  {
   "cell_type": "code",
   "execution_count": 34,
   "id": "866afaab",
   "metadata": {},
   "outputs": [
    {
     "name": "stdout",
     "output_type": "stream",
     "text": [
      "{'name': 'John', 'age': 26, 'email': 'john@example.com'}\n"
     ]
    }
   ],
   "source": [
    "del d[\"city\"]\n",
    "print(d)"
   ]
  },
  {
   "cell_type": "markdown",
   "id": "aba1cd30",
   "metadata": {},
   "source": [
    "==============================\n",
    "2. What is the output of the following code?\n",
    "```python\n",
    "d = {\"a\": 1, \"b\": 2, \"c\": 3}\n",
    "print(d[\"b\"])\n",
    "d[\"d\"] = 4\n",
    "print(d)"
   ]
  },
  {
   "cell_type": "code",
   "execution_count": 35,
   "id": "54c01017",
   "metadata": {},
   "outputs": [],
   "source": [
    "d = {\"a\": 1, \"b\": 2, \"c\": 3} "
   ]
  },
  {
   "cell_type": "code",
   "execution_count": 36,
   "id": "52b32d18",
   "metadata": {},
   "outputs": [
    {
     "name": "stdout",
     "output_type": "stream",
     "text": [
      "{'a': 1, 'b': 2, 'c': 3}\n"
     ]
    }
   ],
   "source": [
    "d['b']\n",
    "print(d)"
   ]
  },
  {
   "cell_type": "code",
   "execution_count": 37,
   "id": "8573a5c9",
   "metadata": {},
   "outputs": [
    {
     "name": "stdout",
     "output_type": "stream",
     "text": [
      "{'a': 1, 'b': 2, 'c': 3, 'd': 4}\n"
     ]
    }
   ],
   "source": [
    "d[\"d\"] = 4 \n",
    "print(d)"
   ]
  },
  {
   "cell_type": "markdown",
   "id": "fc63ca1e",
   "metadata": {},
   "source": [
    "===========================\n"
   ]
  },
  {
   "cell_type": "markdown",
   "id": "aa4e91ac",
   "metadata": {},
   "source": [
    "5. **Tuple Operations**\n",
    "1. Given the tuple `t = (1, 2, 3, 4, 5)`, write the code to:\n",
    "1. Access the element at index `2`.\n",
    "2. Slice the tuple to get `(2, 3, 4)`.\n",
    "3. Check if the number `3` is in the tuple."
   ]
  },
  {
   "cell_type": "code",
   "execution_count": 38,
   "id": "130bb1f2",
   "metadata": {},
   "outputs": [
    {
     "data": {
      "text/plain": [
       "3"
      ]
     },
     "execution_count": 38,
     "metadata": {},
     "output_type": "execute_result"
    }
   ],
   "source": [
    "t = (1, 2, 3, 4, 5)\n",
    "t[2]"
   ]
  },
  {
   "cell_type": "code",
   "execution_count": 39,
   "id": "8212e732",
   "metadata": {},
   "outputs": [
    {
     "data": {
      "text/plain": [
       "(2, 3, 4)"
      ]
     },
     "execution_count": 39,
     "metadata": {},
     "output_type": "execute_result"
    }
   ],
   "source": [
    "t[1:4]"
   ]
  },
  {
   "cell_type": "code",
   "execution_count": 40,
   "id": "7e368a51",
   "metadata": {},
   "outputs": [
    {
     "data": {
      "text/plain": [
       "True"
      ]
     },
     "execution_count": 40,
     "metadata": {},
     "output_type": "execute_result"
    }
   ],
   "source": [
    "3 in t"
   ]
  },
  {
   "cell_type": "markdown",
   "id": "fa89adbe",
   "metadata": {},
   "source": [
    "=======================\n",
    "\n",
    "6. **Set Operations**\n",
    "1. Given the sets `set1 = {1, 2, 3}` and `set2 = {3, 4, 5}`, write the code to:\n",
    "1. Find the union of the two sets.\n",
    "2. Find the intersection of the two sets.\n",
    "3. Check if `set1` is a subset of `set2`."
   ]
  },
  {
   "cell_type": "code",
   "execution_count": 41,
   "id": "180d9ea4",
   "metadata": {},
   "outputs": [],
   "source": [
    "set1 = {1, 2, 3}\n",
    "set2 = {3, 4, 5}"
   ]
  },
  {
   "cell_type": "code",
   "execution_count": 42,
   "id": "2c0b0d03",
   "metadata": {},
   "outputs": [
    {
     "data": {
      "text/plain": [
       "{1, 2, 3, 4, 5}"
      ]
     },
     "execution_count": 42,
     "metadata": {},
     "output_type": "execute_result"
    }
   ],
   "source": [
    "set1 | set2"
   ]
  },
  {
   "cell_type": "code",
   "execution_count": 43,
   "id": "02c0d0d9",
   "metadata": {},
   "outputs": [
    {
     "data": {
      "text/plain": [
       "{3}"
      ]
     },
     "execution_count": 43,
     "metadata": {},
     "output_type": "execute_result"
    }
   ],
   "source": [
    "set1 & set2"
   ]
  },
  {
   "cell_type": "code",
   "execution_count": 46,
   "id": "2fbcc2a0",
   "metadata": {},
   "outputs": [
    {
     "data": {
      "text/plain": [
       "False"
      ]
     },
     "execution_count": 46,
     "metadata": {},
     "output_type": "execute_result"
    }
   ],
   "source": [
    "set1.issubset(set2)"
   ]
  },
  {
   "cell_type": "markdown",
   "id": "4f365162",
   "metadata": {},
   "source": [
    "==================\n"
   ]
  },
  {
   "cell_type": "code",
   "execution_count": 47,
   "id": "f27bb1cd",
   "metadata": {},
   "outputs": [
    {
     "name": "stdout",
     "output_type": "stream",
     "text": [
      "{3}\n"
     ]
    }
   ],
   "source": [
    "set1 = {1, 2, 3}\n",
    "set2 = {3, 4, 5}\n",
    "print(set1 & set2)"
   ]
  },
  {
   "cell_type": "code",
   "execution_count": null,
   "id": "0f328acb",
   "metadata": {},
   "outputs": [],
   "source": []
  }
 ],
 "metadata": {
  "kernelspec": {
   "display_name": "Python 3 (ipykernel)",
   "language": "python",
   "name": "python3"
  },
  "language_info": {
   "codemirror_mode": {
    "name": "ipython",
    "version": 3
   },
   "file_extension": ".py",
   "mimetype": "text/x-python",
   "name": "python",
   "nbconvert_exporter": "python",
   "pygments_lexer": "ipython3",
   "version": "3.11.5"
  }
 },
 "nbformat": 4,
 "nbformat_minor": 5
}
