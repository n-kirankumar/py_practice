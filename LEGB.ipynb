{
 "cells": [
  {
   "cell_type": "code",
   "execution_count": 2,
   "id": "bbf1fc16",
   "metadata": {},
   "outputs": [
    {
     "name": "stdout",
     "output_type": "stream",
     "text": [
      "10\n"
     ]
    }
   ],
   "source": [
    "def fun1():\n",
    "    a=10             #a is local\n",
    "    print (a)\n",
    "fun1()\n"
   ]
  },
  {
   "cell_type": "code",
   "execution_count": 1,
   "id": "0ce8c8bb",
   "metadata": {},
   "outputs": [
    {
     "name": "stdout",
     "output_type": "stream",
     "text": [
      "the value of a is 10 and b is 20 \n",
      "the value of a is 30 and b is 40\n"
     ]
    }
   ],
   "source": [
    "# LEGB\n",
    "\n",
    "#It takes Local values of variable\n",
    "\n",
    "\n",
    "def fun1():\n",
    "    a=10\n",
    "    b=20\n",
    "    print (f\"the value of a is {a} and b is {b} \")\n",
    "    def fun2():\n",
    "        a=30\n",
    "        b=40\n",
    "        print(f\"the value of a is {a} and b is {b}\")\n",
    "    fun2()\n",
    "fun1()\n"
   ]
  },
  {
   "cell_type": "code",
   "execution_count": 3,
   "id": "bc4ef9d6",
   "metadata": {},
   "outputs": [
    {
     "name": "stdout",
     "output_type": "stream",
     "text": [
      "power---> \n",
      " the value of a is 10\n",
      " the value of b is 3\n",
      " a power b is 1000\n",
      "addition---->\n",
      " the value of c is 2 \n",
      " the value of b is 10 \n",
      " and addition of c and a is 12\n",
      "substraction---->\n",
      " the value of a is 10\n",
      " & the value of b is 2\n",
      " and sub is 8 \n"
     ]
    }
   ],
   "source": [
    "\n",
    "a=10\n",
    "\n",
    "def powerFun():\n",
    "    b=3\n",
    "    print(\"power---> \\n the value of a is {}\\n the value of b is {}\\n a power b is {}\".format (a,b,a**b))\n",
    "    def addFun():\n",
    "        c=2\n",
    "        print(\"addition---->\\n the value of c is {} \\n the value of b is {} \\n and addition of c and a is {}\".format (c,a,c+a))\n",
    "        def subFun():\n",
    "            d=4\n",
    "            b=2\n",
    "            print(\"substraction---->\\n the value of a is {}\\n & the value of b is {}\\n and sub is {} \".format (a,b,a-b))\n",
    "        subFun()\n",
    "    addFun()\n",
    "powerFun()\n",
    "    "
   ]
  },
  {
   "cell_type": "code",
   "execution_count": 4,
   "id": "6633ff11",
   "metadata": {},
   "outputs": [
    {
     "name": "stdout",
     "output_type": "stream",
     "text": [
      "6\n",
      "3\n"
     ]
    }
   ],
   "source": [
    "#local ....Enclosing...\n",
    "\n",
    "b=3\n",
    "def addFun():\n",
    "    a=2 \n",
    "    print (b+3)\n",
    "    def subFun():\n",
    "        b=1\n",
    "        print(a+b)\n",
    "    subFun()\n",
    "    \n",
    "addFun()"
   ]
  },
  {
   "cell_type": "code",
   "execution_count": 5,
   "id": "e87defdb",
   "metadata": {},
   "outputs": [
    {
     "name": "stdout",
     "output_type": "stream",
     "text": [
      "x is 10\n",
      "y is 20\n"
     ]
    }
   ],
   "source": [
    "## GLOBAL\n",
    "\n",
    "x = 10\n",
    "y = 20\n",
    "\n",
    "def f1():\n",
    "    print(f\"x is {x}\")\n",
    "    print(f\"y is {y}\")\n",
    "f1()"
   ]
  },
  {
   "cell_type": "code",
   "execution_count": 14,
   "id": "58ac3baa",
   "metadata": {},
   "outputs": [
    {
     "name": "stdout",
     "output_type": "stream",
     "text": [
      "a is 100\n",
      "a is 100\n",
      "a is 50\n",
      "a is 300\n"
     ]
    }
   ],
   "source": [
    "a = 100\n",
    "def f1():\n",
    "    print(f\"a is {a}\")\n",
    "    \n",
    "    def f2():\n",
    "        print(f\"a is {a}\")\n",
    "        \n",
    "        def f3():\n",
    "            a = 50 \n",
    "            print(f\"a is {a}\")\n",
    "\n",
    "            a = 300\n",
    "            print(f\"a is {a}\")\n",
    "        f3()\n",
    "    f2()\n",
    "f1()\n"
   ]
  },
  {
   "cell_type": "code",
   "execution_count": null,
   "id": "85fb1bc5",
   "metadata": {},
   "outputs": [],
   "source": []
  }
 ],
 "metadata": {
  "kernelspec": {
   "display_name": "Python 3 (ipykernel)",
   "language": "python",
   "name": "python3"
  },
  "language_info": {
   "codemirror_mode": {
    "name": "ipython",
    "version": 3
   },
   "file_extension": ".py",
   "mimetype": "text/x-python",
   "name": "python",
   "nbconvert_exporter": "python",
   "pygments_lexer": "ipython3",
   "version": "3.11.5"
  }
 },
 "nbformat": 4,
 "nbformat_minor": 5
}
