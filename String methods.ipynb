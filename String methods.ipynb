{
 "cells": [
  {
   "cell_type": "markdown",
   "id": "87cb0b3c",
   "metadata": {},
   "source": [
    " ### 1 . Count all letters, digits, and special symbols from a given string"
   ]
  },
  {
   "cell_type": "code",
   "execution_count": 2,
   "id": "234d544d",
   "metadata": {},
   "outputs": [
    {
     "name": "stdout",
     "output_type": "stream",
     "text": [
      "8 3 4\n"
     ]
    }
   ],
   "source": [
    "str1 = \"P@#yn26at^&i5ve\"\n",
    "\n",
    "letters = 0\n",
    "digits = 0\n",
    "special = 0\n",
    "\n",
    "for i in str1:\n",
    "    if i.isalpha():\n",
    "        letters += 1\n",
    "    elif i.isdigit():\n",
    "        digits += 1\n",
    "    else:\n",
    "        special += 1 \n",
    "print(letters , digits ,special)\n",
    "    "
   ]
  },
  {
   "cell_type": "code",
   "execution_count": 3,
   "id": "d31773c7",
   "metadata": {},
   "outputs": [
    {
     "data": {
      "text/plain": [
       "(8, 3, 4)"
      ]
     },
     "execution_count": 3,
     "metadata": {},
     "output_type": "execute_result"
    }
   ],
   "source": [
    "# write in function \n",
    "\n",
    "def count_letters_digits_special(string):\n",
    "    letters = 0\n",
    "    digits = 0\n",
    "    special = 0\n",
    "\n",
    "    for i in str1:\n",
    "        if i.isalpha():\n",
    "            letters += 1\n",
    "        elif i.isdigit():\n",
    "            digits += 1\n",
    "        else:\n",
    "            special += 1 \n",
    "    return letters ,digits ,special\n",
    "\n",
    "count_letters_digits_special(\"P@#yn26at^&i5ve\")\n",
    "    "
   ]
  },
  {
   "cell_type": "markdown",
   "id": "5d5c392b",
   "metadata": {},
   "source": [
    "### 2.  Find all occurrences of a substring in a given string by ignoring the case\n"
   ]
  },
  {
   "cell_type": "code",
   "execution_count": 13,
   "id": "8bdfe130",
   "metadata": {},
   "outputs": [
    {
     "name": "stdout",
     "output_type": "stream",
     "text": [
      "no of times usa in string is : 1\n"
     ]
    }
   ],
   "source": [
    "# Write a program to find all occurrences of “USA” in a given string ignoring the case.\n",
    "\n",
    "str1 = \"Welcome to USA. usa awesome, isn't it?\"\n",
    "\n",
    "res = 0 \n",
    "\n",
    "#a = 'USA'.lower().count(\"USA\".lower())\n",
    "\n",
    "if str1.count('usa'.upper()):\n",
    "    res += 1\n",
    "    \n",
    "elif str1.count( 'USA'.lower()):\n",
    "    res += 1\n",
    "print(f'no of times usa in string is : {res}')"
   ]
  },
  {
   "cell_type": "code",
   "execution_count": 16,
   "id": "df203ef9",
   "metadata": {},
   "outputs": [
    {
     "name": "stdout",
     "output_type": "stream",
     "text": [
      "The USA count is: 2\n"
     ]
    }
   ],
   "source": [
    "str1 = \"Welcome to USA. usa awesome, isn't it?\"\n",
    "sub_string = \"USA\"\n",
    "\n",
    "# convert string to lowercase\n",
    "temp_str = str1.lower()\n",
    "\n",
    "# use count function\n",
    "count = temp_str.count(sub_string.lower())\n",
    "print(\"The USA count is:\", count)\n"
   ]
  },
  {
   "cell_type": "code",
   "execution_count": 17,
   "id": "e8093ef3",
   "metadata": {},
   "outputs": [
    {
     "data": {
      "text/plain": [
       "2"
      ]
     },
     "execution_count": 17,
     "metadata": {},
     "output_type": "execute_result"
    }
   ],
   "source": [
    "str1 = \"Welcome to USA. usa awesome, isn't it?\"\n",
    "\n",
    "#entire string to lower case and use count method\n",
    "a = str1.lower().count(\"USA\".lower())\n",
    "a"
   ]
  },
  {
   "cell_type": "markdown",
   "id": "3d50623b",
   "metadata": {},
   "source": [
    "### 3 . Write a Python program to remove multiple spaces from a string."
   ]
  },
  {
   "cell_type": "code",
   "execution_count": 3,
   "id": "27fec5e8",
   "metadata": {},
   "outputs": [
    {
     "data": {
      "text/plain": [
       "['hello', 'good', 'morning', 'all', 'of', 'you']"
      ]
     },
     "execution_count": 3,
     "metadata": {},
     "output_type": "execute_result"
    }
   ],
   "source": [
    "str1 = 'hello good morning all of you '\n",
    "\n",
    "str1.split()"
   ]
  },
  {
   "cell_type": "code",
   "execution_count": 4,
   "id": "e7634fb3",
   "metadata": {},
   "outputs": [
    {
     "data": {
      "text/plain": [
       "'hello good morning all of you'"
      ]
     },
     "execution_count": 4,
     "metadata": {},
     "output_type": "execute_result"
    }
   ],
   "source": [
    "' '.join(str1.split())"
   ]
  },
  {
   "cell_type": "code",
   "execution_count": null,
   "id": "e141d9ac",
   "metadata": {},
   "outputs": [],
   "source": [
    "\n"
   ]
  },
  {
   "cell_type": "code",
   "execution_count": null,
   "id": "58a551a0",
   "metadata": {},
   "outputs": [],
   "source": []
  }
 ],
 "metadata": {
  "kernelspec": {
   "display_name": "Python 3 (ipykernel)",
   "language": "python",
   "name": "python3"
  },
  "language_info": {
   "codemirror_mode": {
    "name": "ipython",
    "version": 3
   },
   "file_extension": ".py",
   "mimetype": "text/x-python",
   "name": "python",
   "nbconvert_exporter": "python",
   "pygments_lexer": "ipython3",
   "version": "3.11.5"
  }
 },
 "nbformat": 4,
 "nbformat_minor": 5
}
