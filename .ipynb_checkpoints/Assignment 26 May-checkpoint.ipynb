{
 "cells": [
  {
   "cell_type": "code",
   "execution_count": 1,
   "id": "713694a4",
   "metadata": {},
   "outputs": [
    {
     "name": "stdout",
     "output_type": "stream",
     "text": [
      "<class 'int'> <class 'float'> <class 'str'>\n"
     ]
    }
   ],
   "source": [
    "## 1. What is the output of the following code?\n",
    "## ```python\n",
    "a = 10\n",
    "b = 2.5\n",
    "c = \"Hello\"\n",
    "print(type(a), type(b), type(c))"
   ]
  },
  {
   "cell_type": "code",
   "execution_count": 2,
   "id": "2651fbc6",
   "metadata": {},
   "outputs": [],
   "source": [
    "## 2 2. Convert the following to integers:\n",
    "## ```python\n",
    "x = \"123\"\n",
    "y = 45.67"
   ]
  },
  {
   "cell_type": "code",
   "execution_count": 3,
   "id": "40dab6ad",
   "metadata": {},
   "outputs": [
    {
     "name": "stdout",
     "output_type": "stream",
     "text": [
      "123\n",
      "45\n"
     ]
    }
   ],
   "source": [
    "print(int('123'))\n",
    "print(int(45.67))"
   ]
  },
  {
   "cell_type": "code",
   "execution_count": 4,
   "id": "b37021c7",
   "metadata": {},
   "outputs": [],
   "source": [
    "# 3. What is the difference between `int` and `float` in Python?"
   ]
  },
  {
   "cell_type": "markdown",
   "id": "44db89bf",
   "metadata": {},
   "source": [
    "2. **String Manipulation**\n",
    "1. Given the string `s = \"Python Programming\"`, write the code to:\n",
    "1. Extract the word \"Python\".\n",
    "2. Convert the entire string to uppercase.\n",
    "3. Replace the word \"Programming\" with \"Language\"."
   ]
  },
  {
   "cell_type": "code",
   "execution_count": 6,
   "id": "508f12ec",
   "metadata": {},
   "outputs": [
    {
     "data": {
      "text/plain": [
       "'PYTHON PROGRAMMING'"
      ]
     },
     "execution_count": 6,
     "metadata": {},
     "output_type": "execute_result"
    }
   ],
   "source": [
    "s = \"Python Programming\"\n",
    "\n",
    "s.upper()"
   ]
  },
  {
   "cell_type": "code",
   "execution_count": 7,
   "id": "8147a50b",
   "metadata": {},
   "outputs": [
    {
     "data": {
      "text/plain": [
       "'Python Language'"
      ]
     },
     "execution_count": 7,
     "metadata": {},
     "output_type": "execute_result"
    }
   ],
   "source": [
    "s.replace('Programming','Language')"
   ]
  },
  {
   "cell_type": "code",
   "execution_count": 8,
   "id": "fdcf0070",
   "metadata": {},
   "outputs": [
    {
     "name": "stdout",
     "output_type": "stream",
     "text": [
      "W\n",
      "!\n",
      "Hello\n"
     ]
    }
   ],
   "source": [
    "#2. What is the output of the following code?\n",
    "#```python\n",
    "s = \"Hello, World!\"\n",
    "print(s[7])\n",
    "print(s[-1])\n",
    "print(s[0:5])"
   ]
  },
  {
   "cell_type": "markdown",
   "id": "d75cd481",
   "metadata": {},
   "source": [
    "#3. **List Operations**\n",
    "#1. Given the list `\n",
    "lst = [1, 2, 3, 4, 5]`, write the code to:\n",
    "1. Append the number `6` to the list.\n",
    "2. Remove the number `3` from the list.\n",
    "3. Reverse the list."
   ]
  },
  {
   "cell_type": "code",
   "execution_count": null,
   "id": "371cb7c4",
   "metadata": {},
   "outputs": [],
   "source": []
  },
  {
   "cell_type": "code",
   "execution_count": 9,
   "id": "3a077daf",
   "metadata": {},
   "outputs": [],
   "source": [
    "lst = [1, 2, 3, 4, 5]"
   ]
  },
  {
   "cell_type": "code",
   "execution_count": null,
   "id": "63ea4102",
   "metadata": {},
   "outputs": [],
   "source": []
  },
  {
   "cell_type": "code",
   "execution_count": 10,
   "id": "5f0aa4cf",
   "metadata": {},
   "outputs": [],
   "source": [
    "t = (1, 2, 3, 4, 5)"
   ]
  },
  {
   "cell_type": "code",
   "execution_count": 11,
   "id": "fb8fea8a",
   "metadata": {},
   "outputs": [
    {
     "data": {
      "text/plain": [
       "3"
      ]
     },
     "execution_count": 11,
     "metadata": {},
     "output_type": "execute_result"
    }
   ],
   "source": [
    "t[2]"
   ]
  },
  {
   "cell_type": "code",
   "execution_count": 12,
   "id": "b250211d",
   "metadata": {},
   "outputs": [
    {
     "data": {
      "text/plain": [
       "(2, 3, 4)"
      ]
     },
     "execution_count": 12,
     "metadata": {},
     "output_type": "execute_result"
    }
   ],
   "source": [
    "t[1:4]"
   ]
  },
  {
   "cell_type": "code",
   "execution_count": 13,
   "id": "0409180b",
   "metadata": {},
   "outputs": [
    {
     "data": {
      "text/plain": [
       "True"
      ]
     },
     "execution_count": 13,
     "metadata": {},
     "output_type": "execute_result"
    }
   ],
   "source": [
    "3 in t"
   ]
  },
  {
   "cell_type": "code",
   "execution_count": null,
   "id": "72719971",
   "metadata": {},
   "outputs": [],
   "source": []
  }
 ],
 "metadata": {
  "kernelspec": {
   "display_name": "Python 3 (ipykernel)",
   "language": "python",
   "name": "python3"
  },
  "language_info": {
   "codemirror_mode": {
    "name": "ipython",
    "version": 3
   },
   "file_extension": ".py",
   "mimetype": "text/x-python",
   "name": "python",
   "nbconvert_exporter": "python",
   "pygments_lexer": "ipython3",
   "version": "3.11.5"
  }
 },
 "nbformat": 4,
 "nbformat_minor": 5
}
