{
 "cells": [
  {
   "cell_type": "markdown",
   "id": "f9084fd5",
   "metadata": {},
   "source": [
    "- 1. Write a Python program to find those numbers which are divisible by 7 and multiples of 5, between 1500 and 2700 (both included)."
   ]
  },
  {
   "cell_type": "code",
   "execution_count": 1,
   "id": "1584a465",
   "metadata": {},
   "outputs": [
    {
     "name": "stdout",
     "output_type": "stream",
     "text": [
      "[1505, 1540, 1575, 1610, 1645, 1680, 1715, 1750, 1785, 1820, 1855, 1890, 1925, 1960, 1995, 2030, 2065, 2100, 2135, 2170, 2205, 2240, 2275, 2310, 2345, 2380, 2415, 2450, 2485, 2520, 2555, 2590, 2625, 2660, 2695]\n"
     ]
    }
   ],
   "source": [
    "a = []\n",
    "for i in range (1500,2701):\n",
    "    if i % 7 == 0 and i % 5 == 0:\n",
    "        a.append(i)\n",
    "print(a)"
   ]
  },
  {
   "cell_type": "markdown",
   "id": "32527da9",
   "metadata": {},
   "source": [
    "- 2. Write a Python program to convert temperatures to and from Celsius and Fahrenheit.\n"
   ]
  },
  {
   "cell_type": "code",
   "execution_count": 8,
   "id": "09f975fe",
   "metadata": {},
   "outputs": [
    {
     "name": "stdout",
     "output_type": "stream",
     "text": [
      "enter celcius value to convert : 100\n"
     ]
    },
    {
     "data": {
      "text/plain": [
       "212.0"
      ]
     },
     "execution_count": 8,
     "metadata": {},
     "output_type": "execute_result"
    }
   ],
   "source": [
    "def c_to_f(a):\n",
    "    f  = ((c/5) * 9) + 32\n",
    "    return   f\n",
    "\n",
    "c = int(input('enter celcius value to convert : '))\n",
    "c_to_f(c)"
   ]
  },
  {
   "cell_type": "markdown",
   "id": "25c52def",
   "metadata": {},
   "source": [
    "- Write a Python program to count the number of even and odd numbers in a series of numbers\n",
    "    - Sample numbers : numbers = (1, 2, 3, 4, 5, 6, 7, 8, 9) \n",
    "    - Expected Output :\n",
    "    - Number of even numbers : 5\n",
    "    - Number of odd numbers : 4"
   ]
  },
  {
   "cell_type": "code",
   "execution_count": 10,
   "id": "4acf2a71",
   "metadata": {},
   "outputs": [
    {
     "name": "stdout",
     "output_type": "stream",
     "text": [
      "[2, 4, 6, 8]\n"
     ]
    }
   ],
   "source": [
    "numbers = [ 1, 2, 3, 4, 5, 6, 7, 8, 9 ]\n",
    "even_list = []\n",
    "odd_list = []\n",
    "\n",
    "for i in numbers:\n",
    "    if i %2 ==0 :\n",
    "        even_list.append(i)\n",
    "    else:\n",
    "        odd_list.append(i)\n",
    "print(even_list)"
   ]
  },
  {
   "cell_type": "markdown",
   "id": "56f64aa5",
   "metadata": {},
   "source": [
    "- 7. Write a Python program that prints each item and its corresponding type from the following list.\n",
    "    - Sample List : datalist = [1452, 11.23, 1+2j, True, 'w3resource', (0, -1), [5, 12], {\"class\":'V', \"section\":'A'}]"
   ]
  },
  {
   "cell_type": "code",
   "execution_count": 11,
   "id": "d0a170be",
   "metadata": {},
   "outputs": [
    {
     "name": "stdout",
     "output_type": "stream",
     "text": [
      "1452 <class 'int'>\n",
      "11.23 <class 'float'>\n",
      "(1+2j) <class 'complex'>\n",
      "True <class 'bool'>\n",
      "w3resource <class 'str'>\n",
      "(0, -1) <class 'tuple'>\n",
      "[5, 12] <class 'list'>\n",
      "{'class': 'V', 'section': 'A'} <class 'dict'>\n"
     ]
    }
   ],
   "source": [
    "datalist = [1452, 11.23, 1+2j, True, 'w3resource', (0, -1), [5, 12], {\"class\":'V', \"section\":'A'}]\n",
    "for i in datalist :\n",
    "    print(i ,type (i))\n",
    "    \n",
    "    "
   ]
  },
  {
   "cell_type": "markdown",
   "id": "4785351e",
   "metadata": {},
   "source": [
    "- 8. Write a Python program that prints all the numbers from 0 to 6 except 3 and 6."
   ]
  },
  {
   "cell_type": "code",
   "execution_count": 18,
   "id": "32108e7a",
   "metadata": {},
   "outputs": [
    {
     "name": "stdout",
     "output_type": "stream",
     "text": [
      "0 1 2 4 5 "
     ]
    }
   ],
   "source": [
    "# 0 1 2 3 4 5 6\n",
    "# 0 1 2 4 5 \n",
    "for i in range(7):\n",
    "    if i == 3:\n",
    "        continue\n",
    "    if i == 6:\n",
    "        continue\n",
    "    print(i ,end = ' ')    "
   ]
  },
  {
   "cell_type": "code",
   "execution_count": null,
   "id": "e4fe49e8",
   "metadata": {},
   "outputs": [],
   "source": []
  }
 ],
 "metadata": {
  "kernelspec": {
   "display_name": "Python 3 (ipykernel)",
   "language": "python",
   "name": "python3"
  },
  "language_info": {
   "codemirror_mode": {
    "name": "ipython",
    "version": 3
   },
   "file_extension": ".py",
   "mimetype": "text/x-python",
   "name": "python",
   "nbconvert_exporter": "python",
   "pygments_lexer": "ipython3",
   "version": "3.11.5"
  }
 },
 "nbformat": 4,
 "nbformat_minor": 5
}
