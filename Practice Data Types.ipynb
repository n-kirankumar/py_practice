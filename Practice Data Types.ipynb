{
 "cells": [
  {
   "cell_type": "markdown",
   "id": "e7296e3d",
   "metadata": {},
   "source": [
    "## List Methods"
   ]
  },
  {
   "cell_type": "code",
   "execution_count": 1,
   "id": "8e62a5f8",
   "metadata": {},
   "outputs": [
    {
     "data": {
      "text/plain": [
       "1"
      ]
     },
     "execution_count": 1,
     "metadata": {},
     "output_type": "execute_result"
    }
   ],
   "source": [
    "a = [1,2,3,4]\n",
    "a[0]"
   ]
  },
  {
   "cell_type": "code",
   "execution_count": 2,
   "id": "26758d57",
   "metadata": {},
   "outputs": [
    {
     "data": {
      "text/plain": [
       "4"
      ]
     },
     "execution_count": 2,
     "metadata": {},
     "output_type": "execute_result"
    }
   ],
   "source": [
    "a[-1]"
   ]
  },
  {
   "cell_type": "code",
   "execution_count": 3,
   "id": "e8ae864b",
   "metadata": {},
   "outputs": [
    {
     "data": {
      "text/plain": [
       "[1, 2, 3, 4]"
      ]
     },
     "execution_count": 3,
     "metadata": {},
     "output_type": "execute_result"
    }
   ],
   "source": [
    "a[:]"
   ]
  },
  {
   "cell_type": "code",
   "execution_count": 4,
   "id": "22821f60",
   "metadata": {},
   "outputs": [
    {
     "data": {
      "text/plain": [
       "[2, 3]"
      ]
     },
     "execution_count": 4,
     "metadata": {},
     "output_type": "execute_result"
    }
   ],
   "source": [
    "a[1:3:1]"
   ]
  },
  {
   "cell_type": "code",
   "execution_count": 5,
   "id": "2ad0de92",
   "metadata": {},
   "outputs": [
    {
     "data": {
      "text/plain": [
       "[1]"
      ]
     },
     "execution_count": 5,
     "metadata": {},
     "output_type": "execute_result"
    }
   ],
   "source": [
    "a[0:3:3]"
   ]
  },
  {
   "cell_type": "markdown",
   "id": "85e93c48",
   "metadata": {},
   "source": [
    "- List Methods\n",
    "    - .append()\n",
    "    - .extend()\n",
    "    - .index()"
   ]
  },
  {
   "cell_type": "code",
   "execution_count": 7,
   "id": "e7d19bf0",
   "metadata": {},
   "outputs": [
    {
     "data": {
      "text/plain": [
       "[1, 2, 3, 4, 5, 6]"
      ]
     },
     "execution_count": 7,
     "metadata": {},
     "output_type": "execute_result"
    }
   ],
   "source": [
    "a = [1,2,3,4,5]\n",
    "a.append(6)\n",
    "a"
   ]
  },
  {
   "cell_type": "code",
   "execution_count": 8,
   "id": "f6f4e3d3",
   "metadata": {},
   "outputs": [
    {
     "data": {
      "text/plain": [
       "[1, 2, 3, 4, 5, 6, 7, 8, 9, 10]"
      ]
     },
     "execution_count": 8,
     "metadata": {},
     "output_type": "execute_result"
    }
   ],
   "source": [
    "a.extend([7,8,9,10])\n",
    "a"
   ]
  },
  {
   "cell_type": "code",
   "execution_count": 9,
   "id": "a3c4629f",
   "metadata": {},
   "outputs": [
    {
     "data": {
      "text/plain": [
       "[1, 2, 3, 4, 5, 7, 8, 9, 10]"
      ]
     },
     "execution_count": 9,
     "metadata": {},
     "output_type": "execute_result"
    }
   ],
   "source": [
    "a.remove(6)\n",
    "a"
   ]
  },
  {
   "cell_type": "code",
   "execution_count": 10,
   "id": "1c9f1d73",
   "metadata": {},
   "outputs": [
    {
     "data": {
      "text/plain": [
       "[1, 2, 3, 4, 5, 6, 7, 8, 9, 10]"
      ]
     },
     "execution_count": 10,
     "metadata": {},
     "output_type": "execute_result"
    }
   ],
   "source": [
    "a.insert(5,6)\n",
    "a"
   ]
  },
  {
   "cell_type": "code",
   "execution_count": 11,
   "id": "07daff61",
   "metadata": {},
   "outputs": [
    {
     "data": {
      "text/plain": [
       "[1, 2, 3, 4, 5, 6, 7, 8, 9]"
      ]
     },
     "execution_count": 11,
     "metadata": {},
     "output_type": "execute_result"
    }
   ],
   "source": [
    "a.pop()   #deletes last item\n",
    "a"
   ]
  },
  {
   "cell_type": "code",
   "execution_count": 12,
   "id": "0212d82b",
   "metadata": {},
   "outputs": [
    {
     "data": {
      "text/plain": [
       "[2, 3, 4, 5, 6, 7, 8, 9]"
      ]
     },
     "execution_count": 12,
     "metadata": {},
     "output_type": "execute_result"
    }
   ],
   "source": [
    "a.pop(0)  # deletes by index number\n",
    "a"
   ]
  },
  {
   "cell_type": "code",
   "execution_count": 13,
   "id": "5eda3045",
   "metadata": {},
   "outputs": [
    {
     "data": {
      "text/plain": [
       "[2, 3, 4, 5, 6, 7, 8]"
      ]
     },
     "execution_count": 13,
     "metadata": {},
     "output_type": "execute_result"
    }
   ],
   "source": [
    "a.remove(9)  # removes by item\n",
    "a"
   ]
  },
  {
   "cell_type": "code",
   "execution_count": 14,
   "id": "83147576",
   "metadata": {},
   "outputs": [
    {
     "data": {
      "text/plain": [
       "[2, 3, 4, 5, 6, 7, 8]"
      ]
     },
     "execution_count": 14,
     "metadata": {},
     "output_type": "execute_result"
    }
   ],
   "source": [
    "a.sort()\n",
    "a"
   ]
  },
  {
   "cell_type": "code",
   "execution_count": 15,
   "id": "1a890cf4",
   "metadata": {},
   "outputs": [
    {
     "data": {
      "text/plain": [
       "[8, 7, 6, 5, 4, 3, 2]"
      ]
     },
     "execution_count": 15,
     "metadata": {},
     "output_type": "execute_result"
    }
   ],
   "source": [
    "a.sort(reverse = True)\n",
    "a"
   ]
  },
  {
   "cell_type": "code",
   "execution_count": 16,
   "id": "53d6b692",
   "metadata": {},
   "outputs": [
    {
     "data": {
      "text/plain": [
       "[8, 7, 6, 5, 4, 3, 2]"
      ]
     },
     "execution_count": 16,
     "metadata": {},
     "output_type": "execute_result"
    }
   ],
   "source": [
    "a[::-1]\n",
    "a"
   ]
  },
  {
   "cell_type": "code",
   "execution_count": 17,
   "id": "dbbc0b2a",
   "metadata": {},
   "outputs": [
    {
     "data": {
      "text/plain": [
       "[8, 7, 6, 5, 4, 3, 2]"
      ]
     },
     "execution_count": 17,
     "metadata": {},
     "output_type": "execute_result"
    }
   ],
   "source": [
    "a"
   ]
  },
  {
   "cell_type": "code",
   "execution_count": 18,
   "id": "7552b9b1",
   "metadata": {},
   "outputs": [
    {
     "data": {
      "text/plain": [
       "dict"
      ]
     },
     "execution_count": 18,
     "metadata": {},
     "output_type": "execute_result"
    }
   ],
   "source": [
    "d1 = {}\n",
    "type(d1)"
   ]
  },
  {
   "cell_type": "code",
   "execution_count": 19,
   "id": "09bef305",
   "metadata": {},
   "outputs": [
    {
     "data": {
      "text/plain": [
       "{'k1': 'v1', 'k2': 'v2', 'k3': 'v3'}"
      ]
     },
     "execution_count": 19,
     "metadata": {},
     "output_type": "execute_result"
    }
   ],
   "source": [
    "d1 = {'k1' : 'v1', 'k2' : 'v2', 'k3' : 'v3'}\n",
    "d1\n"
   ]
  },
  {
   "cell_type": "code",
   "execution_count": 20,
   "id": "5d93db7f",
   "metadata": {},
   "outputs": [
    {
     "data": {
      "text/plain": [
       "dict_keys(['k1', 'k2', 'k3'])"
      ]
     },
     "execution_count": 20,
     "metadata": {},
     "output_type": "execute_result"
    }
   ],
   "source": [
    "d1.keys()"
   ]
  },
  {
   "cell_type": "code",
   "execution_count": 21,
   "id": "fc3b976b",
   "metadata": {},
   "outputs": [
    {
     "data": {
      "text/plain": [
       "dict_values(['v1', 'v2', 'v3'])"
      ]
     },
     "execution_count": 21,
     "metadata": {},
     "output_type": "execute_result"
    }
   ],
   "source": [
    "d1.values()"
   ]
  },
  {
   "cell_type": "code",
   "execution_count": 22,
   "id": "fe290be7",
   "metadata": {},
   "outputs": [
    {
     "data": {
      "text/plain": [
       "dict_items([('k1', 'v1'), ('k2', 'v2'), ('k3', 'v3')])"
      ]
     },
     "execution_count": 22,
     "metadata": {},
     "output_type": "execute_result"
    }
   ],
   "source": [
    "d1.items()"
   ]
  },
  {
   "cell_type": "markdown",
   "id": "fe13b029",
   "metadata": {},
   "source": [
    "### Arithmatic Operator\n",
    "    - + - * / % // **"
   ]
  },
  {
   "cell_type": "code",
   "execution_count": 21,
   "id": "3d7b6446",
   "metadata": {},
   "outputs": [
    {
     "name": "stdout",
     "output_type": "stream",
     "text": [
      "enter your first number : 10\n",
      "enter your second number : 5\n"
     ]
    }
   ],
   "source": [
    "num1 = int(input('enter your first number : '))\n",
    "num2 = int(input('enter your second number : '))"
   ]
  },
  {
   "cell_type": "code",
   "execution_count": 22,
   "id": "564ccfb1",
   "metadata": {},
   "outputs": [
    {
     "name": "stdout",
     "output_type": "stream",
     "text": [
      "addition of 10 and 5 is 15\n"
     ]
    }
   ],
   "source": [
    "print(f\"addition of {num1} and {num2} is {num1 + num2}\")"
   ]
  },
  {
   "cell_type": "code",
   "execution_count": 23,
   "id": "e03c0dd6",
   "metadata": {},
   "outputs": [
    {
     "name": "stdout",
     "output_type": "stream",
     "text": [
      "subtraction of 10 and 5 is 5\n"
     ]
    }
   ],
   "source": [
    "print(f\"subtraction of {num1} and {num2} is {num1 - num2}\")"
   ]
  },
  {
   "cell_type": "code",
   "execution_count": 24,
   "id": "1025561d",
   "metadata": {},
   "outputs": [
    {
     "name": "stdout",
     "output_type": "stream",
     "text": [
      "multiplication of 10 and 5 is 50\n"
     ]
    }
   ],
   "source": [
    "print(f\"multiplication of {num1} and {num2} is {num1 * num2}\")"
   ]
  },
  {
   "cell_type": "code",
   "execution_count": 25,
   "id": "3314368b",
   "metadata": {},
   "outputs": [
    {
     "name": "stdout",
     "output_type": "stream",
     "text": [
      "division of 10 and 5 is 2.0\n"
     ]
    }
   ],
   "source": [
    "print(f\"division of {num1} and {num2} is {num1 / num2}\")"
   ]
  },
  {
   "cell_type": "code",
   "execution_count": 26,
   "id": "a8351a71",
   "metadata": {},
   "outputs": [
    {
     "name": "stdout",
     "output_type": "stream",
     "text": [
      "power of 10 and 5 is 100000\n"
     ]
    }
   ],
   "source": [
    "print(f\"power of {num1} and {num2} is {num1 ** num2}\")"
   ]
  },
  {
   "cell_type": "code",
   "execution_count": 27,
   "id": "8861e7e4",
   "metadata": {},
   "outputs": [
    {
     "name": "stdout",
     "output_type": "stream",
     "text": [
      "floor division of 10 and 5 is 2\n"
     ]
    }
   ],
   "source": [
    "print(f\"floor division of {num1} and {num2} is {num1 // num2}\")"
   ]
  },
  {
   "cell_type": "code",
   "execution_count": 28,
   "id": "038a6b59",
   "metadata": {},
   "outputs": [
    {
     "name": "stdout",
     "output_type": "stream",
     "text": [
      "remainder  of 10 and 5 is 0\n"
     ]
    }
   ],
   "source": [
    "print(f\"remainder  of {num1} and {num2} is {num1 % num2}\")"
   ]
  },
  {
   "cell_type": "markdown",
   "id": "c4c72e37",
   "metadata": {},
   "source": [
    "## Comparision  operators"
   ]
  },
  {
   "cell_type": "code",
   "execution_count": 6,
   "id": "5d292c3b",
   "metadata": {},
   "outputs": [],
   "source": [
    "a = 5\n",
    "b = 6\n",
    "c = 7"
   ]
  },
  {
   "cell_type": "code",
   "execution_count": 24,
   "id": "6dfa3d71",
   "metadata": {},
   "outputs": [
    {
     "data": {
      "text/plain": [
       "True"
      ]
     },
     "execution_count": 24,
     "metadata": {},
     "output_type": "execute_result"
    }
   ],
   "source": [
    "a < b"
   ]
  },
  {
   "cell_type": "code",
   "execution_count": 25,
   "id": "fa448042",
   "metadata": {},
   "outputs": [
    {
     "data": {
      "text/plain": [
       "True"
      ]
     },
     "execution_count": 25,
     "metadata": {},
     "output_type": "execute_result"
    }
   ],
   "source": [
    "a < c"
   ]
  },
  {
   "cell_type": "markdown",
   "id": "20e4d9ae",
   "metadata": {},
   "source": [
    "## Logical Operators\n",
    "- and : True if all are True\n",
    "- or : True if at least one is True\n",
    "- not : Opposite"
   ]
  },
  {
   "cell_type": "code",
   "execution_count": 26,
   "id": "2e8ab803",
   "metadata": {},
   "outputs": [
    {
     "data": {
      "text/plain": [
       "True"
      ]
     },
     "execution_count": 26,
     "metadata": {},
     "output_type": "execute_result"
    }
   ],
   "source": [
    "a < b and a < c           # True and True"
   ]
  },
  {
   "cell_type": "code",
   "execution_count": 27,
   "id": "8245fbf5",
   "metadata": {},
   "outputs": [
    {
     "data": {
      "text/plain": [
       "False"
      ]
     },
     "execution_count": 27,
     "metadata": {},
     "output_type": "execute_result"
    }
   ],
   "source": [
    "a < b and a > c          # True and False"
   ]
  },
  {
   "cell_type": "markdown",
   "id": "3fcd0b63",
   "metadata": {},
   "source": [
    "## Control Operators"
   ]
  },
  {
   "cell_type": "code",
   "execution_count": 28,
   "id": "b519c6b6",
   "metadata": {},
   "outputs": [
    {
     "data": {
      "text/plain": [
       "range(0, 5)"
      ]
     },
     "execution_count": 28,
     "metadata": {},
     "output_type": "execute_result"
    }
   ],
   "source": [
    "range(0,5,1)"
   ]
  },
  {
   "cell_type": "code",
   "execution_count": 29,
   "id": "66ec64e6",
   "metadata": {},
   "outputs": [
    {
     "name": "stdout",
     "output_type": "stream",
     "text": [
      "0\n",
      "1\n",
      "2\n",
      "3\n",
      "4\n"
     ]
    }
   ],
   "source": [
    "for i in range (5):\n",
    "    print(i)"
   ]
  },
  {
   "cell_type": "code",
   "execution_count": 30,
   "id": "b7ebc807",
   "metadata": {},
   "outputs": [
    {
     "name": "stdout",
     "output_type": "stream",
     "text": [
      "5\n",
      "4\n",
      "3\n",
      "2\n",
      "1\n"
     ]
    }
   ],
   "source": [
    "for i in range (5,0,-1):\n",
    "    print(i)"
   ]
  },
  {
   "cell_type": "code",
   "execution_count": 31,
   "id": "684b7910",
   "metadata": {},
   "outputs": [
    {
     "name": "stdout",
     "output_type": "stream",
     "text": [
      "1\n",
      "2\n",
      "3\n",
      "4\n",
      "5\n"
     ]
    }
   ],
   "source": [
    "for i in [1,2,3,4,5]:\n",
    "    print(i)"
   ]
  },
  {
   "cell_type": "code",
   "execution_count": 32,
   "id": "7333cf73",
   "metadata": {},
   "outputs": [
    {
     "name": "stdout",
     "output_type": "stream",
     "text": [
      "1\n",
      "2\n",
      "3\n",
      "4\n",
      "5\n"
     ]
    }
   ],
   "source": [
    "for i in (1,2,3,4,5):\n",
    "    print(i)"
   ]
  },
  {
   "cell_type": "code",
   "execution_count": 33,
   "id": "27c2bf4c",
   "metadata": {},
   "outputs": [
    {
     "name": "stdout",
     "output_type": "stream",
     "text": [
      "r\n",
      "a\n",
      "d\n",
      "h\n",
      "a\n"
     ]
    }
   ],
   "source": [
    "for i in 'radha':\n",
    "    print(i)"
   ]
  },
  {
   "cell_type": "code",
   "execution_count": 34,
   "id": "8c3fd1ac",
   "metadata": {},
   "outputs": [
    {
     "name": "stdout",
     "output_type": "stream",
     "text": [
      "k1\n",
      "k2\n"
     ]
    }
   ],
   "source": [
    "for i in {'k1':10,'k2':20}:\n",
    "    print(i)"
   ]
  },
  {
   "cell_type": "markdown",
   "id": "22c5fd66",
   "metadata": {},
   "source": [
    "## bool\n"
   ]
  },
  {
   "cell_type": "code",
   "execution_count": 10,
   "id": "a9c1f23c",
   "metadata": {},
   "outputs": [
    {
     "name": "stdout",
     "output_type": "stream",
     "text": [
      " is True or False ? False \n"
     ]
    }
   ],
   "source": [
    "#empty string is False otherwise True\n",
    "\n",
    "my_string1 = ''\n",
    "\n",
    "print(f\"{my_string1} is True or False ? {bool(my_string1)} \")"
   ]
  },
  {
   "cell_type": "code",
   "execution_count": 11,
   "id": "c03dab7b",
   "metadata": {},
   "outputs": [
    {
     "name": "stdout",
     "output_type": "stream",
     "text": [
      "hello is True or False ? True \n"
     ]
    }
   ],
   "source": [
    "my_string2 = 'hello'\n",
    "\n",
    "print(f\"{my_string2} is True or False ? {bool(my_string2)} \")"
   ]
  },
  {
   "cell_type": "code",
   "execution_count": 12,
   "id": "e39140ea",
   "metadata": {},
   "outputs": [
    {
     "name": "stdout",
     "output_type": "stream",
     "text": [
      "0 is True or False ? False \n"
     ]
    }
   ],
   "source": [
    "my_digit = 0\n",
    "\n",
    "print(f\"{my_digit} is True or False ? {bool(my_digit)} \")"
   ]
  },
  {
   "cell_type": "code",
   "execution_count": 13,
   "id": "1501dd3e",
   "metadata": {},
   "outputs": [
    {
     "name": "stdout",
     "output_type": "stream",
     "text": [
      "10 is True or False ? True \n"
     ]
    }
   ],
   "source": [
    "my_digit1 = 10\n",
    "\n",
    "print(f\"{my_digit1} is True or False ? {bool(my_digit1)} \")"
   ]
  },
  {
   "cell_type": "code",
   "execution_count": 15,
   "id": "5832ed06",
   "metadata": {},
   "outputs": [
    {
     "name": "stdout",
     "output_type": "stream",
     "text": [
      "[] is True or False ? False \n"
     ]
    }
   ],
   "source": [
    "my_list = []\n",
    "print(f\"{my_list} is True or False ? {bool(my_list)} \")"
   ]
  },
  {
   "cell_type": "code",
   "execution_count": 16,
   "id": "bd64bdab",
   "metadata": {},
   "outputs": [
    {
     "name": "stdout",
     "output_type": "stream",
     "text": [
      "[1, 2, 3] is True or False ? True \n"
     ]
    }
   ],
   "source": [
    "my_list = [1,2,3]\n",
    "print(f\"{my_list} is True or False ? {bool(my_list)} \")"
   ]
  },
  {
   "cell_type": "code",
   "execution_count": 17,
   "id": "e7a95d3d",
   "metadata": {},
   "outputs": [
    {
     "name": "stdout",
     "output_type": "stream",
     "text": [
      "() is True or False ? False \n"
     ]
    }
   ],
   "source": [
    "my_tuple = ()\n",
    "print(f\"{my_tuple} is True or False ? {bool(my_tuple)} \")"
   ]
  },
  {
   "cell_type": "code",
   "execution_count": 18,
   "id": "d5f7e233",
   "metadata": {},
   "outputs": [
    {
     "name": "stdout",
     "output_type": "stream",
     "text": [
      "(1, 2, 3) is True or False ? True \n"
     ]
    }
   ],
   "source": [
    "my_tuple = (1,2,3)\n",
    "print(f\"{my_tuple} is True or False ? {bool(my_tuple)} \")"
   ]
  },
  {
   "cell_type": "code",
   "execution_count": 19,
   "id": "4ea8dfe5",
   "metadata": {},
   "outputs": [
    {
     "name": "stdout",
     "output_type": "stream",
     "text": [
      "{} is True or False ? False \n"
     ]
    }
   ],
   "source": [
    "my_dict = {}\n",
    "print(f\"{my_dict} is True or False ? {bool(my_dict)} \")"
   ]
  },
  {
   "cell_type": "code",
   "execution_count": 20,
   "id": "188b51ef",
   "metadata": {},
   "outputs": [
    {
     "name": "stdout",
     "output_type": "stream",
     "text": [
      "{1: 'abc', 2: 'pqr'} is True or False ? True \n"
     ]
    }
   ],
   "source": [
    "my_dict = {1:'abc',2:'pqr'}\n",
    "print(f\"{my_dict} is True or False ? {bool(my_dict)} \")"
   ]
  },
  {
   "cell_type": "markdown",
   "id": "5e58977a",
   "metadata": {},
   "source": [
    "### Conditional Statements\n",
    "- if\n",
    "- if else\n",
    "- if elif else\n",
    "- nested if else"
   ]
  },
  {
   "cell_type": "code",
   "execution_count": null,
   "id": "e625102e",
   "metadata": {},
   "outputs": [],
   "source": []
  }
 ],
 "metadata": {
  "kernelspec": {
   "display_name": "Python 3 (ipykernel)",
   "language": "python",
   "name": "python3"
  },
  "language_info": {
   "codemirror_mode": {
    "name": "ipython",
    "version": 3
   },
   "file_extension": ".py",
   "mimetype": "text/x-python",
   "name": "python",
   "nbconvert_exporter": "python",
   "pygments_lexer": "ipython3",
   "version": "3.11.5"
  }
 },
 "nbformat": 4,
 "nbformat_minor": 5
}
