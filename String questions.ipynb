{
 "cells": [
  {
   "cell_type": "markdown",
   "id": "5c0d04bf",
   "metadata": {},
   "source": [
    "### \n",
    "- Find all the least occurred strings of str1 = \"aaaabbbccdef\"\n",
    "\n"
   ]
  },
  {
   "cell_type": "code",
   "execution_count": 4,
   "id": "147df7eb",
   "metadata": {},
   "outputs": [
    {
     "data": {
      "text/plain": [
       "{'f': 1, 'a': 4, 'd': 1, 'b': 3, 'e': 1, 'c': 2}"
      ]
     },
     "execution_count": 4,
     "metadata": {},
     "output_type": "execute_result"
    }
   ],
   "source": [
    "str1 = \"aaaabbbccdef\"\n",
    "a = {i: str1.count(i) for i in set(str1)}\n",
    "a"
   ]
  },
  {
   "cell_type": "code",
   "execution_count": 5,
   "id": "b33d6556",
   "metadata": {},
   "outputs": [
    {
     "data": {
      "text/plain": [
       "dict_keys(['f', 'a', 'd', 'b', 'e', 'c'])"
      ]
     },
     "execution_count": 5,
     "metadata": {},
     "output_type": "execute_result"
    }
   ],
   "source": [
    "a.keys()"
   ]
  },
  {
   "cell_type": "code",
   "execution_count": 6,
   "id": "960f166c",
   "metadata": {},
   "outputs": [
    {
     "data": {
      "text/plain": [
       "dict_values([1, 4, 1, 3, 1, 2])"
      ]
     },
     "execution_count": 6,
     "metadata": {},
     "output_type": "execute_result"
    }
   ],
   "source": [
    "a.values()"
   ]
  },
  {
   "cell_type": "code",
   "execution_count": 7,
   "id": "458b97d6",
   "metadata": {},
   "outputs": [
    {
     "data": {
      "text/plain": [
       "dict_items([('f', 1), ('a', 4), ('d', 1), ('b', 3), ('e', 1), ('c', 2)])"
      ]
     },
     "execution_count": 7,
     "metadata": {},
     "output_type": "execute_result"
    }
   ],
   "source": [
    "a.items()"
   ]
  },
  {
   "cell_type": "code",
   "execution_count": 8,
   "id": "4f52f9dc",
   "metadata": {},
   "outputs": [
    {
     "data": {
      "text/plain": [
       "1"
      ]
     },
     "execution_count": 8,
     "metadata": {},
     "output_type": "execute_result"
    }
   ],
   "source": [
    "min(a.values())"
   ]
  },
  {
   "cell_type": "code",
   "execution_count": null,
   "id": "e38c2624",
   "metadata": {},
   "outputs": [],
   "source": [
    "a."
   ]
  },
  {
   "cell_type": "code",
   "execution_count": 20,
   "id": "e8c1585f",
   "metadata": {},
   "outputs": [
    {
     "name": "stdout",
     "output_type": "stream",
     "text": [
      "['d', 'e', 'f']\n",
      "def\n"
     ]
    }
   ],
   "source": [
    "str1 = \"aaaabbbccdef\"\n",
    "freq_dict = {}\n",
    "for char in str1:\n",
    "    if char not in freq_dict:\n",
    "        freq_dict[char] = 1\n",
    "    else:\n",
    "        freq_dict[char] += 1\n",
    "min_freq = min(freq_dict.values())\n",
    "least_occurred_strings = [char for char in freq_dict if freq_dict[char] == min_freq]\n",
    "print(least_occurred_strings)\n",
    "print(''.join(least_occurred_strings))"
   ]
  },
  {
   "cell_type": "code",
   "execution_count": 18,
   "id": "f9b19f32",
   "metadata": {},
   "outputs": [
    {
     "data": {
      "text/plain": [
       "'ab'"
      ]
     },
     "execution_count": 18,
     "metadata": {},
     "output_type": "execute_result"
    }
   ],
   "source": [
    "a = ['a','b']\n",
    "''.join(a)"
   ]
  },
  {
   "cell_type": "code",
   "execution_count": 21,
   "id": "7117e3be",
   "metadata": {},
   "outputs": [
    {
     "name": "stdout",
     "output_type": "stream",
     "text": [
      "['d', 'e', 'f']\n"
     ]
    }
   ],
   "source": [
    "str1 = \"aaaabbbccdef\"\n",
    "\n",
    "# Create an empty dictionary\n",
    "freq_dict = {}\n",
    "\n",
    "# Iterate through the string and update the frequency of each character\n",
    "for char in str1:\n",
    "    if char not in freq_dict:\n",
    "        freq_dict[char] = 1\n",
    "    else:\n",
    "        freq_dict[char] += 1\n",
    "\n",
    "# Find the character(s) with the second minimum frequency\n",
    "freq_list = list(freq_dict.values())\n",
    "freq_list.sort()\n",
    "second_min_freq = freq_list[1]\n",
    "second_least_occurred_strings = [char for char, freq in freq_dict.items() if freq == second_min_freq]\n",
    "\n",
    "print(second_least_occurred_strings)"
   ]
  },
  {
   "cell_type": "code",
   "execution_count": 22,
   "id": "558018aa",
   "metadata": {},
   "outputs": [
    {
     "name": "stdout",
     "output_type": "stream",
     "text": [
      "['a', 'ab', 'abc', 'b', 'bc', 'c']\n"
     ]
    }
   ],
   "source": [
    "def find_substrings(input_string):\n",
    "    result_array = []\n",
    "    for i in range(len(input_string)):\n",
    "        for j in range(i, len(input_string)):\n",
    "            result_array.append(input_string[i:j+1])\n",
    "    return result_array\n",
    "\n",
    "print(find_substrings(\"abc\"))"
   ]
  },
  {
   "cell_type": "code",
   "execution_count": 23,
   "id": "00a0d526",
   "metadata": {},
   "outputs": [
    {
     "name": "stdout",
     "output_type": "stream",
     "text": [
      "\n",
      "c\n",
      "b\n",
      "bc\n",
      "a\n",
      "ac\n",
      "ab\n",
      "abc\n"
     ]
    }
   ],
   "source": [
    "def find_substrings(string, substring=''):\n",
    "    if not string:\n",
    "        print(substring)\n",
    "        return\n",
    "    find_substrings(string[1:], substring)\n",
    "    find_substrings(string[1:], substring + string[0])\n",
    "\n",
    "find_substrings(\"abc\")"
   ]
  },
  {
   "cell_type": "code",
   "execution_count": 27,
   "id": "17956ea9",
   "metadata": {},
   "outputs": [
    {
     "name": "stdout",
     "output_type": "stream",
     "text": [
      "['a', 'ab', 'abc', 'b', 'bc', 'c']\n"
     ]
    }
   ],
   "source": [
    "def find_substrings(a):\n",
    "    return [a[i:j+1] for i in range(len(a)) for j in range(i, len(a))]\n",
    "\n",
    "print(find_substrings(\"abc\"))"
   ]
  },
  {
   "cell_type": "markdown",
   "id": "69252ffb",
   "metadata": {},
   "source": [
    "- Check string is Anagram or not ?"
   ]
  },
  {
   "cell_type": "code",
   "execution_count": 42,
   "id": "28d8fdcf",
   "metadata": {},
   "outputs": [
    {
     "name": "stdout",
     "output_type": "stream",
     "text": [
      "None None\n",
      "anagram\n"
     ]
    }
   ],
   "source": [
    "a = 'abcde'\n",
    "b = 'bacd'\n",
    "a_list  = []\n",
    "b_list = []\n",
    "\n",
    "for i in a:\n",
    "    a_list.append(i)\n",
    "for j in b:\n",
    "    b_list.append(j)\n",
    "    \n",
    "print(a_list.sort() ,b_list.sort())\n",
    "if a_list.sort() == b_list.sort():\n",
    "    print ('anagram')"
   ]
  },
  {
   "cell_type": "code",
   "execution_count": 32,
   "id": "3043bb71",
   "metadata": {},
   "outputs": [
    {
     "name": "stdout",
     "output_type": "stream",
     "text": [
      "True\n",
      "False\n"
     ]
    }
   ],
   "source": [
    "def is_anagram(str1, str2):\n",
    "    # Remove any whitespace and convert to lowercase\n",
    "    str1 = str1.replace(\" \", \"\").lower()\n",
    "    str2 = str2.replace(\" \", \"\").lower()\n",
    "\n",
    "    # Check if both strings have the same length\n",
    "    if len(str1) != len(str2):\n",
    "        return False\n",
    "\n",
    "    # Create a count dictionary for each string\n",
    "    count_dict1 = {}\n",
    "    count_dict2 = {}\n",
    "\n",
    "    # Count the frequency of each character in the first string\n",
    "    for char in str1:\n",
    "        if char in count_dict1:\n",
    "            count_dict1[char] += 1\n",
    "        else:\n",
    "            count_dict1[char] = 1\n",
    "\n",
    "    # Count the frequency of each character in the second string\n",
    "    for char in str2:\n",
    "        if char in count_dict2:\n",
    "            count_dict2[char] += 1\n",
    "        else:\n",
    "            count_dict2[char] = 1\n",
    "\n",
    "    # Compare the count dictionaries\n",
    "    for char in count_dict1:\n",
    "        if char not in count_dict2 or count_dict1[char] != count_dict2[char]:\n",
    "            return False\n",
    "\n",
    "    return True\n",
    "\n",
    "# Test the function\n",
    "print(is_anagram(\"listen\", \"silent\"))  # True\n",
    "print(is_anagram(\"hello\", \"world\"))  # False"
   ]
  },
  {
   "cell_type": "code",
   "execution_count": 33,
   "id": "f1d061ba",
   "metadata": {},
   "outputs": [
    {
     "name": "stdout",
     "output_type": "stream",
     "text": [
      "True\n",
      "False\n"
     ]
    }
   ],
   "source": [
    "def is_anagram(str1, str2):\n",
    "    # Remove any whitespace and convert to lowercase\n",
    "    str1 = str1.replace(\" \", \"\").lower()\n",
    "    str2 = str2.replace(\" \", \"\").lower()\n",
    "\n",
    "    # Sort the characters in each string\n",
    "    sorted_str1 = \"\".join(sorted(str1))\n",
    "    sorted_str2 = \"\".join(sorted(str2))\n",
    "\n",
    "    return sorted_str1 == sorted_str2\n",
    "\n",
    "# Test the function\n",
    "print(is_anagram(\"listen\", \"silent\"))  # True\n",
    "print(is_anagram(\"hello\", \"world\"))  # False"
   ]
  },
  {
   "cell_type": "code",
   "execution_count": null,
   "id": "732f641c",
   "metadata": {},
   "outputs": [],
   "source": []
  }
 ],
 "metadata": {
  "kernelspec": {
   "display_name": "Python 3 (ipykernel)",
   "language": "python",
   "name": "python3"
  },
  "language_info": {
   "codemirror_mode": {
    "name": "ipython",
    "version": 3
   },
   "file_extension": ".py",
   "mimetype": "text/x-python",
   "name": "python",
   "nbconvert_exporter": "python",
   "pygments_lexer": "ipython3",
   "version": "3.11.5"
  }
 },
 "nbformat": 4,
 "nbformat_minor": 5
}
