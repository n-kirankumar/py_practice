{
 "cells": [
  {
   "cell_type": "code",
   "execution_count": 1,
   "id": "bd5c4350",
   "metadata": {},
   "outputs": [
    {
     "name": "stdout",
     "output_type": "stream",
     "text": [
      "The ID is: 103\n",
      "The Name is: ganesh\n",
      "The Address is: Noida\n",
      "The Emails is: KKK@gmails\n"
     ]
    }
   ],
   "source": [
    "class Emp():\n",
    "    def __init__(self, id, name, Add):\n",
    "        self.id = id\n",
    "        self.name = name\n",
    "        self.Add = Add\n",
    "\n",
    "# Class freelancer inherits EMP\n",
    "class freelance(Emp):\n",
    "    def __init__(self, id, name, Add, Emails):\n",
    "        super().__init__(id, name, Add)\n",
    "        self.Emails = Emails\n",
    "\n",
    "Emp_1 = freelance(103, \"ganesh\", \"Noida\" , \"KKK@gmails\")\n",
    "print('The ID is:', Emp_1.id)\n",
    "print('The Name is:', Emp_1.name)\n",
    "print('The Address is:', Emp_1.Add)\n",
    "print('The Emails is:', Emp_1.Emails)\n"
   ]
  },
  {
   "cell_type": "code",
   "execution_count": 2,
   "id": "87bf8627",
   "metadata": {},
   "outputs": [
    {
     "name": "stdout",
     "output_type": "stream",
     "text": [
      "Mayank Mayank\n"
     ]
    }
   ],
   "source": [
    "class Person:\n",
    "\n",
    "    def __init__(self, name, id):\n",
    "        self.name = name\n",
    "        self.id = id\n",
    "\n",
    "    def display(self):\n",
    "        print(self.name, self.id)\n",
    "     \n",
    "\n",
    "    \n",
    "class Emp(Person):\n",
    "     \n",
    "    def __init__(self, name, id):\n",
    "        self.name = name\n",
    "        super().__init__(name, id)\n",
    " \n",
    "    def print(self):\n",
    "        print(\"Emp class called\")\n",
    " \n",
    "\n",
    "Emp_details = Emp(\"Mayank\", 103)\n",
    " \n",
    "# calling parent class function\n",
    "print(Emp_details.name, Emp_details.name)\n"
   ]
  },
  {
   "cell_type": "code",
   "execution_count": 11,
   "id": "f7ee2374",
   "metadata": {},
   "outputs": [
    {
     "ename": "AttributeError",
     "evalue": "'super' object has no attribute 'parent_var'",
     "output_type": "error",
     "traceback": [
      "\u001b[1;31m---------------------------------------------------------------------------\u001b[0m",
      "\u001b[1;31mAttributeError\u001b[0m                            Traceback (most recent call last)",
      "Cell \u001b[1;32mIn[11], line 10\u001b[0m\n\u001b[0;32m      7\u001b[0m         \u001b[38;5;28msuper\u001b[39m()\u001b[38;5;241m.\u001b[39m\u001b[38;5;21m__init__\u001b[39m()\n\u001b[0;32m      8\u001b[0m         \u001b[38;5;28mprint\u001b[39m(\u001b[38;5;28msuper\u001b[39m()\u001b[38;5;241m.\u001b[39mparent_var)  \u001b[38;5;66;03m# Accessing parent_var from the parent class\u001b[39;00m\n\u001b[1;32m---> 10\u001b[0m child \u001b[38;5;241m=\u001b[39m Child()\n",
      "Cell \u001b[1;32mIn[11], line 8\u001b[0m, in \u001b[0;36mChild.__init__\u001b[1;34m(self)\u001b[0m\n\u001b[0;32m      6\u001b[0m \u001b[38;5;28;01mdef\u001b[39;00m \u001b[38;5;21m__init__\u001b[39m(\u001b[38;5;28mself\u001b[39m):\n\u001b[0;32m      7\u001b[0m     \u001b[38;5;28msuper\u001b[39m()\u001b[38;5;241m.\u001b[39m\u001b[38;5;21m__init__\u001b[39m()\n\u001b[1;32m----> 8\u001b[0m     \u001b[38;5;28mprint\u001b[39m(\u001b[38;5;28msuper\u001b[39m()\u001b[38;5;241m.\u001b[39mparent_var)\n",
      "\u001b[1;31mAttributeError\u001b[0m: 'super' object has no attribute 'parent_var'"
     ]
    }
   ],
   "source": [
    "class Parent:\n",
    "    def __init__(self):\n",
    "        self.parent_var = \"Parent variable\"\n",
    "\n",
    "class Child(Parent):\n",
    "    def __init__(self):\n",
    "        super().__init__()\n",
    "        print(super().parent_var)  # Accessing parent_var from the parent class\n",
    "\n",
    "child = Child() "
   ]
  },
  {
   "cell_type": "code",
   "execution_count": 5,
   "id": "07199413",
   "metadata": {},
   "outputs": [
    {
     "name": "stdout",
     "output_type": "stream",
     "text": [
      "3\n"
     ]
    }
   ],
   "source": [
    "class Base:\n",
    "    def __init__(self):\n",
    "        self.value = 0\n",
    "\n",
    "class A(Base):\n",
    "    def __init__(self):\n",
    "        super().__init__()\n",
    "        self.value += 1\n",
    "\n",
    "class B(Base):\n",
    "    def __init__(self):\n",
    "        super().__init__()\n",
    "        self.value += 2\n",
    "\n",
    "class C(A, B):\n",
    "    def __init__(self):\n",
    "        super().__init__()\n",
    "\n",
    "c = C()\n",
    "print(c.value)  # Output: 3\n"
   ]
  },
  {
   "cell_type": "code",
   "execution_count": 7,
   "id": "420dfd2f",
   "metadata": {},
   "outputs": [
    {
     "name": "stdout",
     "output_type": "stream",
     "text": [
      "D\n",
      "B\n",
      "C\n",
      "A\n"
     ]
    }
   ],
   "source": [
    "class A:\n",
    "    def show(self):\n",
    "        print(\"A\")\n",
    "\n",
    "class B(A):\n",
    "    def show(self):\n",
    "        print(\"B\")\n",
    "        super().show()\n",
    "\n",
    "class C(A):\n",
    "    def show(self):\n",
    "        print(\"C\")\n",
    "        super().show()\n",
    "\n",
    "class D(B, C):\n",
    "    def show(self):\n",
    "        print(\"D\")\n",
    "        super().show()\n",
    "\n",
    "d = D()\n",
    "d.show()\n"
   ]
  },
  {
   "cell_type": "code",
   "execution_count": 8,
   "id": "6c300247",
   "metadata": {},
   "outputs": [
    {
     "name": "stdout",
     "output_type": "stream",
     "text": [
      "Generic animal sound\n",
      "Bark\n"
     ]
    }
   ],
   "source": [
    "class Animal:\n",
    "    def make_sound(self):\n",
    "        print(\"Generic animal sound\")\n",
    "\n",
    "class Dog(Animal):\n",
    "    def make_sound(self):\n",
    "        super().make_sound()  # Calling the make_sound method of the superclass\n",
    "        print(\"Bark\")\n",
    "\n",
    "dog = Dog()\n",
    "dog.make_sound()\n"
   ]
  },
  {
   "cell_type": "code",
   "execution_count": 13,
   "id": "28549761",
   "metadata": {},
   "outputs": [
    {
     "name": "stdout",
     "output_type": "stream",
     "text": [
      "Man name is ganesh\n",
      "Man age is 35\n",
      "Man gender is Male\n"
     ]
    }
   ],
   "source": [
    "class Properties:\n",
    "    def __init__(self, age, gender):\n",
    "        self.age = age\n",
    "        self.gender = gender\n",
    "\n",
    "\n",
    "class Human(Properties):\n",
    "    def __init__(self, name, age, gender):\n",
    "        self.name = name  # Initialising Human attribute\n",
    "        super().__init__(age, gender)  # Calling the Properties class constructor and initialise the attributes\n",
    "\n",
    "\n",
    "man = Human(\"ganesh\", 35, \"Male\")\n",
    "print(f\"Man name is {man.name}\")\n",
    "print(f\"Man age is {man.age}\")\n",
    "print(f\"Man gender is {man.gender}\")"
   ]
  },
  {
   "cell_type": "code",
   "execution_count": 14,
   "id": "6017046b",
   "metadata": {},
   "outputs": [
    {
     "name": "stdout",
     "output_type": "stream",
     "text": [
      "SON color is Black\n",
      "SON Hair is White\n",
      "SON Lastname is Doe\n"
     ]
    }
   ],
   "source": [
    "class Grandparents:\n",
    "    def __init__(self, hair, lastname):\n",
    "        self.hair = hair\n",
    "        self.lastname = lastname\n",
    "\n",
    "class Parents(Grandparents):\n",
    "    def __init__(self, color, hair, lastname):\n",
    "        self.color = color # Parents color updated\n",
    "        super().__init__(hair=hair,lastname=lastname)  # Grandparents __init__ method called\n",
    "\n",
    "\n",
    "class Son(Parents):\n",
    "    def __init__(self, color, hair, lastname ):\n",
    "        super().__init__( color, hair, lastname ) # Parents __init__ method called\n",
    "\n",
    "\n",
    "kiran = Son(\"Black\", \"White\", \"Doe\")  # Send the values for attributes\n",
    "print(f\"SON color is {kiran.color}\")\n",
    "print(f\"SON Hair is {kiran.hair}\")\n",
    "print(f\"SON Lastname is {kiran.lastname}\")"
   ]
  },
  {
   "cell_type": "markdown",
   "id": "abc6bda6",
   "metadata": {},
   "source": [
    "### Basic Inheritance:\n",
    "This example shows a basic inheritance scenario where a subclass calls the constructor of its superclass using super()"
   ]
  },
  {
   "cell_type": "code",
   "execution_count": 18,
   "id": "a31de354",
   "metadata": {},
   "outputs": [
    {
     "name": "stdout",
     "output_type": "stream",
     "text": [
      "ganesh\n",
      "30\n"
     ]
    }
   ],
   "source": [
    "class Parent:\n",
    "    def __init__(self,name):\n",
    "        self.name = name\n",
    "        \n",
    "class Son(Parent):\n",
    "    def __init__(self,name,age):\n",
    "        super().__init__(name)    # call parents costructor\n",
    "        self.age = age\n",
    "        \n",
    "child = Son('ganesh',30)\n",
    "print(child.name)\n",
    "print(child.age)\n",
    "            "
   ]
  },
  {
   "cell_type": "markdown",
   "id": "b4aeed49",
   "metadata": {},
   "source": [
    "### Multiple Inheritance:\n",
    "When dealing with multiple inheritance, super() helps to ensure that constructors of all parent classes are called correctly."
   ]
  },
  {
   "cell_type": "code",
   "execution_count": 22,
   "id": "e460c818",
   "metadata": {},
   "outputs": [
    {
     "name": "stdout",
     "output_type": "stream",
     "text": [
      "initialising A\n"
     ]
    }
   ],
   "source": [
    "class A:\n",
    "    def __init__(self):\n",
    "        print('initialising A')\n",
    "        \n",
    "class B:\n",
    "    def __init__(self):\n",
    "        print('initialising B')\n",
    "        \n",
    "class C(A,B):\n",
    "    def __init__(self):\n",
    "        super().__init__()\n",
    "\n",
    "        \n",
    "c =C()"
   ]
  },
  {
   "cell_type": "code",
   "execution_count": null,
   "id": "cb8b9914",
   "metadata": {},
   "outputs": [],
   "source": []
  },
  {
   "cell_type": "code",
   "execution_count": 23,
   "id": "dc341088",
   "metadata": {},
   "outputs": [
    {
     "name": "stdout",
     "output_type": "stream",
     "text": [
      "Initializing D\n",
      "Initializing B\n",
      "Initializing C\n",
      "Initializing A\n"
     ]
    }
   ],
   "source": [
    "class A:\n",
    "    def __init__(self):\n",
    "        print(\"Initializing A\")\n",
    "\n",
    "class B(A):\n",
    "    def __init__(self):\n",
    "        print(\"Initializing B\")\n",
    "        super().__init__()  # Call A's constructor\n",
    "\n",
    "class C(A):\n",
    "    def __init__(self):\n",
    "        print(\"Initializing C\")\n",
    "        super().__init__()  # Call A's constructor\n",
    "\n",
    "class D(B, C):\n",
    "    def __init__(self):\n",
    "        print(\"Initializing D\")\n",
    "        super().__init__()  # Call B's constructor, then C's, then A's\n",
    "\n",
    "d = D()\n",
    "\n"
   ]
  },
  {
   "cell_type": "code",
   "execution_count": 24,
   "id": "994dbeb2",
   "metadata": {},
   "outputs": [
    {
     "name": "stdout",
     "output_type": "stream",
     "text": [
      "M1 Person Details are - {'name': 'John Doe'}\n",
      "M1 Person John Doe gender is Male \n",
      "M2 Person Details are {'name': 'Rockie Doe'}\n",
      "M2 accessing gender is not possible Male\n"
     ]
    }
   ],
   "source": [
    "class Human:\n",
    "    def __init__(self, name, age):\n",
    "        self.name = name\n",
    "        self.age = age\n",
    "\n",
    "    def person_details(self):\n",
    "        return {\"name\": self.name, \"age\": self.age}\n",
    "\n",
    "    def person_details(self):\n",
    "        return {\"name\": self.name}\n",
    "\n",
    "    def person_details2(self):\n",
    "        return {\"name\": self.name, \"age\": self.age}\n",
    "\n",
    "man = Human(name=\"John Doe\", age=25)\n",
    "print(f\"M1 Person Details are - {man.person_details()}\")\n",
    "\n",
    "# Adding attribute to an object\n",
    "man.gender = \"Male\"\n",
    "print(f\"M1 Person {man.name} gender is {man.gender} \")\n",
    "\n",
    "man2 = Human(name=\"Rockie Doe\", age=45)\n",
    "man2.gender = \"Male\"\n",
    "print(f\"M2 Person Details are {man2.person_details()}\")\n",
    "print(f\"M2 accessing gender is not possible {man2.gender}\")"
   ]
  },
  {
   "cell_type": "code",
   "execution_count": 25,
   "id": "58145dba",
   "metadata": {},
   "outputs": [
    {
     "name": "stdout",
     "output_type": "stream",
     "text": [
      "Man age is 30\n",
      "Man gender is Male\n"
     ]
    }
   ],
   "source": [
    "# Inheritance - Coping attributes and methods from one class to another class\n",
    "# Advantage - COde reusability\n",
    "\n",
    "class Properties:\n",
    "    def __init__(self, age, gender):\n",
    "        self.age = age\n",
    "        self.gender = gender\n",
    "\n",
    "\n",
    "class Human(Properties):\n",
    "    pass\n",
    "\n",
    "\n",
    "class Animal:\n",
    "    pass\n",
    "\n",
    "\n",
    "man = Human(age=30, gender=\"Male\")\n",
    "print(f\"Man age is {man.age}\")\n",
    "print(f\"Man gender is {man.gender}\")\n"
   ]
  },
  {
   "cell_type": "code",
   "execution_count": 26,
   "id": "46e47628",
   "metadata": {},
   "outputs": [
    {
     "name": "stdout",
     "output_type": "stream",
     "text": [
      "Man name is John Doe\n",
      "Man age is 35\n",
      "Man gender is Male\n"
     ]
    }
   ],
   "source": [
    "class Properties:\n",
    "    def __init__(self, age, gender):\n",
    "        self.age = age\n",
    "        self.gender = gender\n",
    "\n",
    "\n",
    "class Human(Properties):\n",
    "    def __init__(self, name, age, gender):\n",
    "        self.name = name  # Initialising Human attribute\n",
    "        super().__init__(age, gender)  # Calling the Properties class constructor and initialise the attributes\n",
    "\n",
    "\n",
    "man = Human(\"John Doe\", 35, \"Male\")\n",
    "print(f\"Man name is {man.name}\")\n",
    "print(f\"Man age is {man.age}\")\n",
    "print(f\"Man gender is {man.gender}\")"
   ]
  },
  {
   "cell_type": "code",
   "execution_count": 29,
   "id": "d74c5aac",
   "metadata": {},
   "outputs": [
    {
     "ename": "TypeError",
     "evalue": "Human.__init__() got an unexpected keyword argument 'age'",
     "output_type": "error",
     "traceback": [
      "\u001b[1;31m---------------------------------------------------------------------------\u001b[0m",
      "\u001b[1;31mTypeError\u001b[0m                                 Traceback (most recent call last)",
      "Cell \u001b[1;32mIn[29], line 20\u001b[0m\n\u001b[0;32m     16\u001b[0m         \u001b[38;5;28mself\u001b[39m\u001b[38;5;241m.\u001b[39mname \u001b[38;5;241m=\u001b[39m name\n\u001b[0;32m     17\u001b[0m         \u001b[38;5;28mself\u001b[39m\u001b[38;5;241m.\u001b[39mgender \u001b[38;5;241m=\u001b[39m gender\n\u001b[1;32m---> 20\u001b[0m man \u001b[38;5;241m=\u001b[39m Human(age\u001b[38;5;241m=\u001b[39m\u001b[38;5;241m30\u001b[39m, gender\u001b[38;5;241m=\u001b[39m\u001b[38;5;124m\"\u001b[39m\u001b[38;5;124mMale\u001b[39m\u001b[38;5;124m\"\u001b[39m)  \u001b[38;5;66;03m###we get error because last latest init constructor is final\u001b[39;00m\n\u001b[0;32m     21\u001b[0m \u001b[38;5;28mprint\u001b[39m(\u001b[38;5;124mf\u001b[39m\u001b[38;5;124m\"\u001b[39m\u001b[38;5;124mMan age is \u001b[39m\u001b[38;5;132;01m{\u001b[39;00mman\u001b[38;5;241m.\u001b[39mage\u001b[38;5;132;01m}\u001b[39;00m\u001b[38;5;124m\"\u001b[39m)\n\u001b[0;32m     22\u001b[0m \u001b[38;5;28mprint\u001b[39m(\u001b[38;5;124mf\u001b[39m\u001b[38;5;124m\"\u001b[39m\u001b[38;5;124mMan gender is \u001b[39m\u001b[38;5;132;01m{\u001b[39;00mman\u001b[38;5;241m.\u001b[39mgender\u001b[38;5;132;01m}\u001b[39;00m\u001b[38;5;124m\"\u001b[39m)\n",
      "\u001b[1;31mTypeError\u001b[0m: Human.__init__() got an unexpected keyword argument 'age'"
     ]
    }
   ],
   "source": [
    "# Inheritance - Coping attributes and methods from one class to another class\n",
    "# Advantage - COde reusability\n",
    "\n",
    "class Properties:\n",
    "    def __init__(self, age, gender):\n",
    "        self.age = age\n",
    "        self.gender = gender\n",
    "\n",
    "\n",
    "class Human(Properties):\n",
    "    def __init__(self, age, gender):\n",
    "        self.age = age\n",
    "        self.gender = gender\n",
    "\n",
    "    def __init__(self, name, gender):\n",
    "        self.name = name\n",
    "        self.gender = gender\n",
    "\n",
    "\n",
    "man = Human(age=30, gender=\"Male\")  ###we get error because last latest init constructor is final\n",
    "print(f\"Man age is {man.age}\")\n",
    "print(f\"Man gender is {man.gender}\")"
   ]
  },
  {
   "cell_type": "code",
   "execution_count": 28,
   "id": "b3339b1b",
   "metadata": {},
   "outputs": [
    {
     "name": "stdout",
     "output_type": "stream",
     "text": [
      "SON color is Black\n",
      "SON Hair is White\n",
      "SON Lastname is Doe\n"
     ]
    }
   ],
   "source": [
    "class Grandparents:\n",
    "    def __init__(self, hair, lastname):\n",
    "        self.hair = hair\n",
    "        self.lastname = lastname\n",
    "\n",
    "class Parents(Grandparents):\n",
    "    def __init__(self, color, hair, lastname):\n",
    "        self.color = color # Parents color updated\n",
    "        super().__init__(hair=hair,lastname=lastname)  # Grandparents __init__ method called\n",
    "\n",
    "\n",
    "class Son(Parents):\n",
    "    def __init__(self, color, hair, lastname ):\n",
    "        super().__init__( color, hair, lastname ) # Parents __init__ method called\n",
    "\n",
    "\n",
    "raghu = Son(\"Black\", \"White\", \"Doe\")  # Send the values for attributes\n",
    "print(f\"SON color is {raghu.color}\")\n",
    "print(f\"SON Hair is {raghu.hair}\")\n",
    "print(f\"SON Lastname is {raghu.lastname}\")\n",
    "\n"
   ]
  },
  {
   "cell_type": "code",
   "execution_count": null,
   "id": "726215c3",
   "metadata": {},
   "outputs": [],
   "source": []
  }
 ],
 "metadata": {
  "kernelspec": {
   "display_name": "Python 3 (ipykernel)",
   "language": "python",
   "name": "python3"
  },
  "language_info": {
   "codemirror_mode": {
    "name": "ipython",
    "version": 3
   },
   "file_extension": ".py",
   "mimetype": "text/x-python",
   "name": "python",
   "nbconvert_exporter": "python",
   "pygments_lexer": "ipython3",
   "version": "3.11.5"
  }
 },
 "nbformat": 4,
 "nbformat_minor": 5
}
