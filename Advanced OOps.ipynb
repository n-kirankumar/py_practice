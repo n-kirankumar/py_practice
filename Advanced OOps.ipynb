{
 "cells": [
  {
   "cell_type": "code",
   "execution_count": 2,
   "id": "597ae4a3",
   "metadata": {},
   "outputs": [
    {
     "name": "stdout",
     "output_type": "stream",
     "text": [
      "enter movie name : movie1\n",
      "enter hero name : hero1\n",
      "movie added to he list successfully \n",
      "do you want to add more movies then type Y for yes N for no :y\n",
      "enter movie name : movie2\n",
      "enter hero name : hero2\n",
      "movie added to he list successfully \n",
      "do you want to add more movies then type Y for yes N for no :n\n",
      "all movie information \n",
      "\n",
      "movie name movie1\n",
      "hero name hero1\n",
      "\n",
      "movie name movie2\n",
      "hero name hero2\n",
      "\n"
     ]
    }
   ],
   "source": [
    "class Movie:\n",
    "    def __init__(self,title,hero):\n",
    "        self.title = title\n",
    "        self.hero = hero\n",
    "    \n",
    "    def info(self):\n",
    "        print(f'movie name {self.title}')\n",
    "        print(f'hero name {self.hero}')\n",
    "\n",
    "list_of_movies = []        \n",
    "\n",
    "while True:\n",
    "    title =input('enter movie name : ')\n",
    "    hero = input('enter hero name : ')\n",
    "    \n",
    "    m= Movie(title,hero)\n",
    "    list_of_movies.append(m)\n",
    "    print('movie added to he list successfully ')\n",
    "    option = input('do you want to add more movies then type Y for yes N for no :')\n",
    "    if option.lower() == 'n':\n",
    "        break\n",
    "        \n",
    "        \n",
    "print('all movie information ')\n",
    "print()\n",
    "\n",
    "for movie in list_of_movies:\n",
    "    movie.info ()\n",
    "    print() \n",
    "        "
   ]
  },
  {
   "cell_type": "code",
   "execution_count": 3,
   "id": "4417ab05",
   "metadata": {},
   "outputs": [
    {
     "name": "stdout",
     "output_type": "stream",
     "text": [
      "Power -Corn\n",
      "Water -0.5ml\n",
      "Sugar -None\n",
      "Sugar Free -None\n"
     ]
    }
   ],
   "source": [
    "class Cake:\n",
    "\n",
    "    def __init__(self, powder, water, sugar=None, sugar_free=None):\n",
    "        self.powder = powder\n",
    "        self.water = water\n",
    "        self.sugar = sugar\n",
    "        self.sugar_free = sugar_free\n",
    "        \n",
    "cake1 = Cake(powder=\"Corn\", water=\"0.5ml\")\n",
    "\n",
    "print(f\"Power -{cake1.powder}\")\n",
    "print(f\"Water -{cake1.water}\")\n",
    "print(f\"Sugar -{cake1.sugar}\")\n",
    "print(f\"Sugar Free -{cake1.sugar_free}\")"
   ]
  },
  {
   "cell_type": "code",
   "execution_count": 4,
   "id": "86b1aa9d",
   "metadata": {},
   "outputs": [
    {
     "name": "stdout",
     "output_type": "stream",
     "text": [
      "Chilli\n",
      "0.1ml\n",
      "10gm\n",
      "None\n"
     ]
    }
   ],
   "source": [
    "class Cake:\n",
    "\n",
    "    def __init__(self, powder, water, sugar=None, sugar_free=None):\n",
    "        self.powder = powder\n",
    "        self.water = water\n",
    "        self.sugar = sugar\n",
    "        self.sugar_free = sugar_free\n",
    "        \n",
    "cake1 = Cake(powder=\"Corn\", water=\"0.5ml\")\n",
    "cake2 = Cake(powder=\"Chilli\", water=\"0.1ml\", sugar=\"10gm\")\n",
    "\n",
    "print(f\"{cake2.powder}\")\n",
    "print(f\"{cake2.water}\")\n",
    "print(f\"{cake2.sugar}\")\n",
    "print(f\"{cake2.sugar_free}\")"
   ]
  },
  {
   "cell_type": "code",
   "execution_count": 5,
   "id": "a4403fe3",
   "metadata": {},
   "outputs": [
    {
     "name": "stdout",
     "output_type": "stream",
     "text": [
      "Cake1 power - Corn Strong\n",
      "Cake2 power - Chilli\n",
      "Cake2 power after overwriting - Corn Weak\n",
      "Cake1 power - Corn Strong\n"
     ]
    }
   ],
   "source": [
    "class Cake:\n",
    "\n",
    "    def __init__(self, powder, water, sugar=None, sugar_free=None):\n",
    "        self.powder = powder\n",
    "        self.water = water\n",
    "        self.sugar = sugar\n",
    "        self.sugar_free = sugar_free\n",
    "        \n",
    "cake1 = Cake(powder=\"Corn Strong\", water=\"0.5ml\")\n",
    "print(f\"Cake1 power - {cake1.powder}\") # \"Corn Strong\n",
    "\n",
    "cake2 = Cake(powder=\"Chilli\", water=\"0.1ml\", sugar=\"10gm\")\n",
    "print(f\"Cake2 power - {cake2.powder}\") # \"Chilli\n",
    "\n",
    "# Updating the object attribute\n",
    "cake2.powder = \"Corn Weak\"\n",
    "print(f\"Cake2 power after overwriting - {cake2.powder}\")\n",
    "print(f\"Cake1 power - {cake1.powder}\")"
   ]
  },
  {
   "cell_type": "code",
   "execution_count": null,
   "id": "79584a3f",
   "metadata": {},
   "outputs": [],
   "source": []
  }
 ],
 "metadata": {
  "kernelspec": {
   "display_name": "Python 3 (ipykernel)",
   "language": "python",
   "name": "python3"
  },
  "language_info": {
   "codemirror_mode": {
    "name": "ipython",
    "version": 3
   },
   "file_extension": ".py",
   "mimetype": "text/x-python",
   "name": "python",
   "nbconvert_exporter": "python",
   "pygments_lexer": "ipython3",
   "version": "3.11.5"
  }
 },
 "nbformat": 4,
 "nbformat_minor": 5
}
