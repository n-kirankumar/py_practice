{
 "cells": [
  {
   "cell_type": "code",
   "execution_count": 26,
   "id": "da2dc168",
   "metadata": {},
   "outputs": [
    {
     "name": "stdout",
     "output_type": "stream",
     "text": [
      "ganesh\n",
      "36\n"
     ]
    }
   ],
   "source": [
    "class Person:\n",
    "    def __init__(self, name, age):\n",
    "        self.name = name\n",
    "        self.age = age\n",
    "\n",
    "p1_obj = Person(\"ganesh\", 36)\n",
    "\n",
    "print(p1_obj.name)   # argument\n",
    "print(p1_obj.age)"
   ]
  },
  {
   "cell_type": "code",
   "execution_count": 27,
   "id": "3c982941",
   "metadata": {},
   "outputs": [],
   "source": [
    "class Bike:\n",
    "    \n",
    "    def __init__(self, name = \"\"):\n",
    "        self.name = name\n",
    "\n",
    "bike1 = Bike()"
   ]
  },
  {
   "cell_type": "code",
   "execution_count": 35,
   "id": "f9a3898b",
   "metadata": {},
   "outputs": [
    {
     "name": "stdout",
     "output_type": "stream",
     "text": [
      "<__main__.Person object at 0x000001FC6C8BB410>\n",
      "Ganesh\n",
      "36\n"
     ]
    }
   ],
   "source": [
    "class Person:\n",
    "    def __init__(self, name, age):\n",
    "        self.name = name\n",
    "        self.age = age\n",
    "\n",
    "p1 = Person(\"Ganesh\", 36)\n",
    "\n",
    "print(p1)    #printing object it wont print data\n",
    "print(p1.name)# printing name\n",
    "print(p1.age) #printing age\n"
   ]
  },
  {
   "cell_type": "code",
   "execution_count": 33,
   "id": "56fc7f97",
   "metadata": {},
   "outputs": [
    {
     "name": "stdout",
     "output_type": "stream",
     "text": [
      "Fruit is strawberry and Color is red\n"
     ]
    }
   ],
   "source": [
    "class Fruit:\n",
    "    def __init__(self, name, color):\n",
    "        self.name = name\n",
    "        self.color = color\n",
    "\n",
    "    def show(self):\n",
    "        print(f\"Fruit is {self.name} and Color is {self.color}\")\n",
    "\n",
    "# creating object of the class\n",
    "obj = Fruit(\"Apple\", \"red\")\n",
    "\n",
    "# Modifying Object Properties\n",
    "obj.name = \"strawberry\"\n",
    "\n",
    "# calling the instance method using the object obj\n",
    "obj.show()"
   ]
  },
  {
   "cell_type": "code",
   "execution_count": 10,
   "id": "48f5f284",
   "metadata": {},
   "outputs": [
    {
     "name": "stdout",
     "output_type": "stream",
     "text": [
      "Fruit is Apple and Color is red\n",
      "None\n"
     ]
    }
   ],
   "source": [
    "class Fruit:\n",
    "    def __init__(self, name, color):\n",
    "        self.name = name\n",
    "        self.color = color\n",
    "\n",
    "    def show(self):\n",
    "        print(\"Fruit is\", self.name, \"and Color is\", self.color)\n",
    "\n",
    "# creating object of the class\n",
    "obj = Fruit(\"Apple\", \"red\")\n",
    "\n",
    "print(obj.show())"
   ]
  },
  {
   "cell_type": "code",
   "execution_count": 14,
   "id": "f6f8241d",
   "metadata": {},
   "outputs": [
    {
     "name": "stdout",
     "output_type": "stream",
     "text": [
      "Accessing sugar attribute using the cake1 object - 500Kg\n",
      "Accessing power attribute using the cake1 object - Corn power\n"
     ]
    }
   ],
   "source": [
    "## without constructor\n",
    "\n",
    "class Cake:\n",
    "    sugar = \"500Kg\"\n",
    "    power = \"Corn power\"\n",
    "def step1(self):\n",
    "    return f\"Mix the power with adequate water\"\n",
    "def step2(self):\n",
    "    return f\"Add sugar\"\n",
    "\n",
    "cake1 = Cake()\n",
    "cake2 = Cake()\n",
    "\n",
    "\n",
    "#access attribute name-------------obj.attribute\n",
    "\n",
    "print(f\"Accessing sugar attribute using the cake1 object - {cake1.sugar}\")\n",
    "print(f\"Accessing power attribute using the cake1 object - {cake1.power}\")\n",
    "\n",
    "\n",
    "#access method name ==============obj.method() "
   ]
  },
  {
   "cell_type": "code",
   "execution_count": 34,
   "id": "58004dcf",
   "metadata": {},
   "outputs": [
    {
     "name": "stdout",
     "output_type": "stream",
     "text": [
      "Hello my name is  ganesh\n",
      "my age is  36\n"
     ]
    }
   ],
   "source": [
    "class Person:\n",
    "    def __init__(self, name, age):\n",
    "        self.name = name\n",
    "        self.age = age\n",
    "        \n",
    "    def myfunc(self):\n",
    "        print(\"Hello my name is \" , self.name)\n",
    "        print('my age is ', self.age)\n",
    "\n",
    "p1 = Person(\"ganesh\", 36)\n",
    "p1.myfunc()"
   ]
  },
  {
   "cell_type": "code",
   "execution_count": 21,
   "id": "4e8a74ff",
   "metadata": {},
   "outputs": [
    {
     "name": "stdout",
     "output_type": "stream",
     "text": [
      "dog1\n",
      "I'm a dog1\n",
      "I'm a dog2\n"
     ]
    }
   ],
   "source": [
    "class Dog:\n",
    "    \n",
    "    attr1 = \"dog1\"\n",
    "    attr2 = \"dog2\"\n",
    "\n",
    "    def fun(self):\n",
    "        print(\"I'm a\", self.attr1)\n",
    "        print(\"I'm a\", self.attr2)\n",
    "\n",
    "\n",
    "obj = Dog()\n",
    "\n",
    "print(obj.attr1)\n",
    "obj.fun()"
   ]
  },
  {
   "cell_type": "code",
   "execution_count": 22,
   "id": "1c1d5207",
   "metadata": {},
   "outputs": [
    {
     "data": {
      "text/plain": [
       "'dog3'"
      ]
     },
     "execution_count": 22,
     "metadata": {},
     "output_type": "execute_result"
    }
   ],
   "source": [
    "obj.attr1 = 'dog3'   ## update attribute\n",
    "\n",
    "obj.attr1\n"
   ]
  },
  {
   "cell_type": "code",
   "execution_count": 24,
   "id": "212f685c",
   "metadata": {},
   "outputs": [
    {
     "name": "stdout",
     "output_type": "stream",
     "text": [
      "Hello my name is ganesh and I work in abc\n"
     ]
    }
   ],
   "source": [
    "class Person:\n",
    "    def __init__(self, name, company):\n",
    "        self.name = name\n",
    "        self.company = company\n",
    "\n",
    "    def show(self):\n",
    "        print(f\"Hello my name is {self.name} and I work in {self.company}\")\n",
    "\n",
    "\n",
    "obj = Person(\"ganesh\", \"abc\")\n",
    "obj.show()"
   ]
  },
  {
   "cell_type": "code",
   "execution_count": 39,
   "id": "fe4eb345",
   "metadata": {},
   "outputs": [
    {
     "name": "stdout",
     "output_type": "stream",
     "text": [
      "obj1 details:\n",
      "onj1 is a dog\n",
      "Breed:  Pug\n",
      "Color:  brown\n",
      "\n",
      "obj2 details:\n",
      "obj2 is a dog\n",
      "Breed:  Bulldog\n",
      "Color:  black\n",
      "\n",
      "Accessing class variable using class name\n",
      "dog\n"
     ]
    }
   ],
   "source": [
    "class Dog:\n",
    "\n",
    "    animal = 'dog'\n",
    "\n",
    "    def __init__(self, breed, color):\n",
    "        self.breed = breed\n",
    "        self.color = color\n",
    "\n",
    "\n",
    "# Objects of Dog class\n",
    "obj1 = Dog(\"Pug\", \"brown\")\n",
    "obj2 = Dog(\"Bulldog\", \"black\")\n",
    "\n",
    "print('obj1 details:')\n",
    "print('onj1 is a', obj1.animal)\n",
    "print('Breed: ', obj1.breed)\n",
    "print('Color: ', obj1.color)\n",
    "\n",
    "print('\\nobj2 details:')\n",
    "print('obj2 is a', obj2.animal)\n",
    "print('Breed: ', obj2.breed)\n",
    "print('Color: ', obj2.color)\n",
    "\n",
    "# Class variables can be accessed using class\n",
    "# name also\n",
    "print(\"\\nAccessing class variable using class name\")\n",
    "print(Dog.animal)"
   ]
  },
  {
   "cell_type": "code",
   "execution_count": 41,
   "id": "ef10fa4e",
   "metadata": {},
   "outputs": [
    {
     "name": "stdout",
     "output_type": "stream",
     "text": [
      "32\n",
      "13\n",
      "32\n"
     ]
    },
    {
     "ename": "AttributeError",
     "evalue": "'Bike' object has no attribute 'mielage'",
     "output_type": "error",
     "traceback": [
      "\u001b[1;31m---------------------------------------------------------------------------\u001b[0m",
      "\u001b[1;31mAttributeError\u001b[0m                            Traceback (most recent call last)",
      "Cell \u001b[1;32mIn[41], line 20\u001b[0m\n\u001b[0;32m     18\u001b[0m \u001b[38;5;66;03m# Here we created one more object of class First\u001b[39;00m\n\u001b[0;32m     19\u001b[0m obj2 \u001b[38;5;241m=\u001b[39m Bike()\n\u001b[1;32m---> 20\u001b[0m obj2\u001b[38;5;241m.\u001b[39mshowVariable()\n",
      "Cell \u001b[1;32mIn[41], line 7\u001b[0m, in \u001b[0;36mBike.showVariable\u001b[1;34m(self)\u001b[0m\n\u001b[0;32m      5\u001b[0m \u001b[38;5;28;01mdef\u001b[39;00m \u001b[38;5;21mshowVariable\u001b[39m(\u001b[38;5;28mself\u001b[39m):\n\u001b[0;32m      6\u001b[0m     \u001b[38;5;28mprint\u001b[39m(\u001b[38;5;28mself\u001b[39m\u001b[38;5;241m.\u001b[39mspeed) \n\u001b[1;32m----> 7\u001b[0m     \u001b[38;5;28mprint\u001b[39m(\u001b[38;5;28mself\u001b[39m\u001b[38;5;241m.\u001b[39mmielage)\n",
      "\u001b[1;31mAttributeError\u001b[0m: 'Bike' object has no attribute 'mielage'"
     ]
    }
   ],
   "source": [
    "class Bike:\n",
    "    \n",
    "    speed = 32\n",
    "\n",
    "    def showVariable(self):\n",
    "        print(self.speed) \n",
    "        print(self.mielage)\n",
    "\n",
    "obj1 = Bike()\n",
    "\n",
    "# We can also define some attribute of object like this. This attribute only belongs to only this object.\n",
    "obj1.mielage = 13\n",
    "\n",
    "# Here we call member function of class\n",
    "obj1.showVariable()\n",
    "\n",
    "\n",
    "# Here we created one more object of class First\n",
    "obj2 = Bike()\n",
    "obj2.showVariable()        #it will throw an error as mielage is not defined in second object"
   ]
  },
  {
   "cell_type": "code",
   "execution_count": 43,
   "id": "7641b656",
   "metadata": {},
   "outputs": [
    {
     "name": "stdout",
     "output_type": "stream",
     "text": [
      "21\n",
      "42\n"
     ]
    }
   ],
   "source": [
    "class Rectangle:\n",
    "     def __init__(self, width, height):\n",
    "            self.width = width\n",
    "            self.height = height\n",
    "\n",
    "\n",
    "rectangle = Rectangle(21, 42)\n",
    "\n",
    "print(rectangle.width)\n",
    "\n",
    "print(rectangle.height)"
   ]
  },
  {
   "cell_type": "code",
   "execution_count": 53,
   "id": "64d8c5c0",
   "metadata": {},
   "outputs": [
    {
     "name": "stdout",
     "output_type": "stream",
     "text": [
      "20\n",
      "10\n"
     ]
    }
   ],
   "source": [
    "class Rectangle:\n",
    "    def __init__(self, width, height):\n",
    "        self.width = width\n",
    "        self.height = height\n",
    "        \n",
    "    def get_height(self):\n",
    "        return self.height\n",
    "    \n",
    "    def get_width(self):\n",
    "        return self.width\n",
    "\n",
    "\n",
    "rectangle = Rectangle(10, 20)\n",
    "\n",
    "print(rectangle.get_height())\n",
    "\n",
    "print(rectangle.get_width())\n",
    "\n"
   ]
  },
  {
   "cell_type": "code",
   "execution_count": null,
   "id": "2acf5d84",
   "metadata": {},
   "outputs": [],
   "source": []
  }
 ],
 "metadata": {
  "kernelspec": {
   "display_name": "Python 3 (ipykernel)",
   "language": "python",
   "name": "python3"
  },
  "language_info": {
   "codemirror_mode": {
    "name": "ipython",
    "version": 3
   },
   "file_extension": ".py",
   "mimetype": "text/x-python",
   "name": "python",
   "nbconvert_exporter": "python",
   "pygments_lexer": "ipython3",
   "version": "3.11.5"
  }
 },
 "nbformat": 4,
 "nbformat_minor": 5
}
