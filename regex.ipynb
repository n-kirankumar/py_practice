{
 "cells": [
  {
   "cell_type": "markdown",
   "id": "88bee156",
   "metadata": {},
   "source": [
    "### 1. Write a  Python program to check that a string contains only a certain set of characters (in this case a-z, A-Z and 0-9)."
   ]
  },
  {
   "cell_type": "code",
   "execution_count": 4,
   "id": "d502f887",
   "metadata": {},
   "outputs": [
    {
     "name": "stdout",
     "output_type": "stream",
     "text": [
      "True\n",
      "False\n"
     ]
    }
   ],
   "source": [
    "import re\n",
    "\n",
    "def is_allowed_specific_char(string):\n",
    "    a = re.findall(r'[a-zA-Z0-9]+', string)\n",
    "    return bool(a)\n",
    "                   \n",
    "print(is_allowed_specific_char(\"ABCDEFabcdef123450\")) \n",
    "print(is_allowed_specific_char(\"*&%@#!}{\"))"
   ]
  },
  {
   "cell_type": "markdown",
   "id": "a23064b5",
   "metadata": {},
   "source": [
    "### 2 Extract dates or numbers from string"
   ]
  },
  {
   "cell_type": "code",
   "execution_count": 8,
   "id": "b0365414",
   "metadata": {},
   "outputs": [
    {
     "data": {
      "text/plain": [
       "['17', '1993', '51']"
      ]
     },
     "execution_count": 8,
     "metadata": {},
     "output_type": "execute_result"
    }
   ],
   "source": [
    "target_string = \"Emma is a basketball player who was born on June 17, 1993 me. Her weight is 51 kg.\"\n",
    "a = re.findall(r\"\\d+\",target_string)\n",
    "a"
   ]
  },
  {
   "cell_type": "code",
   "execution_count": 9,
   "id": "57176e16",
   "metadata": {},
   "outputs": [
    {
     "data": {
      "text/plain": [
       "['251', '761', '231', '451']"
      ]
     },
     "execution_count": 9,
     "metadata": {},
     "output_type": "execute_result"
    }
   ],
   "source": [
    "str1 = \"Emma's luck numbers are 251 761 231 451\"\n",
    "a = re.findall(r'\\d+',str1)\n",
    "a"
   ]
  },
  {
   "cell_type": "markdown",
   "id": "bc719343",
   "metadata": {},
   "source": [
    "### 3 Write a Python program to find sequences of lowercase letters joined by an underscore."
   ]
  },
  {
   "cell_type": "code",
   "execution_count": 1,
   "id": "e84de9aa",
   "metadata": {},
   "outputs": [
    {
     "ename": "NameError",
     "evalue": "name 're' is not defined",
     "output_type": "error",
     "traceback": [
      "\u001b[1;31m---------------------------------------------------------------------------\u001b[0m",
      "\u001b[1;31mNameError\u001b[0m                                 Traceback (most recent call last)",
      "Cell \u001b[1;32mIn[1], line 5\u001b[0m\n\u001b[0;32m      1\u001b[0m \u001b[38;5;28;01mdef\u001b[39;00m \u001b[38;5;21mtext_match\u001b[39m(text):\n\u001b[0;32m      2\u001b[0m     a \u001b[38;5;241m=\u001b[39m re\u001b[38;5;241m.\u001b[39mfindall(\u001b[38;5;124mr\u001b[39m\u001b[38;5;124m\"\u001b[39m\u001b[38;5;124m\"\u001b[39m)\n\u001b[1;32m----> 5\u001b[0m \u001b[38;5;28mprint\u001b[39m(text_match(\u001b[38;5;124m\"\u001b[39m\u001b[38;5;124maab_cbbbc\u001b[39m\u001b[38;5;124m\"\u001b[39m))\n\u001b[0;32m      6\u001b[0m \u001b[38;5;28mprint\u001b[39m(text_match(\u001b[38;5;124m\"\u001b[39m\u001b[38;5;124maab_Abbbc\u001b[39m\u001b[38;5;124m\"\u001b[39m))\n\u001b[0;32m      7\u001b[0m \u001b[38;5;28mprint\u001b[39m(text_match(\u001b[38;5;124m\"\u001b[39m\u001b[38;5;124mAaab_abbbc\u001b[39m\u001b[38;5;124m\"\u001b[39m))\n",
      "Cell \u001b[1;32mIn[1], line 2\u001b[0m, in \u001b[0;36mtext_match\u001b[1;34m(text)\u001b[0m\n\u001b[0;32m      1\u001b[0m \u001b[38;5;28;01mdef\u001b[39;00m \u001b[38;5;21mtext_match\u001b[39m(text):\n\u001b[1;32m----> 2\u001b[0m     a \u001b[38;5;241m=\u001b[39m re\u001b[38;5;241m.\u001b[39mfindall(\u001b[38;5;124mr\u001b[39m\u001b[38;5;124m\"\u001b[39m\u001b[38;5;124m\"\u001b[39m)\n",
      "\u001b[1;31mNameError\u001b[0m: name 're' is not defined"
     ]
    }
   ],
   "source": [
    "def text_match(text):\n",
    "    a = re.findall(r\"\")\n",
    "\n",
    "\n",
    "print(text_match(\"aab_cbbbc\"))\n",
    "print(text_match(\"aab_Abbbc\"))\n",
    "print(text_match(\"Aaab_abbbc\"))"
   ]
  },
  {
   "cell_type": "markdown",
   "id": "155ac486",
   "metadata": {},
   "source": [
    "###  4 . Write a Python program to remove multiple spaces from a string."
   ]
  },
  {
   "cell_type": "code",
   "execution_count": 2,
   "id": "21194919",
   "metadata": {},
   "outputs": [
    {
     "data": {
      "text/plain": [
       "'hellogoodmorningallofyou'"
      ]
     },
     "execution_count": 2,
     "metadata": {},
     "output_type": "execute_result"
    }
   ],
   "source": [
    "import re\n",
    "\n",
    "str1 = 'hello good morning all of you '\n",
    "\n",
    "re.sub (' ','',str1)"
   ]
  },
  {
   "cell_type": "code",
   "execution_count": 3,
   "id": "e728a2c0",
   "metadata": {},
   "outputs": [
    {
     "data": {
      "text/plain": [
       "'hellogoodmorningallofyou'"
      ]
     },
     "execution_count": 3,
     "metadata": {},
     "output_type": "execute_result"
    }
   ],
   "source": [
    "str1 = 'hello      good morning all of you '\n",
    "\n",
    "re.sub (' ','',str1)"
   ]
  },
  {
   "cell_type": "markdown",
   "id": "9cf08c27",
   "metadata": {},
   "source": [
    "### 5 .  from string get name age in dict "
   ]
  },
  {
   "cell_type": "code",
   "execution_count": 5,
   "id": "88ba614f",
   "metadata": {},
   "outputs": [
    {
     "name": "stdout",
     "output_type": "stream",
     "text": [
      "{'Janice': '22', 'Theon': '33', 'Gabriel': '44', 'Joey': '21'}\n"
     ]
    }
   ],
   "source": [
    "import re\n",
    " \n",
    "Nameage = '''\n",
    "Janice is 22 and Theon is 33\n",
    "Gabriel is 44 and Joey is 21\n",
    "'''\n",
    "\n",
    "name = re.findall(r'[A-Z][a-z]+' ,Nameage)\n",
    "age = re.findall(r\"\\d{2}\" ,Nameage)\n",
    "a = {}\n",
    "\n",
    "x = 0 \n",
    "for i in name:\n",
    "    a[i] = age[x]\n",
    "    x += 1\n",
    "print(a)\n",
    "    "
   ]
  },
  {
   "cell_type": "code",
   "execution_count": 10,
   "id": "0f5aa3d4",
   "metadata": {},
   "outputs": [
    {
     "data": {
      "text/plain": [
       "{'Janice': '22', 'Theon': '33', 'Gabriel': '44', 'Joey': '21'}"
      ]
     },
     "execution_count": 10,
     "metadata": {},
     "output_type": "execute_result"
    }
   ],
   "source": [
    "import re\n",
    "\n",
    "def str_age_name_to_dict(string):\n",
    "    name = re.findall(r'[A-Z]{1}[a-z]+',string)\n",
    "    age = re.findall(r'\\d{2}' , string)\n",
    "    req_dict = {}\n",
    "    x = 0\n",
    "    for i in name:\n",
    "        req_dict[i] = age[x]\n",
    "        x += 1\n",
    "    return req_dict\n",
    "str_age_name_to_dict('Janice is 22 and Theon is 33 Gabriel is 44 and Joey is 21')"
   ]
  },
  {
   "cell_type": "code",
   "execution_count": 11,
   "id": "7a2b2985",
   "metadata": {},
   "outputs": [
    {
     "name": "stdout",
     "output_type": "stream",
     "text": [
      "<re.Match object; span=(0, 1), match='g'>\n",
      "<re.Match object; span=(5, 6), match='.'>\n"
     ]
    }
   ],
   "source": [
    "import re \n",
    "\n",
    "s = 'geeks.forgeeks'\n",
    "\n",
    "# without using \\ \n",
    "match = re.search(r'.', s)    #match every character . means everything search will give first occurance\n",
    "print(match) \n",
    "\n",
    "# using \\ \n",
    "match = re.search(r'\\.', s) ### escape the . character\n",
    "print(match) \n"
   ]
  },
  {
   "cell_type": "code",
   "execution_count": null,
   "id": "b629dfdd",
   "metadata": {},
   "outputs": [],
   "source": []
  }
 ],
 "metadata": {
  "kernelspec": {
   "display_name": "Python 3 (ipykernel)",
   "language": "python",
   "name": "python3"
  },
  "language_info": {
   "codemirror_mode": {
    "name": "ipython",
    "version": 3
   },
   "file_extension": ".py",
   "mimetype": "text/x-python",
   "name": "python",
   "nbconvert_exporter": "python",
   "pygments_lexer": "ipython3",
   "version": "3.11.5"
  }
 },
 "nbformat": 4,
 "nbformat_minor": 5
}
