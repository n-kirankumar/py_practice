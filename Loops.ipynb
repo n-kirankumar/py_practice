{
 "cells": [
  {
   "cell_type": "code",
   "execution_count": 1,
   "id": "cc8b9699",
   "metadata": {},
   "outputs": [
    {
     "name": "stdout",
     "output_type": "stream",
     "text": [
      "11 is odd\n",
      "20 is even\n",
      "22 is even\n",
      "33 is odd\n",
      "41 is odd\n",
      "45 is odd\n",
      "66 is even\n"
     ]
    }
   ],
   "source": [
    "# Given a list of numbers print even for even numbers, odd for odd numbers\n",
    "numbers = [11,20,22,33,41,45,66]\n",
    "for num in numbers:\n",
    "    if num % 2 == 0:\n",
    "        print(num, 'is even')\n",
    "    else:\n",
    "        print(num, 'is odd')"
   ]
  },
  {
   "cell_type": "code",
   "execution_count": 3,
   "id": "720b2f98",
   "metadata": {},
   "outputs": [
    {
     "name": "stdout",
     "output_type": "stream",
     "text": [
      "2 is even \n",
      "4 is even \n",
      "6 is even \n"
     ]
    }
   ],
   "source": [
    "# print even ,skip odd   by using continue\n",
    "# continue means skip the iteration\n",
    "for i in [1,2,3,4,5,6,7]:\n",
    "    if i % 2 != 0 :\n",
    "        continue\n",
    "    else:\n",
    "        print(f'{i} is even ')"
   ]
  },
  {
   "cell_type": "code",
   "execution_count": null,
   "id": "a48c12e2",
   "metadata": {},
   "outputs": [],
   "source": []
  }
 ],
 "metadata": {
  "kernelspec": {
   "display_name": "Python 3 (ipykernel)",
   "language": "python",
   "name": "python3"
  },
  "language_info": {
   "codemirror_mode": {
    "name": "ipython",
    "version": 3
   },
   "file_extension": ".py",
   "mimetype": "text/x-python",
   "name": "python",
   "nbconvert_exporter": "python",
   "pygments_lexer": "ipython3",
   "version": "3.11.5"
  }
 },
 "nbformat": 4,
 "nbformat_minor": 5
}
