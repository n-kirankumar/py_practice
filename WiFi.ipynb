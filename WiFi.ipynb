{
 "cells": [
  {
   "cell_type": "code",
   "execution_count": 1,
   "id": "0318e287",
   "metadata": {},
   "outputs": [
    {
     "name": "stdout",
     "output_type": "stream",
     "text": [
      "Wi-Fi Name                    | Password\n",
      "----------------------------------------------\n",
      "Encoding Error Occurred\n",
      "Encoding Error Occurred\n",
      "Encoding Error Occurred\n",
      "Encoding Error Occurred\n",
      "Encoding Error Occurred\n",
      "Encoding Error Occurred\n",
      "Encoding Error Occurred\n",
      "Encoding Error Occurred\n"
     ]
    }
   ],
   "source": [
    "# importing subprocess\n",
    "import subprocess\n",
    "\n",
    "# getting meta data\n",
    "meta_data = subprocess.check_output(['netsh', 'wlan', 'show', 'profiles'])\n",
    "\n",
    "# decoding meta data\n",
    "data = meta_data.decode('utf-8', errors =\"backslashreplace\")\n",
    "\n",
    "# splitting data by line by line\n",
    "data = data.split('\\n')\n",
    "\n",
    "# creating a list of profiles\n",
    "profiles = []\n",
    "\n",
    "# traverse the data\n",
    "for i in data:\n",
    "\t\n",
    "\t# find \"All User Profile\" in each item\n",
    "\tif \"All User Profile\" in i :\n",
    "\t\t\n",
    "\t\t# if found\n",
    "\t\t# split the item \n",
    "\t\ti = i.split(\":\")\n",
    "\t\t\n",
    "\t\t# item at index 1 will be the wifi name\n",
    "\t\ti = i[1]\n",
    "\t\t\n",
    "\t\t# formatting the name\n",
    "\t\t# first and last character is use less\n",
    "\t\ti = i[1:-1]\n",
    "\t\t\n",
    "\t\t# appending the wifi name in the list\n",
    "\t\tprofiles.append(i)\n",
    "\t\t\n",
    "\n",
    "# printing heading\t \n",
    "print(\"{:<30}| {:<}\".format(\"Wi-Fi Name\", \"Password\"))\n",
    "print(\"----------------------------------------------\")\n",
    "\n",
    "# traversing the profiles\t \n",
    "for i in profiles:\n",
    "\t\n",
    "\t# try catch block begins\n",
    "\t# try block\n",
    "\ttry:\n",
    "\t\t# getting meta data with password using wifi name\n",
    "\t\tresults = subprocess.check_output(['netsh', 'wlan', 'show', 'profile', i, 'key = clear'])\n",
    "\t\t\n",
    "\t\t# decoding and splitting data line by line\n",
    "\t\tresults = results.decode('utf-8', errors =\"backslashreplace\")\n",
    "\t\tresults = results.split('\\n')\n",
    "\t\t\n",
    "\t\t# finding password from the result list\n",
    "\t\tresults = [b.split(\":\")[1][1:-1] for b in results if \"Key Content\" in b]\n",
    "\t\t\n",
    "\t\t# if there is password it will print the pass word\n",
    "\t\ttry:\n",
    "\t\t\tprint(\"{:<30}| {:<}\".format(i, results[0]))\n",
    "\t\t\n",
    "\t\t# else it will print blank in front of pass word\n",
    "\t\texcept IndexError:\n",
    "\t\t\tprint(\"{:<30}| {:<}\".format(i, \"\"))\n",
    "\t\t\t\n",
    "\t\n",
    "\t\t\t\n",
    "\t# called when this process get failed\n",
    "\texcept subprocess.CalledProcessError:\n",
    "\t\tprint(\"Encoding Error Occurred\")\n"
   ]
  },
  {
   "cell_type": "code",
   "execution_count": null,
   "id": "5197f69d",
   "metadata": {},
   "outputs": [
    {
     "name": "stdout",
     "output_type": "stream",
     "text": [
      "iPhone                        |  123456789\n",
      "Authentic                     |  9573157921A\n",
      "AK                            |  9573157921\n",
      "MI                            |  12345679\n",
      "Prima Hotels                  |  PrimaHotels@1\n",
      "OPPO A7                       |  00000000\n",
      "Amir's Galaxy A33 5G          |  @1234567\n"
     ]
    }
   ],
   "source": [
    "# Importing the Suboprocess module\n",
    "import subprocess\n",
    "\n",
    "# running command\n",
    "command = subprocess.check_output(['netsh', 'wlan', 'show', 'profiles']).decode('utf-8').split('\\n')\n",
    "profiles = [i.split(\":\")[1][1:-1] for i in command if \"All User Profile\" in i]\n",
    "for i in profiles:\n",
    "    results = subprocess.check_output(['netsh', 'wlan', 'show', 'profile', i, 'key=clear']).decode('utf-8').split('\\n')\n",
    "    results = [b.split(\":\")[1][1:-1] for b in results if \"Key Content\" in b]\n",
    "    try:\n",
    "        print (\"{:<30}|  {:<}\".format(i, results[0]))\n",
    "    except IndexError:\n",
    "        print (\"{:<30}|  {:<}\".format(i, \"\"))\n",
    "input(\"\")\n"
   ]
  },
  {
   "cell_type": "code",
   "execution_count": null,
   "id": "ff945230",
   "metadata": {},
   "outputs": [],
   "source": []
  }
 ],
 "metadata": {
  "kernelspec": {
   "display_name": "Python 3 (ipykernel)",
   "language": "python",
   "name": "python3"
  },
  "language_info": {
   "codemirror_mode": {
    "name": "ipython",
    "version": 3
   },
   "file_extension": ".py",
   "mimetype": "text/x-python",
   "name": "python",
   "nbconvert_exporter": "python",
   "pygments_lexer": "ipython3",
   "version": "3.11.5"
  }
 },
 "nbformat": 4,
 "nbformat_minor": 5
}
