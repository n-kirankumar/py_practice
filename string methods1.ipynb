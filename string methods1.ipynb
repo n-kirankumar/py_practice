{
 "cells": [
  {
   "cell_type": "code",
   "execution_count": 3,
   "id": "6708200c",
   "metadata": {},
   "outputs": [
    {
     "data": {
      "text/plain": [
       "'Hello How Are You'"
      ]
     },
     "execution_count": 3,
     "metadata": {},
     "output_type": "execute_result"
    }
   ],
   "source": [
    "a = 'hello how are you'\n",
    "a.title()                          #every word after space is capital"
   ]
  },
  {
   "cell_type": "code",
   "execution_count": 6,
   "id": "deea2ccf",
   "metadata": {},
   "outputs": [
    {
     "data": {
      "text/plain": [
       "True"
      ]
     },
     "execution_count": 6,
     "metadata": {},
     "output_type": "execute_result"
    }
   ],
   "source": [
    "a = 'radha Krishna'\n",
    "\n",
    "a.isalnum()                       # only alphanumeric"
   ]
  },
  {
   "cell_type": "code",
   "execution_count": 7,
   "id": "c63f67a6",
   "metadata": {},
   "outputs": [
    {
     "data": {
      "text/plain": [
       "False"
      ]
     },
     "execution_count": 7,
     "metadata": {},
     "output_type": "execute_result"
    }
   ],
   "source": [
    "a = 'radha Krishna'\n",
    "\n",
    "a.isalnum()      "
   ]
  },
  {
   "cell_type": "code",
   "execution_count": 10,
   "id": "dc50e1b5",
   "metadata": {},
   "outputs": [
    {
     "data": {
      "text/plain": [
       "False"
      ]
     },
     "execution_count": 10,
     "metadata": {},
     "output_type": "execute_result"
    }
   ],
   "source": [
    "a = 'radha Krishna'\n",
    "\n",
    "a.isdigit()"
   ]
  },
  {
   "cell_type": "code",
   "execution_count": 12,
   "id": "7a0a89b6",
   "metadata": {},
   "outputs": [
    {
     "data": {
      "text/plain": [
       "True"
      ]
     },
     "execution_count": 12,
     "metadata": {},
     "output_type": "execute_result"
    }
   ],
   "source": [
    "a = '123'\n",
    "a.isdigit()"
   ]
  },
  {
   "cell_type": "code",
   "execution_count": 13,
   "id": "5389074a",
   "metadata": {},
   "outputs": [
    {
     "data": {
      "text/plain": [
       "'radha'"
      ]
     },
     "execution_count": 13,
     "metadata": {},
     "output_type": "execute_result"
    }
   ],
   "source": [
    "a = '             radha'\n",
    "a.lstrip()"
   ]
  },
  {
   "cell_type": "code",
   "execution_count": 14,
   "id": "a15ed4ce",
   "metadata": {},
   "outputs": [
    {
     "data": {
      "text/plain": [
       "'             radha'"
      ]
     },
     "execution_count": 14,
     "metadata": {},
     "output_type": "execute_result"
    }
   ],
   "source": [
    "a = '             radha                   '\n",
    "a.rstrip()"
   ]
  },
  {
   "cell_type": "code",
   "execution_count": 15,
   "id": "7f7307d4",
   "metadata": {},
   "outputs": [
    {
     "data": {
      "text/plain": [
       "'radha'"
      ]
     },
     "execution_count": 15,
     "metadata": {},
     "output_type": "execute_result"
    }
   ],
   "source": [
    "a = '             radha                   '\n",
    "a.strip()"
   ]
  },
  {
   "cell_type": "code",
   "execution_count": 17,
   "id": "050fa885",
   "metadata": {},
   "outputs": [
    {
     "data": {
      "text/plain": [
       "'radha'"
      ]
     },
     "execution_count": 17,
     "metadata": {},
     "output_type": "execute_result"
    }
   ],
   "source": [
    "a =  '@@@@@@@@@@@@@@@radha'\n",
    "a.strip('@')"
   ]
  },
  {
   "cell_type": "code",
   "execution_count": 18,
   "id": "31c8d735",
   "metadata": {},
   "outputs": [
    {
     "data": {
      "text/plain": [
       "'Radha krishna'"
      ]
     },
     "execution_count": 18,
     "metadata": {},
     "output_type": "execute_result"
    }
   ],
   "source": [
    "a = 'radha krishna'\n",
    "a.capitalize()        # only first letter capital letter"
   ]
  },
  {
   "cell_type": "code",
   "execution_count": 19,
   "id": "e6e42c06",
   "metadata": {},
   "outputs": [
    {
     "data": {
      "text/plain": [
       "'RADHA KRISHNA'"
      ]
     },
     "execution_count": 19,
     "metadata": {},
     "output_type": "execute_result"
    }
   ],
   "source": [
    "a = 'radha krishna'\n",
    "a.upper()"
   ]
  },
  {
   "cell_type": "code",
   "execution_count": 20,
   "id": "361ad8d6",
   "metadata": {},
   "outputs": [
    {
     "data": {
      "text/plain": [
       "'radha krishna'"
      ]
     },
     "execution_count": 20,
     "metadata": {},
     "output_type": "execute_result"
    }
   ],
   "source": [
    "a = 'RADHA KRISHNA'\n",
    "a.lower()"
   ]
  },
  {
   "cell_type": "code",
   "execution_count": 22,
   "id": "d72c3ec0",
   "metadata": {},
   "outputs": [
    {
     "data": {
      "text/plain": [
       "4"
      ]
     },
     "execution_count": 22,
     "metadata": {},
     "output_type": "execute_result"
    }
   ],
   "source": [
    "a = 'radhe krishna radhe krishna krishna krishna radhe radhe'\n",
    "a.count('radhe')"
   ]
  },
  {
   "cell_type": "code",
   "execution_count": 24,
   "id": "417a060b",
   "metadata": {},
   "outputs": [
    {
     "data": {
      "text/plain": [
       "4"
      ]
     },
     "execution_count": 24,
     "metadata": {},
     "output_type": "execute_result"
    }
   ],
   "source": [
    "a = 'radhe krishna radhe krishna krishna krishna radhe radhe'\n",
    "a.count('he')"
   ]
  },
  {
   "cell_type": "code",
   "execution_count": 27,
   "id": "470a23a5",
   "metadata": {},
   "outputs": [
    {
     "data": {
      "text/plain": [
       "'radhe krishna radhe krishna krishna krishna radhe radhe'"
      ]
     },
     "execution_count": 27,
     "metadata": {},
     "output_type": "execute_result"
    }
   ],
   "source": [
    "# Doubt\n",
    "\n",
    "a = 'radhe krishna radhe krishna krishna krishna radhe radhe'\n",
    "b = a.replace('radha','krishna')\n",
    "b"
   ]
  },
  {
   "cell_type": "code",
   "execution_count": 28,
   "id": "2c789292",
   "metadata": {},
   "outputs": [],
   "source": [
    "#Input: s = “geeks quiz practice code” \n",
    "#Output: s = “code practice quiz geeks”"
   ]
  },
  {
   "cell_type": "code",
   "execution_count": 48,
   "id": "8f583e54",
   "metadata": {},
   "outputs": [
    {
     "data": {
      "text/plain": [
       "'code practice quiz geeks'"
      ]
     },
     "execution_count": 48,
     "metadata": {},
     "output_type": "execute_result"
    }
   ],
   "source": [
    "s = \"geeks quiz practice code\"\n",
    "\n",
    "b =  s.split()   # converted into list\n",
    "\n",
    "c = b[::-1]      # and reversed the list \n",
    "\n",
    "' '.join(c)        # list too string ''.join method used"
   ]
  },
  {
   "cell_type": "code",
   "execution_count": 49,
   "id": "a2eb4064",
   "metadata": {},
   "outputs": [
    {
     "data": {
      "text/plain": [
       "'ollrh'"
      ]
     },
     "execution_count": 49,
     "metadata": {},
     "output_type": "execute_result"
    }
   ],
   "source": [
    "'hrllo'[::-1]"
   ]
  },
  {
   "cell_type": "markdown",
   "id": "31e3007d",
   "metadata": {},
   "source": [
    "### Python program to check whether the string is Symmetrical or Palindrome"
   ]
  },
  {
   "cell_type": "code",
   "execution_count": 51,
   "id": "dde9fcd1",
   "metadata": {},
   "outputs": [
    {
     "name": "stdout",
     "output_type": "stream",
     "text": [
      "not palindrome\n"
     ]
    }
   ],
   "source": [
    "string = 'hello'\n",
    "\n",
    "if string == string [::-1] :\n",
    "    print('palindrome')\n",
    "else:\n",
    "    print('not palindrome' )"
   ]
  },
  {
   "cell_type": "code",
   "execution_count": 54,
   "id": "6015d5fd",
   "metadata": {},
   "outputs": [
    {
     "data": {
      "text/plain": [
       "'palindrome'"
      ]
     },
     "execution_count": 54,
     "metadata": {},
     "output_type": "execute_result"
    }
   ],
   "source": [
    "def palindrome(my_str):\n",
    "    if my_str == my_str [::-1] :\n",
    "        return ('palindrome')\n",
    "    else:\n",
    "        return('not palindrome')\n",
    "    \n",
    "palindrome('aba')           ### call by value\n",
    "    "
   ]
  },
  {
   "cell_type": "code",
   "execution_count": 55,
   "id": "b5d1af2b",
   "metadata": {},
   "outputs": [
    {
     "name": "stdout",
     "output_type": "stream",
     "text": [
      "enter string value to check palindrome ? : aba\n"
     ]
    },
    {
     "data": {
      "text/plain": [
       "'palindrome'"
      ]
     },
     "execution_count": 55,
     "metadata": {},
     "output_type": "execute_result"
    }
   ],
   "source": [
    "def palindrome(my_str):\n",
    "    if my_str == my_str [::-1] :\n",
    "        return ('palindrome')\n",
    "    else:\n",
    "        return('not palindrome')\n",
    "    \n",
    "input_str = input('enter string value to check palindrome ? : ')\n",
    "    \n",
    "palindrome(input_str)           ### call by reference\n",
    "    "
   ]
  },
  {
   "cell_type": "code",
   "execution_count": null,
   "id": "db655c83",
   "metadata": {},
   "outputs": [],
   "source": []
  }
 ],
 "metadata": {
  "kernelspec": {
   "display_name": "Python 3 (ipykernel)",
   "language": "python",
   "name": "python3"
  },
  "language_info": {
   "codemirror_mode": {
    "name": "ipython",
    "version": 3
   },
   "file_extension": ".py",
   "mimetype": "text/x-python",
   "name": "python",
   "nbconvert_exporter": "python",
   "pygments_lexer": "ipython3",
   "version": "3.11.5"
  }
 },
 "nbformat": 4,
 "nbformat_minor": 5
}
