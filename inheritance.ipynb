{
 "cells": [
  {
   "cell_type": "markdown",
   "id": "a5fd4962",
   "metadata": {},
   "source": [
    "### Inheritance\n",
    "Inheritance is a mechanism where a new class, known as a child class, derives properties and behaviors (methods) from an existing class, the parent class. This concept is pivotal for creating a hierarchy and sharing code across classes."
   ]
  },
  {
   "cell_type": "code",
   "execution_count": 1,
   "id": "b82bcbab",
   "metadata": {},
   "outputs": [
    {
     "name": "stdout",
     "output_type": "stream",
     "text": [
      "Buddy says Woof!\n",
      "Whiskers says Meow!\n"
     ]
    }
   ],
   "source": [
    "class Animal:\n",
    "    def __init__(self, name):\n",
    "        self.name = name\n",
    "\n",
    "    def speak(self):\n",
    "        pass\n",
    "\n",
    "\n",
    "class Dog(Animal):\n",
    "    def speak(self):\n",
    "        return f\"{self.name} says Woof!\"\n",
    "\n",
    "\n",
    "class Cat(Animal):\n",
    "    def speak(self):\n",
    "        return f\"{self.name} says Meow!\"\n",
    "\n",
    "\n",
    "dog = Dog(\"Buddy\")\n",
    "cat = Cat(\"Whiskers\")\n",
    "print(dog.speak())  # Output: Buddy says Woof!\n",
    "print(cat.speak())  # Output: Whiskers says Meow!"
   ]
  },
  {
   "cell_type": "markdown",
   "id": "291b391d",
   "metadata": {},
   "source": [
    "### Encapsulation\n",
    "Encapsulation protects an object’s internal state by exposing only selected methods and properties. This reduces the risk of unintended interference and bugs"
   ]
  },
  {
   "cell_type": "code",
   "execution_count": 2,
   "id": "8d09181f",
   "metadata": {},
   "outputs": [
    {
     "name": "stdout",
     "output_type": "stream",
     "text": [
      "1500\n",
      "1300\n"
     ]
    }
   ],
   "source": [
    "class Account:\n",
    "    def __init__(self, id, balance=0):\n",
    "        self.__id = id        # Private attribute\n",
    "        self.__balance = balance\n",
    "\n",
    "    def deposit(self, amount):\n",
    "        if amount > 0:\n",
    "            self.__balance += amount\n",
    "\n",
    "    def withdraw(self, amount):\n",
    "        if 0 < amount <= self.__balance:\n",
    "            self.__balance -= amount\n",
    "            return amount\n",
    "        return \"Insufficient balance\"\n",
    "\n",
    "    def get_balance(self):\n",
    "        return self.__balance\n",
    "\n",
    "\n",
    "account = Account(1, 1000)\n",
    "account.deposit(500)\n",
    "print(account.get_balance())  # 1500\n",
    "account.withdraw(200)\n",
    "print(account.get_balance())  # 1300"
   ]
  },
  {
   "cell_type": "markdown",
   "id": "9bc52536",
   "metadata": {},
   "source": [
    "### Polymorphism\n",
    "Polymorphism enables objects of different classes to be treated as objects of a common superclass. It’s about using a single interface to represent different underlying forms (data types)."
   ]
  },
  {
   "cell_type": "code",
   "execution_count": 3,
   "id": "d043c57a",
   "metadata": {},
   "outputs": [
    {
     "name": "stdout",
     "output_type": "stream",
     "text": [
      "Drawing a rectangle\n",
      "Drawing a circle\n"
     ]
    }
   ],
   "source": [
    "class Rectangle:\n",
    "    def draw(self):\n",
    "        return \"Drawing a rectangle\"\n",
    "\n",
    "class Circle:\n",
    "    def draw(self):\n",
    "        return \"Drawing a circle\"\n",
    "\n",
    "def draw_shape(shape):\n",
    "    print(shape.draw())\n",
    "\n",
    "\n",
    "draw_shape(Rectangle())  # Output: Drawing a rectangle\n",
    "draw_shape(Circle())     # Output: Drawing a circle"
   ]
  },
  {
   "cell_type": "code",
   "execution_count": 4,
   "id": "af8c73e9",
   "metadata": {},
   "outputs": [
    {
     "name": "stdout",
     "output_type": "stream",
     "text": [
      "Rahul\n",
      "886012\n",
      "My name is Rahul\n",
      "IdNumber: 886012\n",
      "Post: Intern\n"
     ]
    }
   ],
   "source": [
    "# Python code to demonstrate how parent constructors\n",
    "# are called.\n",
    "\n",
    "# parent class\n",
    "class Person(object):\n",
    "\n",
    "    # __init__ is known as the constructor\n",
    "    def __init__(self, name, idnumber):\n",
    "        self.name = name\n",
    "        self.idnumber = idnumber\n",
    "\n",
    "    def display(self):\n",
    "        print(self.name)\n",
    "        print(self.idnumber)\n",
    "        \n",
    "    def details(self):\n",
    "        print(\"My name is {}\".format(self.name))\n",
    "        print(\"IdNumber: {}\".format(self.idnumber))\n",
    "    \n",
    "# child class\n",
    "class Employee(Person):\n",
    "    def __init__(self, name, idnumber, salary, post):\n",
    "        self.salary = salary\n",
    "        self.post = post\n",
    "\n",
    "        # invoking the __init__ of the parent class\n",
    "        Person.__init__(self, name, idnumber)\n",
    "        \n",
    "    def details(self):\n",
    "        print(\"My name is {}\".format(self.name))\n",
    "        print(\"IdNumber: {}\".format(self.idnumber))\n",
    "        print(\"Post: {}\".format(self.post))\n",
    "\n",
    "\n",
    "# creation of an object variable or an instance\n",
    "a = Employee('Rahul', 886012, 200000, \"Intern\")\n",
    "\n",
    "# calling a function of the class Person using\n",
    "# its instance\n",
    "a.display()\n",
    "a.details()\n"
   ]
  },
  {
   "cell_type": "code",
   "execution_count": 5,
   "id": "f45d61e4",
   "metadata": {},
   "outputs": [],
   "source": [
    "# inheritance"
   ]
  },
  {
   "cell_type": "code",
   "execution_count": null,
   "id": "cd493d38",
   "metadata": {},
   "outputs": [],
   "source": []
  }
 ],
 "metadata": {
  "kernelspec": {
   "display_name": "Python 3 (ipykernel)",
   "language": "python",
   "name": "python3"
  },
  "language_info": {
   "codemirror_mode": {
    "name": "ipython",
    "version": 3
   },
   "file_extension": ".py",
   "mimetype": "text/x-python",
   "name": "python",
   "nbconvert_exporter": "python",
   "pygments_lexer": "ipython3",
   "version": "3.11.5"
  }
 },
 "nbformat": 4,
 "nbformat_minor": 5
}
