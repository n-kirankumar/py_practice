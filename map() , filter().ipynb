{
 "cells": [
  {
   "cell_type": "markdown",
   "id": "9e82441a",
   "metadata": {},
   "source": [
    "## map(function, iterable)"
   ]
  },
  {
   "cell_type": "code",
   "execution_count": 14,
   "id": "b95119df",
   "metadata": {},
   "outputs": [
    {
     "data": {
      "text/plain": [
       "[1, 4, 9]"
      ]
     },
     "execution_count": 14,
     "metadata": {},
     "output_type": "execute_result"
    }
   ],
   "source": [
    "# 1 .square of given list using map\n",
    "\n",
    "def square(x):\n",
    "    return x**2\n",
    "\n",
    "b = map(square,[1,2,3])\n",
    "list(b)"
   ]
  },
  {
   "cell_type": "code",
   "execution_count": null,
   "id": "b79c457b",
   "metadata": {},
   "outputs": [],
   "source": []
  },
  {
   "cell_type": "code",
   "execution_count": 15,
   "id": "1caf85b0",
   "metadata": {
    "scrolled": true
   },
   "outputs": [
    {
     "data": {
      "text/plain": [
       "[1, 4, 9, 16, 25]"
      ]
     },
     "execution_count": 15,
     "metadata": {},
     "output_type": "execute_result"
    }
   ],
   "source": [
    "# 2. square of given list using lambda and map \n",
    "\n",
    "numbers = [1, 2, 3, 4, 5]\n",
    "squared = map(lambda x: x**2, numbers)\n",
    "list(squared)"
   ]
  },
  {
   "cell_type": "code",
   "execution_count": null,
   "id": "ce393d23",
   "metadata": {},
   "outputs": [],
   "source": []
  },
  {
   "cell_type": "code",
   "execution_count": 16,
   "id": "19934b96",
   "metadata": {},
   "outputs": [
    {
     "name": "stdout",
     "output_type": "stream",
     "text": [
      "[1, 2, 3, 4, 5]\n"
     ]
    }
   ],
   "source": [
    "# Example 3: \n",
    "\n",
    "numbers_str = ['1', '2', '3', '4', '5']  # iterable\n",
    "numbers_int = map(int, numbers_str)\n",
    "print(list(numbers_int)) "
   ]
  },
  {
   "cell_type": "code",
   "execution_count": null,
   "id": "d0f37283",
   "metadata": {},
   "outputs": [],
   "source": []
  },
  {
   "cell_type": "code",
   "execution_count": 17,
   "id": "a830d6ae",
   "metadata": {},
   "outputs": [
    {
     "name": "stdout",
     "output_type": "stream",
     "text": [
      "['MILAAN', 'ARTHUR', 'BILL', 'CLARK']\n"
     ]
    }
   ],
   "source": [
    "# Example 4: \n",
    "names = ['Milaan', 'Arthur', 'Bill', 'Clark'] # change to upper\n",
    "\n",
    "def change_to_upper(x):\n",
    "    return x.upper()\n",
    "\n",
    "result = list(map(change_to_upper,names))\n",
    "print(result)"
   ]
  },
  {
   "cell_type": "code",
   "execution_count": null,
   "id": "b1d60460",
   "metadata": {},
   "outputs": [],
   "source": []
  },
  {
   "cell_type": "code",
   "execution_count": 19,
   "id": "c9ae4f48",
   "metadata": {},
   "outputs": [
    {
     "data": {
      "text/plain": [
       "['MILAAN', 'ARTHUR', 'BILL', 'CLARK']"
      ]
     },
     "execution_count": 19,
     "metadata": {},
     "output_type": "execute_result"
    }
   ],
   "source": [
    "#  5 use lambda to change into upper by using map\n",
    "\n",
    "result1 = list(map(lambda x : x.upper(),names))\n",
    "result1"
   ]
  },
  {
   "cell_type": "code",
   "execution_count": null,
   "id": "56f070b2",
   "metadata": {},
   "outputs": [],
   "source": []
  },
  {
   "cell_type": "code",
   "execution_count": 20,
   "id": "520620dd",
   "metadata": {},
   "outputs": [
    {
     "data": {
      "text/plain": [
       "[2, 4, 6]"
      ]
     },
     "execution_count": 20,
     "metadata": {},
     "output_type": "execute_result"
    }
   ],
   "source": [
    "# 6 double the list of number using map \n",
    "\n",
    "def double(x):\n",
    "    return x * 2\n",
    "\n",
    "mylist = [1,2,3]\n",
    "\n",
    "result = list(map(double,mylist))\n",
    "result"
   ]
  },
  {
   "cell_type": "code",
   "execution_count": null,
   "id": "0a763300",
   "metadata": {},
   "outputs": [],
   "source": []
  },
  {
   "cell_type": "code",
   "execution_count": null,
   "id": "bee5bd82",
   "metadata": {},
   "outputs": [],
   "source": []
  },
  {
   "cell_type": "markdown",
   "id": "95066bea",
   "metadata": {},
   "source": [
    "Python - filter Function\n",
    "The filter() function calls the specified function which returns boolean for each item of the specified iterable (list). It filters the items that satisfy the filtering criteria.\n",
    "\n",
    "# syntax\n",
    "    filter(function, iterable)"
   ]
  },
  {
   "cell_type": "code",
   "execution_count": 21,
   "id": "34e22a4d",
   "metadata": {},
   "outputs": [
    {
     "data": {
      "text/plain": [
       "[2, 4]"
      ]
     },
     "execution_count": 21,
     "metadata": {},
     "output_type": "execute_result"
    }
   ],
   "source": [
    "# 1 print even list from given list using filter function \n",
    "\n",
    "numbers = [1, 2, 3, 4, 5]  # iterable\n",
    "\n",
    "def is_even(x):\n",
    "    if x % 2 == 0 :\n",
    "        return True\n",
    "    return False\n",
    "\n",
    "even_numbers = list(filter(is_even,numbers)) \n",
    "even_numbers"
   ]
  },
  {
   "cell_type": "code",
   "execution_count": null,
   "id": "9e6141ec",
   "metadata": {},
   "outputs": [],
   "source": []
  },
  {
   "cell_type": "code",
   "execution_count": 22,
   "id": "0e6bb610",
   "metadata": {},
   "outputs": [
    {
     "name": "stdout",
     "output_type": "stream",
     "text": [
      "[1, 3, 5]\n"
     ]
    }
   ],
   "source": [
    "# 2 print odd list from given list  using filter function\n",
    "\n",
    "numbers = [1, 2, 3, 4, 5]  # iterable\n",
    "\n",
    "def is_odd(x):\n",
    "    if x % 2 != 0:\n",
    "        return True\n",
    "    return False\n",
    "\n",
    "\n",
    "odd_numbers = list(filter(is_odd,numbers))\n",
    "print(odd_numbers)"
   ]
  },
  {
   "cell_type": "code",
   "execution_count": null,
   "id": "dc772003",
   "metadata": {},
   "outputs": [],
   "source": []
  },
  {
   "cell_type": "code",
   "execution_count": 23,
   "id": "6e70ab95",
   "metadata": {},
   "outputs": [
    {
     "data": {
      "text/plain": [
       "['Milaan', 'Arthur']"
      ]
     },
     "execution_count": 23,
     "metadata": {},
     "output_type": "execute_result"
    }
   ],
   "source": [
    "# 3 filter a list from given list whose lenght of name is greater than 5 using filter\n",
    "\n",
    "names = ['Milaan', 'Arthur', 'Bill', 'Clark']  # iterable\n",
    "\n",
    "def long_name(x):\n",
    "    if len(x) > 5 :\n",
    "        return True\n",
    "    return False\n",
    "\n",
    "long_names = list(filter(long_name,names))\n",
    "long_names"
   ]
  },
  {
   "cell_type": "code",
   "execution_count": null,
   "id": "3efcf804",
   "metadata": {},
   "outputs": [],
   "source": []
  },
  {
   "cell_type": "code",
   "execution_count": 24,
   "id": "909ae185",
   "metadata": {},
   "outputs": [
    {
     "data": {
      "text/plain": [
       "[6, 7, 8, 9]"
      ]
     },
     "execution_count": 24,
     "metadata": {},
     "output_type": "execute_result"
    }
   ],
   "source": [
    "#4  Filter out all the numbers greater than 5 from a list using filter\n",
    "\n",
    "my_list = [1,2,3,4,5,6,7,8,9]\n",
    "output_list = filter(lambda x : x>5, my_list)\n",
    "\n",
    "list(output_list)"
   ]
  },
  {
   "cell_type": "code",
   "execution_count": null,
   "id": "aeb7c18a",
   "metadata": {},
   "outputs": [],
   "source": [
    "\n",
    "\n"
   ]
  },
  {
   "cell_type": "markdown",
   "id": "f22f096f",
   "metadata": {},
   "source": [
    "## The Reduce Function\n",
    "- syntax\n",
    "- reduce(func, seq)"
   ]
  },
  {
   "cell_type": "code",
   "execution_count": 2,
   "id": "0e598422",
   "metadata": {},
   "outputs": [
    {
     "data": {
      "text/plain": [
       "120"
      ]
     },
     "execution_count": 2,
     "metadata": {},
     "output_type": "execute_result"
    }
   ],
   "source": [
    "# 1 Compute the product of a list of integers using 'reduce'function using lambda\n",
    "\n",
    "from functools import reduce\n",
    "product = reduce((lambda x,y : x*y), [1,2,3,4,5])\n",
    "\n",
    "product"
   ]
  },
  {
   "cell_type": "code",
   "execution_count": null,
   "id": "22719088",
   "metadata": {},
   "outputs": [],
   "source": []
  },
  {
   "cell_type": "code",
   "execution_count": 25,
   "id": "c4a3b564",
   "metadata": {},
   "outputs": [
    {
     "name": "stdout",
     "output_type": "stream",
     "text": [
      "120\n"
     ]
    }
   ],
   "source": [
    "# 2 Compute the product of a list of integers using 'reduce'function \n",
    "\n",
    "from functools import reduce\n",
    "def multiply(x, y):\n",
    "    return x * y\n",
    "\n",
    "numbers = [1, 2, 3, 4, 5]\n",
    "result = reduce(multiply, numbers)\n",
    "print(result)"
   ]
  },
  {
   "cell_type": "code",
   "execution_count": null,
   "id": "7eec95e8",
   "metadata": {},
   "outputs": [],
   "source": []
  },
  {
   "cell_type": "markdown",
   "id": "764eb5fb",
   "metadata": {},
   "source": [
    "### List comprehension"
   ]
  },
  {
   "cell_type": "code",
   "execution_count": 26,
   "id": "acdc5945",
   "metadata": {},
   "outputs": [
    {
     "data": {
      "text/plain": [
       "[0, 1, 4, 9, 16, 25, 36, 49, 64, 81]"
      ]
     },
     "execution_count": 26,
     "metadata": {},
     "output_type": "execute_result"
    }
   ],
   "source": [
    "# 1 Creating a list of squares of first 10 using list comprehension\n",
    "\n",
    "squares = [x**2 for x in range(10)]\n",
    "squares"
   ]
  },
  {
   "cell_type": "code",
   "execution_count": null,
   "id": "65b7cde2",
   "metadata": {},
   "outputs": [],
   "source": []
  },
  {
   "cell_type": "code",
   "execution_count": 27,
   "id": "f077b8e0",
   "metadata": {},
   "outputs": [
    {
     "data": {
      "text/plain": [
       "[20, 40, 60]"
      ]
     },
     "execution_count": 27,
     "metadata": {},
     "output_type": "execute_result"
    }
   ],
   "source": [
    "# 2 double list using list comprehension\n",
    "\n",
    "mylist = [10,20,30]\n",
    "\n",
    "new_list = [i*2 for i in mylist]\n",
    "new_list"
   ]
  },
  {
   "cell_type": "code",
   "execution_count": null,
   "id": "ad4a0462",
   "metadata": {},
   "outputs": [],
   "source": []
  },
  {
   "cell_type": "code",
   "execution_count": 28,
   "id": "81d5d847",
   "metadata": {},
   "outputs": [
    {
     "name": "stdout",
     "output_type": "stream",
     "text": [
      "[0, 2, 4]\n"
     ]
    }
   ],
   "source": [
    "# 3 filtering even numbers from a list\n",
    "\n",
    "even_numbers = [i for i in range(5) if i %2 == 0 ]\n",
    "print(even_numbers)\n",
    "\n",
    "# Output: [2, 4, 6, 8]"
   ]
  },
  {
   "cell_type": "code",
   "execution_count": null,
   "id": "97693e71",
   "metadata": {},
   "outputs": [],
   "source": []
  },
  {
   "cell_type": "code",
   "execution_count": 29,
   "id": "4b216c5e",
   "metadata": {},
   "outputs": [
    {
     "data": {
      "text/plain": [
       "['e', 'o']"
      ]
     },
     "execution_count": 29,
     "metadata": {},
     "output_type": "execute_result"
    }
   ],
   "source": [
    "# 4 List Comprehension with String find vowels from given word\n",
    "\n",
    "word = 'hello'\n",
    "vowels = 'aeiou'\n",
    "\n",
    "result = [i for i in word if i in vowels ]\n",
    "result"
   ]
  },
  {
   "cell_type": "code",
   "execution_count": null,
   "id": "b43afa11",
   "metadata": {},
   "outputs": [],
   "source": []
  },
  {
   "cell_type": "code",
   "execution_count": 30,
   "id": "d42d428d",
   "metadata": {},
   "outputs": [
    {
     "data": {
      "text/plain": [
       "[5, 6, 6, 6]"
      ]
     },
     "execution_count": 30,
     "metadata": {},
     "output_type": "execute_result"
    }
   ],
   "source": [
    "# 5 Finding word length exercise question using list comprehension\n",
    "\n",
    "words = [\"apple\", \"banana\", \"cherry\", \"orange\"] \n",
    "result = [len(i) for i in words ]\n",
    "result\n"
   ]
  },
  {
   "cell_type": "code",
   "execution_count": null,
   "id": "8dd09d31",
   "metadata": {},
   "outputs": [],
   "source": []
  },
  {
   "cell_type": "code",
   "execution_count": 40,
   "id": "98cd48a1",
   "metadata": {},
   "outputs": [
    {
     "data": {
      "text/plain": [
       "['G', 'A', 'N', 'E', 'S', 'H']"
      ]
     },
     "execution_count": 40,
     "metadata": {},
     "output_type": "execute_result"
    }
   ],
   "source": [
    "# 6 all letters to be uppercase\n",
    "\n",
    "result = [i.upper() for i in 'ganesh']\n",
    "result"
   ]
  },
  {
   "cell_type": "code",
   "execution_count": 41,
   "id": "b8109d34",
   "metadata": {},
   "outputs": [
    {
     "data": {
      "text/plain": [
       "'GANESH'"
      ]
     },
     "execution_count": 41,
     "metadata": {},
     "output_type": "execute_result"
    }
   ],
   "source": [
    "#incase output we want in a string \n",
    "''.join(result)"
   ]
  },
  {
   "cell_type": "code",
   "execution_count": 38,
   "id": "c66877b5",
   "metadata": {},
   "outputs": [
    {
     "data": {
      "text/plain": [
       "['a', 'b', 'c', 'd']"
      ]
     },
     "execution_count": 38,
     "metadata": {},
     "output_type": "execute_result"
    }
   ],
   "source": [
    "result = [i.lower() for i in 'ABCD']\n",
    "result"
   ]
  },
  {
   "cell_type": "code",
   "execution_count": null,
   "id": "5aa2b6d6",
   "metadata": {},
   "outputs": [],
   "source": []
  }
 ],
 "metadata": {
  "kernelspec": {
   "display_name": "Python 3 (ipykernel)",
   "language": "python",
   "name": "python3"
  },
  "language_info": {
   "codemirror_mode": {
    "name": "ipython",
    "version": 3
   },
   "file_extension": ".py",
   "mimetype": "text/x-python",
   "name": "python",
   "nbconvert_exporter": "python",
   "pygments_lexer": "ipython3",
   "version": "3.11.5"
  }
 },
 "nbformat": 4,
 "nbformat_minor": 5
}
