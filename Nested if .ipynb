{
 "cells": [
  {
   "cell_type": "markdown",
   "id": "c1d45cfb",
   "metadata": {},
   "source": [
    "### Nested if "
   ]
  },
  {
   "cell_type": "code",
   "execution_count": 1,
   "id": "232dcd15",
   "metadata": {},
   "outputs": [
    {
     "name": "stdout",
     "output_type": "stream",
     "text": [
      "Hello\n"
     ]
    }
   ],
   "source": [
    "x = 20\n",
    "y = 10\n",
    "z = 5\n",
    "\n",
    "if x > y:\n",
    "    if y > z: \n",
    "        print('Hello')"
   ]
  },
  {
   "cell_type": "code",
   "execution_count": 2,
   "id": "aa651b93",
   "metadata": {},
   "outputs": [
    {
     "name": "stdout",
     "output_type": "stream",
     "text": [
      "How are you ?\n"
     ]
    }
   ],
   "source": [
    "x = 20\n",
    "y = 10\n",
    "z = 5\n",
    "\n",
    "if x > y:\n",
    "    if y < z: \n",
    "        print('Hello')\n",
    "    print('How are you ?')"
   ]
  },
  {
   "cell_type": "code",
   "execution_count": 3,
   "id": "9f47c01c",
   "metadata": {},
   "outputs": [
    {
     "name": "stdout",
     "output_type": "stream",
     "text": [
      "Bigger than 5\n",
      "Between 5 and 15\n"
     ]
    }
   ],
   "source": [
    "num = 10\n",
    " \n",
    "if num > 5:\n",
    "    print(\"Bigger than 5\")\n",
    " \n",
    "    if num <= 15:\n",
    "        print(\"Between 5 and 15\")"
   ]
  },
  {
   "cell_type": "code",
   "execution_count": 5,
   "id": "0ad11e40",
   "metadata": {},
   "outputs": [
    {
     "name": "stdout",
     "output_type": "stream",
     "text": [
      "enter your number to check weather it is divisible by 2 and 3 ? : 10\n",
      "10 is divisisible by only 2 \n"
     ]
    }
   ],
   "source": [
    "# Let’s write a Python program to check whether a number is divisible by 2 and 3.by using nested if\n",
    "\n",
    "num = int(input('enter your number to check weather it is divisible by 2 and 3 ? : '))\n",
    "\n",
    "if num % 2 == 0 :\n",
    "    if num % 3 == 0:\n",
    "        print(f'{num} is divisible by both 2 and 3')\n",
    "    else:\n",
    "        print(f'{num} is divisisible by only 2 ')\n",
    "else:\n",
    "    if num %3 == 0 :\n",
    "        print(f'{num} is only divisible by  3 not by 2')\n",
    "    else:\n",
    "        print(f'{num} is not divisible by 2 and 3')\n",
    "    "
   ]
  },
  {
   "cell_type": "code",
   "execution_count": 6,
   "id": "ea49defd",
   "metadata": {},
   "outputs": [
    {
     "name": "stdout",
     "output_type": "stream",
     "text": [
      "enter your number : 10\n",
      "10 is positive\n"
     ]
    }
   ],
   "source": [
    "# write a program in Python using nested if else statement to check whether a number is zero, positive, or negative.\n",
    "\n",
    "num = int(input('enter your number : ')) \n",
    "\n",
    "if num >= 0:\n",
    "    if num == 0:\n",
    "        print(f'{num} is zero')\n",
    "    else:\n",
    "        print(f'{num} is positive')\n",
    "else:\n",
    "    print(f'{num} is negative')\n",
    "    \n"
   ]
  },
  {
   "cell_type": "markdown",
   "id": "98042f7d",
   "metadata": {},
   "source": [
    "#### write a program in Python using nested if statement, check the following:\n",
    "\n",
    "- If age < 18; display ‘You are minor and not eligible to cast vote.’\n",
    "- If age >= 18 and age < 60; display ‘You are young and eligible to cast vote.’\n",
    "- Otherwise, display ‘You are a senior citizen person and will be given special care to cast vote.’"
   ]
  },
  {
   "cell_type": "code",
   "execution_count": 10,
   "id": "3d17d507",
   "metadata": {},
   "outputs": [
    {
     "name": "stdout",
     "output_type": "stream",
     "text": [
      "enter your age  : 15\n",
      "you are minor not eligible to cast votes\n"
     ]
    }
   ],
   "source": [
    "age  = int(input('enter your age  : ')) \n",
    "\n",
    "if age >= 18 :\n",
    "    if age < 60 :\n",
    "        print(print('you are young and eligible to cast vote'))\n",
    "    else:\n",
    "        print('you are senior citizen and will be given speacial care to cast vote')\n",
    "else:\n",
    "    print('you are minor not eligible to cast votes')\n",
    "    "
   ]
  },
  {
   "cell_type": "code",
   "execution_count": null,
   "id": "7940ad5f",
   "metadata": {},
   "outputs": [],
   "source": []
  }
 ],
 "metadata": {
  "kernelspec": {
   "display_name": "Python 3 (ipykernel)",
   "language": "python",
   "name": "python3"
  },
  "language_info": {
   "codemirror_mode": {
    "name": "ipython",
    "version": 3
   },
   "file_extension": ".py",
   "mimetype": "text/x-python",
   "name": "python",
   "nbconvert_exporter": "python",
   "pygments_lexer": "ipython3",
   "version": "3.11.5"
  }
 },
 "nbformat": 4,
 "nbformat_minor": 5
}
