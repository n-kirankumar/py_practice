{
 "cells": [
  {
   "cell_type": "markdown",
   "id": "7c02d2bf",
   "metadata": {},
   "source": [
    "### Conditional Statements\n",
    "- if\n",
    "- if else\n",
    "- if elif else"
   ]
  },
  {
   "cell_type": "code",
   "execution_count": 21,
   "id": "95759041",
   "metadata": {},
   "outputs": [],
   "source": [
    "my_str = ''\n",
    "if my_str:\n",
    "    print('not executed because its false')"
   ]
  },
  {
   "cell_type": "code",
   "execution_count": 22,
   "id": "f91cdcb5",
   "metadata": {},
   "outputs": [
    {
     "name": "stdout",
     "output_type": "stream",
     "text": [
      "executed because its True\n"
     ]
    }
   ],
   "source": [
    "my_str = 'radha'\n",
    "if my_str:\n",
    "    print('executed because its True')"
   ]
  },
  {
   "cell_type": "code",
   "execution_count": 23,
   "id": "48ff1c5a",
   "metadata": {},
   "outputs": [],
   "source": [
    "my_digit = 0\n",
    "if my_digit:\n",
    "    print('wont execute because of 0 is False ')"
   ]
  },
  {
   "cell_type": "code",
   "execution_count": 24,
   "id": "f71f508c",
   "metadata": {},
   "outputs": [
    {
     "name": "stdout",
     "output_type": "stream",
     "text": [
      "will  execute because of it  is True \n"
     ]
    }
   ],
   "source": [
    "my_digit = 25\n",
    "if my_digit:\n",
    "    print('will  execute because of it  is True ')"
   ]
  },
  {
   "cell_type": "code",
   "execution_count": 25,
   "id": "bd22bab7",
   "metadata": {},
   "outputs": [],
   "source": [
    "my_list = []\n",
    "if my_list:\n",
    "    print('empty list is False so wont execute  ')"
   ]
  },
  {
   "cell_type": "code",
   "execution_count": 26,
   "id": "1aa77a53",
   "metadata": {},
   "outputs": [
    {
     "name": "stdout",
     "output_type": "stream",
     "text": [
      "bool of [1, 2] is True and will be executed\n"
     ]
    }
   ],
   "source": [
    "my_list = [1,2]\n",
    "if my_list:\n",
    "    print(f'bool of {my_list} is {bool(my_list)} and will be executed')"
   ]
  },
  {
   "cell_type": "code",
   "execution_count": 27,
   "id": "f5afe282",
   "metadata": {},
   "outputs": [],
   "source": [
    "my_tuple = ()\n",
    "if my_tuple :\n",
    "    print('wont execute because empty tuple is False')"
   ]
  },
  {
   "cell_type": "code",
   "execution_count": 28,
   "id": "d7946288",
   "metadata": {},
   "outputs": [
    {
     "name": "stdout",
     "output_type": "stream",
     "text": [
      "bool of (10, 20)is True so executed\n"
     ]
    }
   ],
   "source": [
    "my_tuple = (10,20)\n",
    "if my_tuple:\n",
    "    print(f'bool of {my_tuple }is {bool(my_tuple)} so executed')"
   ]
  },
  {
   "cell_type": "code",
   "execution_count": 29,
   "id": "7ef85f6c",
   "metadata": {},
   "outputs": [],
   "source": [
    "my_dict = {}\n",
    "if my_dict:\n",
    "    print('wont execute')"
   ]
  },
  {
   "cell_type": "code",
   "execution_count": 30,
   "id": "3a3e6376",
   "metadata": {},
   "outputs": [
    {
     "name": "stdout",
     "output_type": "stream",
     "text": [
      "bool of {1: 'radha'} is True so it will execute\n"
     ]
    }
   ],
   "source": [
    "my_dict = {1:'radha'}\n",
    "if my_dict :\n",
    "    print(f'bool of {my_dict} is {(bool(my_dict))} so it will execute')"
   ]
  },
  {
   "cell_type": "markdown",
   "id": "7a167e04",
   "metadata": {},
   "source": [
    "================================="
   ]
  },
  {
   "cell_type": "code",
   "execution_count": 13,
   "id": "8da9c5e3",
   "metadata": {},
   "outputs": [
    {
     "name": "stdout",
     "output_type": "stream",
     "text": [
      "Enter the marks : 20\n",
      "The student has failed the exam\n"
     ]
    }
   ],
   "source": [
    "# Take marks of a student out of 100 as input and print pass if marks are above 50 otherwise print fail\n",
    "marks = int(input('Enter the marks : '))\n",
    "\n",
    "if marks > 50:\n",
    "    print('The student has passed the exam')\n",
    "else:\n",
    "    print('The student has failed the exam')"
   ]
  },
  {
   "cell_type": "code",
   "execution_count": 14,
   "id": "6bf95975",
   "metadata": {},
   "outputs": [
    {
     "name": "stdout",
     "output_type": "stream",
     "text": [
      "Enter the username : radha\n",
      "Enter the password : 1234\n",
      "Access Granted\n"
     ]
    }
   ],
   "source": [
    "# Take username and password as input from user, print access granted if they are correct otherwise print access denied\n",
    "username = input('Enter the username : ')\n",
    "password = int(input('Enter the password : '))\n",
    "\n",
    "if username == 'radha' and password == 1234:\n",
    "    print('Access Granted')\n",
    "else:\n",
    "    print('Access Denied')"
   ]
  },
  {
   "cell_type": "code",
   "execution_count": 15,
   "id": "9a8b2f52",
   "metadata": {},
   "outputs": [
    {
     "name": "stdout",
     "output_type": "stream",
     "text": [
      "Enter the number : 20\n",
      "The number is even\n"
     ]
    }
   ],
   "source": [
    "# Take a number as input and check if it is even or odd\n",
    "num = int(input('Enter the number : '))\n",
    "\n",
    "if num % 2 == 0:\n",
    "    print('The number is even')\n",
    "else:\n",
    "    print('The number is odd')"
   ]
  },
  {
   "cell_type": "code",
   "execution_count": 17,
   "id": "bd38c41a",
   "metadata": {},
   "outputs": [
    {
     "name": "stdout",
     "output_type": "stream",
     "text": [
      "Enter the marks for std1 : 70\n",
      "Enter the marks for std2 : 68\n",
      "std1 has scored higher than std2\n"
     ]
    }
   ],
   "source": [
    "# Take marks of two students as input and print the highest scorer\n",
    "std1 = int(input('Enter the marks for std1 : '))\n",
    "std2 = int(input('Enter the marks for std2 : '))\n",
    "\n",
    "if std1 > std2:\n",
    "    print('std1 has scored higher than std2')\n",
    "else:\n",
    "    print('std2 has scored higher than std1')"
   ]
  },
  {
   "cell_type": "code",
   "execution_count": null,
   "id": "7ec45d5f",
   "metadata": {},
   "outputs": [],
   "source": []
  }
 ],
 "metadata": {
  "kernelspec": {
   "display_name": "Python 3 (ipykernel)",
   "language": "python",
   "name": "python3"
  },
  "language_info": {
   "codemirror_mode": {
    "name": "ipython",
    "version": 3
   },
   "file_extension": ".py",
   "mimetype": "text/x-python",
   "name": "python",
   "nbconvert_exporter": "python",
   "pygments_lexer": "ipython3",
   "version": "3.11.5"
  }
 },
 "nbformat": 4,
 "nbformat_minor": 5
}
