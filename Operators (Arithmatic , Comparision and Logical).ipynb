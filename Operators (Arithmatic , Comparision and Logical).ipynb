{
 "cells": [
  {
   "cell_type": "markdown",
   "id": "fe13b029",
   "metadata": {},
   "source": [
    "### Arithmatic Operator\n",
    "    - + - * / % // **"
   ]
  },
  {
   "cell_type": "code",
   "execution_count": 7,
   "id": "3d7b6446",
   "metadata": {},
   "outputs": [
    {
     "name": "stdout",
     "output_type": "stream",
     "text": [
      "enter your first number : 10\n",
      "enter your second number : 5\n"
     ]
    }
   ],
   "source": [
    "num1 = int(input('enter your first number : '))\n",
    "num2 = int(input('enter your second number : '))"
   ]
  },
  {
   "cell_type": "code",
   "execution_count": 8,
   "id": "564ccfb1",
   "metadata": {},
   "outputs": [
    {
     "name": "stdout",
     "output_type": "stream",
     "text": [
      "addition of 10 and 5 is 15\n"
     ]
    }
   ],
   "source": [
    "print(f\"addition of {num1} and {num2} is {num1 + num2}\")"
   ]
  },
  {
   "cell_type": "code",
   "execution_count": 9,
   "id": "e03c0dd6",
   "metadata": {},
   "outputs": [
    {
     "name": "stdout",
     "output_type": "stream",
     "text": [
      "subtraction of 10 and 5 is 5\n"
     ]
    }
   ],
   "source": [
    "print(f\"subtraction of {num1} and {num2} is {num1 - num2}\")"
   ]
  },
  {
   "cell_type": "code",
   "execution_count": 10,
   "id": "1025561d",
   "metadata": {},
   "outputs": [
    {
     "name": "stdout",
     "output_type": "stream",
     "text": [
      "multiplication of 10 and 5 is 50\n"
     ]
    }
   ],
   "source": [
    "print(f\"multiplication of {num1} and {num2} is {num1 * num2}\")"
   ]
  },
  {
   "cell_type": "code",
   "execution_count": 11,
   "id": "3314368b",
   "metadata": {},
   "outputs": [
    {
     "name": "stdout",
     "output_type": "stream",
     "text": [
      "division of 10 and 5 is 2.0\n"
     ]
    }
   ],
   "source": [
    "print(f\"division of {num1} and {num2} is {num1 / num2}\")"
   ]
  },
  {
   "cell_type": "code",
   "execution_count": 12,
   "id": "a8351a71",
   "metadata": {},
   "outputs": [
    {
     "name": "stdout",
     "output_type": "stream",
     "text": [
      "power of 10 and 5 is 100000\n"
     ]
    }
   ],
   "source": [
    "print(f\"power of {num1} and {num2} is {num1 ** num2}\")"
   ]
  },
  {
   "cell_type": "code",
   "execution_count": 13,
   "id": "8861e7e4",
   "metadata": {},
   "outputs": [
    {
     "name": "stdout",
     "output_type": "stream",
     "text": [
      "floor division of 10 and 5 is 2\n"
     ]
    }
   ],
   "source": [
    "print(f\"floor division of {num1} and {num2} is {num1 // num2}\")"
   ]
  },
  {
   "cell_type": "code",
   "execution_count": 14,
   "id": "038a6b59",
   "metadata": {},
   "outputs": [
    {
     "name": "stdout",
     "output_type": "stream",
     "text": [
      "remainder  of 10 and 5 is 0\n"
     ]
    }
   ],
   "source": [
    "print(f\"remainder  of {num1} and {num2} is {num1 % num2}\")"
   ]
  },
  {
   "cell_type": "markdown",
   "id": "793ee2b4",
   "metadata": {},
   "source": [
    "### Comparision Operators\n",
    "    == < > <= >="
   ]
  },
  {
   "cell_type": "code",
   "execution_count": 15,
   "id": "d367a079",
   "metadata": {},
   "outputs": [
    {
     "name": "stdout",
     "output_type": "stream",
     "text": [
      "is 20 > 10 True or False ? True \n",
      "is 20 >= 10 True or False ? True \n",
      "is 20 < 10 True or False ? False \n",
      "is 20 <= 10 True or False ? False \n",
      "is 20 == 10 True or False ? False \n",
      "is 20 != 10 True or False ? True \n"
     ]
    }
   ],
   "source": [
    "num1 = 20\n",
    "num2 = 10\n",
    "print(f\"is {num1} > {num2} True or False ? {bool(num1 > num2)} \")\n",
    "print(f\"is {num1} >= {num2} True or False ? {bool(num1 >= num2)} \")\n",
    "print(f\"is {num1} < {num2} True or False ? {bool(num1 < num2)} \")\n",
    "print(f\"is {num1} <= {num2} True or False ? {bool(num1 <= num2)} \")\n",
    "print(f\"is {num1} == {num2} True or False ? {bool(num1 == num2)} \")\n",
    "print(f\"is {num1} != {num2} True or False ? {bool(num1 != num2)} \")   "
   ]
  },
  {
   "cell_type": "markdown",
   "id": "20e4d9ae",
   "metadata": {},
   "source": [
    "## Logical Operators\n",
    "- and : True if all are True\n",
    "- or : True if at least one is True\n",
    "- not : Opposite"
   ]
  },
  {
   "cell_type": "code",
   "execution_count": 16,
   "id": "2e8ab803",
   "metadata": {},
   "outputs": [
    {
     "data": {
      "text/plain": [
       "True"
      ]
     },
     "execution_count": 16,
     "metadata": {},
     "output_type": "execute_result"
    }
   ],
   "source": [
    "10 < 20 and 30 < 40           # True and True"
   ]
  },
  {
   "cell_type": "code",
   "execution_count": 17,
   "id": "8245fbf5",
   "metadata": {},
   "outputs": [
    {
     "data": {
      "text/plain": [
       "False"
      ]
     },
     "execution_count": 17,
     "metadata": {},
     "output_type": "execute_result"
    }
   ],
   "source": [
    "10 < 40 and 20 > 60          # True and False"
   ]
  },
  {
   "cell_type": "code",
   "execution_count": 18,
   "id": "678cf4b2",
   "metadata": {},
   "outputs": [
    {
     "data": {
      "text/plain": [
       "True"
      ]
     },
     "execution_count": 18,
     "metadata": {},
     "output_type": "execute_result"
    }
   ],
   "source": [
    "20 > 30 or 30 > 15         # False or True"
   ]
  },
  {
   "cell_type": "code",
   "execution_count": 19,
   "id": "f2940240",
   "metadata": {},
   "outputs": [
    {
     "data": {
      "text/plain": [
       "False"
      ]
     },
     "execution_count": 19,
     "metadata": {},
     "output_type": "execute_result"
    }
   ],
   "source": [
    "100 < 20 or 20 > 100    # False or False"
   ]
  },
  {
   "cell_type": "markdown",
   "id": "22c5fd66",
   "metadata": {},
   "source": [
    "## bool values of data types\n"
   ]
  },
  {
   "cell_type": "code",
   "execution_count": 20,
   "id": "a9c1f23c",
   "metadata": {},
   "outputs": [
    {
     "name": "stdout",
     "output_type": "stream",
     "text": [
      " is True or False ? False \n"
     ]
    }
   ],
   "source": [
    "#empty string is False otherwise True\n",
    "\n",
    "my_string1 = ''\n",
    "\n",
    "print(f\"{my_string1} is True or False ? {bool(my_string1)} \")"
   ]
  },
  {
   "cell_type": "code",
   "execution_count": 21,
   "id": "c03dab7b",
   "metadata": {},
   "outputs": [
    {
     "name": "stdout",
     "output_type": "stream",
     "text": [
      "hello is True or False ? True \n"
     ]
    }
   ],
   "source": [
    "my_string2 = 'hello'\n",
    "\n",
    "print(f\"{my_string2} is True or False ? {bool(my_string2)} \")"
   ]
  },
  {
   "cell_type": "code",
   "execution_count": 22,
   "id": "e39140ea",
   "metadata": {},
   "outputs": [
    {
     "name": "stdout",
     "output_type": "stream",
     "text": [
      "0 is True or False ? False \n"
     ]
    }
   ],
   "source": [
    "my_digit = 0\n",
    "\n",
    "print(f\"{my_digit} is True or False ? {bool(my_digit)} \")"
   ]
  },
  {
   "cell_type": "code",
   "execution_count": 23,
   "id": "1501dd3e",
   "metadata": {},
   "outputs": [
    {
     "name": "stdout",
     "output_type": "stream",
     "text": [
      "10 is True or False ? True \n"
     ]
    }
   ],
   "source": [
    "my_digit1 = 10\n",
    "\n",
    "print(f\"{my_digit1} is True or False ? {bool(my_digit1)} \")"
   ]
  },
  {
   "cell_type": "code",
   "execution_count": 24,
   "id": "5832ed06",
   "metadata": {},
   "outputs": [
    {
     "name": "stdout",
     "output_type": "stream",
     "text": [
      "[] is True or False ? False \n"
     ]
    }
   ],
   "source": [
    "my_list = []\n",
    "print(f\"{my_list} is True or False ? {bool(my_list)} \")"
   ]
  },
  {
   "cell_type": "code",
   "execution_count": 25,
   "id": "bd64bdab",
   "metadata": {},
   "outputs": [
    {
     "name": "stdout",
     "output_type": "stream",
     "text": [
      "[1, 2, 3] is True or False ? True \n"
     ]
    }
   ],
   "source": [
    "my_list = [1,2,3]\n",
    "print(f\"{my_list} is True or False ? {bool(my_list)} \")"
   ]
  },
  {
   "cell_type": "code",
   "execution_count": 26,
   "id": "e7a95d3d",
   "metadata": {},
   "outputs": [
    {
     "name": "stdout",
     "output_type": "stream",
     "text": [
      "() is True or False ? False \n"
     ]
    }
   ],
   "source": [
    "my_tuple = ()\n",
    "print(f\"{my_tuple} is True or False ? {bool(my_tuple)} \")"
   ]
  },
  {
   "cell_type": "code",
   "execution_count": 27,
   "id": "d5f7e233",
   "metadata": {},
   "outputs": [
    {
     "name": "stdout",
     "output_type": "stream",
     "text": [
      "(1, 2, 3) is True or False ? True \n"
     ]
    }
   ],
   "source": [
    "my_tuple = (1,2,3)\n",
    "print(f\"{my_tuple} is True or False ? {bool(my_tuple)} \")"
   ]
  },
  {
   "cell_type": "code",
   "execution_count": 28,
   "id": "4ea8dfe5",
   "metadata": {},
   "outputs": [
    {
     "name": "stdout",
     "output_type": "stream",
     "text": [
      "{} is True or False ? False \n"
     ]
    }
   ],
   "source": [
    "my_dict = {}\n",
    "print(f\"{my_dict} is True or False ? {bool(my_dict)} \")"
   ]
  },
  {
   "cell_type": "code",
   "execution_count": 29,
   "id": "188b51ef",
   "metadata": {},
   "outputs": [
    {
     "name": "stdout",
     "output_type": "stream",
     "text": [
      "{1: 'abc', 2: 'pqr'} is True or False ? True \n"
     ]
    }
   ],
   "source": [
    "my_dict = {1:'abc',2:'pqr'}\n",
    "print(f\"{my_dict} is True or False ? {bool(my_dict)} \")"
   ]
  }
 ],
 "metadata": {
  "kernelspec": {
   "display_name": "Python 3 (ipykernel)",
   "language": "python",
   "name": "python3"
  },
  "language_info": {
   "codemirror_mode": {
    "name": "ipython",
    "version": 3
   },
   "file_extension": ".py",
   "mimetype": "text/x-python",
   "name": "python",
   "nbconvert_exporter": "python",
   "pygments_lexer": "ipython3",
   "version": "3.11.5"
  }
 },
 "nbformat": 4,
 "nbformat_minor": 5
}
