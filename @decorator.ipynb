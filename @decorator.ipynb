{
 "cells": [
  {
   "cell_type": "markdown",
   "id": "b33402b5",
   "metadata": {},
   "source": [
    "### - decorator is a callable object which takes function as an arguement and returns  the modified function without modifying the original function"
   ]
  },
  {
   "cell_type": "code",
   "execution_count": 1,
   "id": "26ac7f60",
   "metadata": {},
   "outputs": [
    {
     "name": "stdout",
     "output_type": "stream",
     "text": [
      "This is printed before the function is called\n",
      "Hello! The function is executing\n",
      "This is printed after the function is called\n"
     ]
    }
   ],
   "source": [
    "def decorator(func):\n",
    "    def wrapper():\n",
    "        print(\"This is printed before the function is called\")\n",
    "        func()\n",
    "        print(\"This is printed after the function is called\")\n",
    "    return wrapper\n",
    "\n",
    "@decorator\n",
    "def say_hello():\n",
    "    print(\"Hello! The function is executing\")\n",
    "\n",
    "say_hello()"
   ]
  },
  {
   "cell_type": "code",
   "execution_count": 2,
   "id": "ec80731c",
   "metadata": {},
   "outputs": [
    {
     "name": "stdout",
     "output_type": "stream",
     "text": [
      "****\n",
      "I am a normal function\n",
      "****\n"
     ]
    }
   ],
   "source": [
    "def decorator_func(func):\n",
    "    def inner():\n",
    "        print(\"****\")\n",
    "        func()\n",
    "        print(\"****\")\n",
    "\n",
    "    return inner  # returning inner function\n",
    "\n",
    "@decorator_func\n",
    "def normal():\n",
    "    print(\"I am a normal function\")\n",
    "\n",
    "normal()"
   ]
  },
  {
   "cell_type": "code",
   "execution_count": 3,
   "id": "60edfbed",
   "metadata": {},
   "outputs": [
    {
     "data": {
      "text/plain": [
       "1.0"
      ]
     },
     "execution_count": 3,
     "metadata": {},
     "output_type": "execute_result"
    }
   ],
   "source": [
    "def divide_decorator(fun):\n",
    "    def wrapper(x,y):\n",
    "        if y == 0:\n",
    "            print('can\\'t divide with zero')\n",
    "        else:\n",
    "            return x / y\n",
    "    return wrapper\n",
    "\n",
    "@divide_decorator\n",
    "\n",
    "def div(a,b):\n",
    "    return a / b\n",
    "\n",
    "div(3,3)"
   ]
  },
  {
   "cell_type": "code",
   "execution_count": 4,
   "id": "1189009f",
   "metadata": {},
   "outputs": [
    {
     "name": "stdout",
     "output_type": "stream",
     "text": [
      "can't divide with zero\n"
     ]
    }
   ],
   "source": [
    "def divide_decorator(fun):\n",
    "    def wrapper(x,y):\n",
    "        if y == 0:\n",
    "            print('can\\'t divide with zero')\n",
    "        else:\n",
    "            return x / y\n",
    "    return wrapper\n",
    "\n",
    "@divide_decorator\n",
    "\n",
    "def div(a,b):\n",
    "    return a / b\n",
    "\n",
    "div(3,0)"
   ]
  },
  {
   "cell_type": "code",
   "execution_count": 5,
   "id": "dad51ee5",
   "metadata": {},
   "outputs": [
    {
     "data": {
      "text/plain": [
       "30"
      ]
     },
     "execution_count": 5,
     "metadata": {},
     "output_type": "execute_result"
    }
   ],
   "source": [
    "def add_decorator(fun):\n",
    "    def wrapper(*args,**kwargs):\n",
    "        result = fun(*args,**kwargs)\n",
    "        return result   \n",
    "    return wrapper\n",
    "\n",
    "@add_decorator\n",
    "def add(x,y):\n",
    "    return x + y\n",
    "\n",
    "add(10,20)   "
   ]
  },
  {
   "cell_type": "code",
   "execution_count": 6,
   "id": "434e38d6",
   "metadata": {},
   "outputs": [
    {
     "name": "stdout",
     "output_type": "stream",
     "text": [
      "I am going to divide 2 and 5\n",
      "0.4\n",
      "I am going to divide 2 and 0\n",
      "Whoops! cannot divide\n"
     ]
    }
   ],
   "source": [
    "def smart_divide(func):\n",
    "    def inner(a, b):\n",
    "        print(\"I am going to divide\", a, \"and\", b)\n",
    "        if b == 0:\n",
    "            print(\"Whoops! cannot divide\")\n",
    "            return\n",
    "\n",
    "        return func(a, b)\n",
    "    return inner\n",
    "\n",
    "@smart_divide\n",
    "def divide(a, b):\n",
    "    print(a/b)\n",
    "\n",
    "divide(2,5)\n",
    "\n",
    "divide(2,0)"
   ]
  },
  {
   "cell_type": "code",
   "execution_count": 7,
   "id": "25afe801",
   "metadata": {},
   "outputs": [
    {
     "name": "stdout",
     "output_type": "stream",
     "text": [
      "i got decorated\n",
      "I am ordinary\n"
     ]
    }
   ],
   "source": [
    "def pretty_decorator(fun):\n",
    "    def wrapper(*args,**kwargs):\n",
    "        print('i got decorated')\n",
    "        fun()    \n",
    "    return wrapper\n",
    "\n",
    "@pretty_decorator\n",
    "def ordinary():\n",
    "    print(\"I am ordinary\")\n",
    "\n",
    "ordinary()  "
   ]
  },
  {
   "cell_type": "code",
   "execution_count": 8,
   "id": "8e484ca6",
   "metadata": {},
   "outputs": [
    {
     "name": "stdout",
     "output_type": "stream",
     "text": [
      "*****\n",
      "hello\n",
      "#####\n"
     ]
    }
   ],
   "source": [
    "def star_hash_decorator(fun):\n",
    "    def inner(*args,**kwargs):\n",
    "        print('*' * 5)\n",
    "        fun()\n",
    "        print('#' * 5)\n",
    "    return inner\n",
    "\n",
    "@star_hash_decorator\n",
    "def msg():\n",
    "    print('hello')\n",
    "\n",
    "msg()"
   ]
  },
  {
   "cell_type": "code",
   "execution_count": 9,
   "id": "28585345",
   "metadata": {},
   "outputs": [
    {
     "name": "stdout",
     "output_type": "stream",
     "text": [
      "before execution : \n",
      "after execution : \n",
      "sum is  None\n"
     ]
    }
   ],
   "source": [
    "# sum of two numbers before and after execution using decorator\n",
    "\n",
    "def sum_decorator(fun):\n",
    "    def wrapper(*args,**kwargs):\n",
    "        print('before execution : ')\n",
    "        fun(2,3)\n",
    "        print('after execution : ')\n",
    "    return wrapper\n",
    "\n",
    "@sum_decorator\n",
    "def add(x,y):\n",
    "    return x+y\n",
    "\n",
    "print('sum is ' , add(2,3))\n",
    "    \n"
   ]
  },
  {
   "cell_type": "code",
   "execution_count": 10,
   "id": "8c42d903",
   "metadata": {},
   "outputs": [
    {
     "name": "stdout",
     "output_type": "stream",
     "text": [
      "before Execution\n",
      "Inside the function\n",
      "after Execution\n",
      "Sum = 3\n"
     ]
    }
   ],
   "source": [
    "def hello_decorator(func):\n",
    "    def inner1(*args, **kwargs):\n",
    "        print(\"before Execution\")\n",
    "        # getting the returned value\n",
    "        returned_value = func(*args, **kwargs)\n",
    "        print(\"after Execution\")\n",
    "\n",
    "        # returning the value to the original frame\n",
    "        return returned_value\n",
    "\n",
    "    return inner1\n",
    "\n",
    "\n",
    "# adding decorator to the function\n",
    "@hello_decorator\n",
    "def sum_two_numbers(a, b):\n",
    "    print(\"Inside the function\")\n",
    "    return a + b\n",
    "\n",
    "a, b = 1, 2\n",
    "\n",
    "# getting the value through return of the function\n",
    "print(\"Sum =\", sum_two_numbers(a, b))\n"
   ]
  },
  {
   "cell_type": "code",
   "execution_count": 19,
   "id": "6c1955f9",
   "metadata": {},
   "outputs": [
    {
     "name": "stdout",
     "output_type": "stream",
     "text": [
      "100\n"
     ]
    }
   ],
   "source": [
    "def decor1(func): \n",
    "    def inner(): \n",
    "        x = func() \n",
    "        return x * x \n",
    "    return inner \n",
    "\n",
    "\n",
    "@decor1\n",
    "def num1():\n",
    "    return 10\n",
    "\n",
    "print(num1())\n",
    "\n"
   ]
  },
  {
   "cell_type": "code",
   "execution_count": 11,
   "id": "cdf3a6a6",
   "metadata": {},
   "outputs": [
    {
     "name": "stdout",
     "output_type": "stream",
     "text": [
      "before execution : \n",
      "after execution : \n",
      "5\n"
     ]
    }
   ],
   "source": [
    "def add_numbers_decorator(fun):\n",
    "    def inner():\n",
    "        print('before execution : ')\n",
    "        x = fun()\n",
    "        print('after execution : ')\n",
    "        return x\n",
    "    return inner\n",
    "\n",
    "@add_numbers_decorator\n",
    "\n",
    "def add(a=2 , b=3):\n",
    "    return a+b\n",
    "\n",
    "print(add())\n",
    "    "
   ]
  },
  {
   "cell_type": "code",
   "execution_count": 12,
   "id": "b27a3074",
   "metadata": {},
   "outputs": [
    {
     "data": {
      "text/plain": [
       "'HELLO THERE'"
      ]
     },
     "execution_count": 12,
     "metadata": {},
     "output_type": "execute_result"
    }
   ],
   "source": [
    "def uppercase_decorator(fun):\n",
    "    def wrapper(*args,**kwargs):\n",
    "        x = fun()\n",
    "        return x.upper()\n",
    "    return wrapper\n",
    "\n",
    "@uppercase_decorator\n",
    "\n",
    "def say_hi():\n",
    "    return 'hello there'\n",
    "\n",
    "say_hi()"
   ]
  },
  {
   "cell_type": "code",
   "execution_count": 27,
   "id": "ed9cf4e2",
   "metadata": {},
   "outputs": [
    {
     "data": {
      "text/plain": [
       "'HELLO GOOD MORNING'"
      ]
     },
     "execution_count": 27,
     "metadata": {},
     "output_type": "execute_result"
    }
   ],
   "source": [
    "def uppercase_decorator(fun):\n",
    "    def wrapper(*args,**kwargs):\n",
    "        return fun().upper()\n",
    "    return wrapper\n",
    "\n",
    "@uppercase_decorator\n",
    "def say_hi():\n",
    "    return 'hello good morning'\n",
    "\n",
    "say_hi()"
   ]
  },
  {
   "cell_type": "code",
   "execution_count": 13,
   "id": "4d2018ca",
   "metadata": {},
   "outputs": [
    {
     "data": {
      "text/plain": [
       "'hi how are you ?'"
      ]
     },
     "execution_count": 13,
     "metadata": {},
     "output_type": "execute_result"
    }
   ],
   "source": [
    "def lowercase_decorator(fun):\n",
    "    def wrapper(*args,**kwargs):\n",
    "        return fun().lower()\n",
    "    return wrapper\n",
    "\n",
    "@lowercase_decorator\n",
    "\n",
    "def say():\n",
    "    return 'Hi How are You ?'\n",
    "\n",
    "say()"
   ]
  },
  {
   "cell_type": "code",
   "execution_count": 15,
   "id": "240d38e3",
   "metadata": {},
   "outputs": [
    {
     "name": "stdout",
     "output_type": "stream",
     "text": [
      "before lowercase original  Hi How are You ?\n"
     ]
    },
    {
     "data": {
      "text/plain": [
       "'hi how are you ?'"
      ]
     },
     "execution_count": 15,
     "metadata": {},
     "output_type": "execute_result"
    }
   ],
   "source": [
    "def lowercase_decorator(fun):\n",
    "    def wrapper(*args,**kwargs):\n",
    "        print('before lowercase original ',fun())\n",
    "        return fun().lower()\n",
    "    return wrapper\n",
    "\n",
    "@lowercase_decorator\n",
    "\n",
    "def say():\n",
    "    return 'Hi How are You ?'\n",
    "\n",
    "say()"
   ]
  },
  {
   "cell_type": "code",
   "execution_count": 16,
   "id": "9b57e104",
   "metadata": {},
   "outputs": [
    {
     "name": "stdout",
     "output_type": "stream",
     "text": [
      "before execution ...:  hello everyone how are you \n"
     ]
    },
    {
     "data": {
      "text/plain": [
       "['hello', 'everyone', 'how', 'are', 'you']"
      ]
     },
     "execution_count": 16,
     "metadata": {},
     "output_type": "execute_result"
    }
   ],
   "source": [
    "def split_string_decorator(fun):\n",
    "    def wrapper(*args,**kwargs):\n",
    "        print(\"before execution ...: \",fun())\n",
    "        return fun().split()\n",
    "    return wrapper\n",
    "\n",
    "@split_string_decorator\n",
    "\n",
    "def string_to_be_spiltted():\n",
    "    return 'hello everyone how are you '\n",
    "\n",
    "string_to_be_spiltted()\n"
   ]
  },
  {
   "cell_type": "code",
   "execution_count": 18,
   "id": "fe54ca84",
   "metadata": {},
   "outputs": [
    {
     "name": "stdout",
     "output_type": "stream",
     "text": [
      "befor executionn my list is ['hello', 'how ', 'are', 'you ']\n"
     ]
    },
    {
     "data": {
      "text/plain": [
       "'hello how  are you '"
      ]
     },
     "execution_count": 18,
     "metadata": {},
     "output_type": "execute_result"
    }
   ],
   "source": [
    "def list_str_decorator(fun):\n",
    "    def wrapper(*args,**kwargs):\n",
    "        print(f'befor executionn my list is {fun()}')\n",
    "        result =  ' '.join(fun())\n",
    "        return result\n",
    "    return wrapper\n",
    "\n",
    "@list_str_decorator\n",
    "\n",
    "def list_to_be_converted_into_string():\n",
    "    mylist = ['hello' , 'how ','are','you ']\n",
    "    return mylist\n",
    "\n",
    "list_to_be_converted_into_string()"
   ]
  },
  {
   "cell_type": "code",
   "execution_count": 19,
   "id": "65ea89ad",
   "metadata": {},
   "outputs": [
    {
     "data": {
      "text/plain": [
       "12"
      ]
     },
     "execution_count": 19,
     "metadata": {},
     "output_type": "execute_result"
    }
   ],
   "source": [
    "## add numbers and double it\n",
    "\n",
    "def double(func):\n",
    "    def wrapper(*args, **kwargs):\n",
    "        return func(*args, **kwargs) * 2\n",
    "    return wrapper\n",
    "\n",
    "@double\n",
    "def add(*args):\n",
    "    return sum(args)\n",
    "\n",
    "add(1,2,3)"
   ]
  },
  {
   "cell_type": "code",
   "execution_count": 21,
   "id": "7b64df0e",
   "metadata": {},
   "outputs": [
    {
     "name": "stdout",
     "output_type": "stream",
     "text": [
      "before execution---> hello how are you\n"
     ]
    },
    {
     "data": {
      "text/plain": [
       "False"
      ]
     },
     "execution_count": 21,
     "metadata": {},
     "output_type": "execute_result"
    }
   ],
   "source": [
    "def is_alpha_decorator(fun):\n",
    "    def wrapper (*args,**kwargs):\n",
    "        print(f'before execution---> {fun(*args)}')\n",
    "        return fun().isalpha()            #only alphabets not even space\n",
    "    return wrapper\n",
    "\n",
    "@is_alpha_decorator\n",
    "def is_alpha():\n",
    "    return 'hello how are you'\n",
    "\n",
    "is_alpha()\n",
    "\n"
   ]
  },
  {
   "cell_type": "code",
   "execution_count": 25,
   "id": "148e719c",
   "metadata": {},
   "outputs": [
    {
     "name": "stdout",
     "output_type": "stream",
     "text": [
      "before execution ---->1334\n"
     ]
    },
    {
     "data": {
      "text/plain": [
       "True"
      ]
     },
     "execution_count": 25,
     "metadata": {},
     "output_type": "execute_result"
    }
   ],
   "source": [
    "def is_decimal_decorator(fun):\n",
    "    def wrapper (*args,**kwargs):\n",
    "        print(f'before execution ---->{fun(*args)}')\n",
    "        return fun().isdecimal() # only decimals without space\n",
    "    return wrapper\n",
    "\n",
    "@is_decimal_decorator\n",
    "def is_decimal_string():\n",
    "    return '1334'\n",
    "\n",
    "is_decimal_string()"
   ]
  },
  {
   "cell_type": "code",
   "execution_count": 29,
   "id": "7c7a3e01",
   "metadata": {},
   "outputs": [
    {
     "name": "stdout",
     "output_type": "stream",
     "text": [
      "before execution ---->1334an\n"
     ]
    },
    {
     "data": {
      "text/plain": [
       "True"
      ]
     },
     "execution_count": 29,
     "metadata": {},
     "output_type": "execute_result"
    }
   ],
   "source": [
    "def is_alnum_decorator(fun):\n",
    "    def wrapper (*args,**kwargs):\n",
    "        print(f'before execution ---->{fun(*args)}')\n",
    "        return fun().isalnum() # only alphabets or numbers without space\n",
    "    return wrapper\n",
    "\n",
    "@is_alnum_decorator\n",
    "def is_alnum_string():\n",
    "    return '1334an'\n",
    "\n",
    "is_alnum_string()"
   ]
  },
  {
   "cell_type": "code",
   "execution_count": 31,
   "id": "14a6c529",
   "metadata": {},
   "outputs": [
    {
     "name": "stdout",
     "output_type": "stream",
     "text": [
      "before execution ---->1334an\n",
      "True\n",
      "after execution ......>\n"
     ]
    }
   ],
   "source": [
    "def is_alnum_decorator(fun):\n",
    "    def wrapper (*args,**kwargs):\n",
    "        print(f'before execution ---->{fun(*args)}')\n",
    "        print( fun().isalnum()) # only alphabets or numbers without space\n",
    "        print(f'after execution ......>')\n",
    "    return wrapper\n",
    "\n",
    "@is_alnum_decorator\n",
    "def is_alnum_string():\n",
    "    return '1334an'\n",
    "\n",
    "is_alnum_string()"
   ]
  },
  {
   "cell_type": "code",
   "execution_count": null,
   "id": "0b518567",
   "metadata": {},
   "outputs": [],
   "source": []
  }
 ],
 "metadata": {
  "kernelspec": {
   "display_name": "Python 3 (ipykernel)",
   "language": "python",
   "name": "python3"
  },
  "language_info": {
   "codemirror_mode": {
    "name": "ipython",
    "version": 3
   },
   "file_extension": ".py",
   "mimetype": "text/x-python",
   "name": "python",
   "nbconvert_exporter": "python",
   "pygments_lexer": "ipython3",
   "version": "3.11.5"
  }
 },
 "nbformat": 4,
 "nbformat_minor": 5
}
