{
 "cells": [
  {
   "cell_type": "markdown",
   "id": "740ac638",
   "metadata": {},
   "source": [
    "### Method Overloading\n",
    "    -samemethod used for multiple ways is called method overloading"
   ]
  },
  {
   "cell_type": "code",
   "execution_count": 4,
   "id": "cbf44cb7",
   "metadata": {},
   "outputs": [
    {
     "name": "stdout",
     "output_type": "stream",
     "text": [
      "5\n",
      "10\n",
      "4\n",
      "24\n"
     ]
    }
   ],
   "source": [
    "class Calculator:\n",
    "    def add(self, *args):\n",
    "        return sum(args)\n",
    "    \n",
    "    def multiply(self, *args):\n",
    "        result = 1\n",
    "        for num in args:\n",
    "            result *= num\n",
    "        return result\n",
    "\n",
    "# Example usage\n",
    "calc = Calculator()\n",
    "print(calc.add(5))             \n",
    "print(calc.add(5, 3, 2))       \n",
    "print(calc.multiply(4))        \n",
    "print(calc.multiply(4, 3, 2))  "
   ]
  },
  {
   "cell_type": "code",
   "execution_count": null,
   "id": "85ed1c07",
   "metadata": {},
   "outputs": [],
   "source": []
  },
  {
   "cell_type": "markdown",
   "id": "caef6cc3",
   "metadata": {},
   "source": [
    "### method overriding\n",
    "    -both parent and child classes have common method ,child method overrides \n",
    "    -if two classes have same method that method overrides and when you create object of it ,you call the particular method ,you will get method from child class"
   ]
  },
  {
   "cell_type": "code",
   "execution_count": 5,
   "id": "20f71d7c",
   "metadata": {},
   "outputs": [
    {
     "name": "stdout",
     "output_type": "stream",
     "text": [
      "Modified feature_1 of class A by class B\n"
     ]
    }
   ],
   "source": [
    "class A:\n",
    " \n",
    "    def fun1(self):\n",
    "        print('feature_1 of class A')\n",
    "         \n",
    "    def fun2(self):\n",
    "        print('feature_2 of class A')\n",
    "     \n",
    "\n",
    "    \n",
    "class B(A):\n",
    "\n",
    "    def fun1(self):\n",
    "        print('Modified feature_1 of class A by class B')    \n",
    "         \n",
    "    def fun3(self):\n",
    "        print('feature_3 of class B')\n",
    "         \n",
    "\n",
    "obj = B()\n",
    "     \n",
    "# Call the override function\n",
    "obj.fun1()"
   ]
  },
  {
   "cell_type": "code",
   "execution_count": 2,
   "id": "03a7ef2f",
   "metadata": {},
   "outputs": [
    {
     "name": "stdout",
     "output_type": "stream",
     "text": [
      "Method Overriding\n",
      "\n",
      "Redefined function of class A in class B\n"
     ]
    }
   ],
   "source": [
    "# Parent Class\n",
    "class A:\n",
    "    def first(self):\n",
    "        print(\"First function of class A\")\n",
    "\n",
    "    def second(self):\n",
    "        print('Second function of class A')\n",
    "\n",
    "# Derived Class\n",
    "class B(A):\n",
    "    # Overriden Function\n",
    "    def first(self):\n",
    "        print(\"Redefined function of class A in class B\")\n",
    "\n",
    "    def display(self):\n",
    "        print('Display Function of Child class')\n",
    "\n",
    " # Creating child class object\n",
    "child_obj = B()\n",
    "\n",
    "print(\"Method Overriding\\n\")\n",
    "child_obj.first()\n"
   ]
  },
  {
   "cell_type": "code",
   "execution_count": 6,
   "id": "e0157efe",
   "metadata": {},
   "outputs": [
    {
     "name": "stdout",
     "output_type": "stream",
     "text": [
      "Generic animal sound\n",
      "Woof!\n"
     ]
    }
   ],
   "source": [
    "class Animal:\n",
    "    def make_sound(self):\n",
    "        print(\"Generic animal sound\")\n",
    "\n",
    "class Dog(Animal):\n",
    "    def make_sound(self):\n",
    "        print(\"Woof!\")\n",
    "\n",
    "\n",
    "\n",
    "# Example usage\n",
    "animal = Animal()\n",
    "animal.make_sound()  # Output: Generic animal sound\n",
    "\n",
    "dog = Dog()\n",
    "dog.make_sound()  # Output: Woof!\n",
    "\n"
   ]
  },
  {
   "cell_type": "code",
   "execution_count": 7,
   "id": "db38ecfb",
   "metadata": {},
   "outputs": [
    {
     "name": "stdout",
     "output_type": "stream",
     "text": [
      "Generic animal sound\n",
      "Woof!\n",
      "Meow!\n"
     ]
    }
   ],
   "source": [
    "class Animal:\n",
    "    def make_sound(self):\n",
    "        print(\"Generic animal sound\")\n",
    "\n",
    "class Dog(Animal):\n",
    "    def make_sound(self):\n",
    "        print(\"Woof!\")\n",
    "\n",
    "class Cat(Animal):\n",
    "    def make_sound(self):\n",
    "        print(\"Meow!\")\n",
    "\n",
    "# Example usage\n",
    "animal = Animal()\n",
    "animal.make_sound()  # Output: Generic animal sound\n",
    "\n",
    "dog = Dog()\n",
    "dog.make_sound()  # Output: Woof!\n",
    "\n",
    "cat = Cat()\n",
    "cat.make_sound()  # Output: Meow!\n"
   ]
  },
  {
   "cell_type": "code",
   "execution_count": 8,
   "id": "35c15b38",
   "metadata": {},
   "outputs": [
    {
     "name": "stdout",
     "output_type": "stream",
     "text": [
      "Parent constructor\n",
      "Child constructor\n",
      "Child method\n"
     ]
    }
   ],
   "source": [
    "class Parent:\n",
    "    def __init__(self):\n",
    "        print(\"Parent constructor\")\n",
    "\n",
    "    def display(self):\n",
    "        print(\"Parent method\")\n",
    "\n",
    "class Child(Parent):\n",
    "    def __init__(self):\n",
    "        super().__init__()\n",
    "        print(\"Child constructor\")\n",
    "\n",
    "    def display(self):\n",
    "        print(\"Child method\")\n",
    "\n",
    "# Example usage\n",
    "child = Child()\n",
    "child.display()\n"
   ]
  },
  {
   "cell_type": "markdown",
   "id": "8f875b94",
   "metadata": {},
   "source": [
    "In this example:\n",
    "- The `Parent` class has a constructor and a method called `display`.\n",
    "- The `Child` class inherits from `Parent` and overrides both the constructor and the `display` method.\n",
    "- When an instance of `Child` is created, it first calls the constructor of its superclass using `super().__init__()`, then prints \"Child constructor\". \n",
    "- When `display()` is called on the `Child` instance, it invokes the overridden method from the `Child` class, printing \"Child method\"."
   ]
  },
  {
   "cell_type": "code",
   "execution_count": 11,
   "id": "96d49b70",
   "metadata": {},
   "outputs": [
    {
     "name": "stdout",
     "output_type": "stream",
     "text": [
      "0\n",
      "5\n",
      "14\n",
      "7.5\n"
     ]
    }
   ],
   "source": [
    "\n",
    "##method overloading\n",
    "\n",
    "class MathOperations:\n",
    "    def add(self, *args):\n",
    "        total = 0\n",
    "        for arg in args:\n",
    "            total += arg\n",
    "        return total\n",
    "\n",
    "# Example usage\n",
    "math = MathOperations()\n",
    "print(math.add()) \n",
    "print(math.add(2, 3))             # Output: 5\n",
    "print(math.add(2, 3, 4, 5))       # Output: 14\n",
    "print(math.add(1.5, 2.5, 3.5))    # Output: 7.5\n"
   ]
  },
  {
   "cell_type": "code",
   "execution_count": 12,
   "id": "e81bf46a",
   "metadata": {},
   "outputs": [
    {
     "name": "stdout",
     "output_type": "stream",
     "text": [
      "0\n",
      "5\n",
      "5\n",
      "6\n",
      "10\n"
     ]
    }
   ],
   "source": [
    "## method overloading -----same method is used in multiple ways\n",
    "\n",
    "class Calculator:\n",
    "    def add(self, *args):\n",
    "        if len(args) == 0:\n",
    "            return 0\n",
    "        elif len(args) == 1:\n",
    "            return args[0]\n",
    "        else:\n",
    "            total = args[0]\n",
    "            for num in args[1:]:\n",
    "                total += num\n",
    "            return total\n",
    "\n",
    "# Example usage\n",
    "calc = Calculator()\n",
    "print(calc.add())          # Output: 0\n",
    "print(calc.add(5))         # Output: 5\n",
    "print(calc.add(2, 3))      # Output: 5\n",
    "print(calc.add(1, 2, 3))   # Output: 6\n",
    "print(calc.add(1, 2, 3, 4))# Output: 10\n"
   ]
  },
  {
   "cell_type": "code",
   "execution_count": 17,
   "id": "2eb0e694",
   "metadata": {},
   "outputs": [
    {
     "data": {
      "text/plain": [
       "{'a': 1, 'b': 2}"
      ]
     },
     "execution_count": 17,
     "metadata": {},
     "output_type": "execute_result"
    }
   ],
   "source": [
    "d = {'a': 1 ,'b': 2} \n",
    "d.get('c', 3)\n",
    "d"
   ]
  },
  {
   "cell_type": "code",
   "execution_count": null,
   "id": "afbec726",
   "metadata": {},
   "outputs": [],
   "source": []
  },
  {
   "cell_type": "code",
   "execution_count": null,
   "id": "b515e9fb",
   "metadata": {},
   "outputs": [],
   "source": []
  }
 ],
 "metadata": {
  "kernelspec": {
   "display_name": "Python 3 (ipykernel)",
   "language": "python",
   "name": "python3"
  },
  "language_info": {
   "codemirror_mode": {
    "name": "ipython",
    "version": 3
   },
   "file_extension": ".py",
   "mimetype": "text/x-python",
   "name": "python",
   "nbconvert_exporter": "python",
   "pygments_lexer": "ipython3",
   "version": "3.11.5"
  }
 },
 "nbformat": 4,
 "nbformat_minor": 5
}
