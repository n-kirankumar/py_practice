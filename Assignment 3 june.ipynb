{
 "cells": [
  {
   "cell_type": "markdown",
   "id": "6f83dfae",
   "metadata": {},
   "source": [
    "### 2. Write a simple for loop to iterate through a list of numbers from 1 to 10."
   ]
  },
  {
   "cell_type": "code",
   "execution_count": 17,
   "id": "293c2dbe",
   "metadata": {},
   "outputs": [
    {
     "name": "stdout",
     "output_type": "stream",
     "text": [
      "1\n",
      "2\n",
      "3\n",
      "4\n",
      "5\n",
      "6\n",
      "7\n",
      "8\n",
      "9\n",
      "10\n"
     ]
    }
   ],
   "source": [
    "my_list = [1,2,3,4,5,6,7,8,9,10]\n",
    "for i in my_list:\n",
    "    print(i)"
   ]
  },
  {
   "cell_type": "markdown",
   "id": "e194a4ce",
   "metadata": {},
   "source": [
    "### 3. Explain how an if-elif-else block works in Python."
   ]
  },
  {
   "cell_type": "code",
   "execution_count": 18,
   "id": "5055e0d5",
   "metadata": {},
   "outputs": [
    {
     "name": "stdout",
     "output_type": "stream",
     "text": [
      "1 is integer\n",
      "2 is integer\n",
      "hello is string\n",
      "2.2 is float\n"
     ]
    }
   ],
   "source": [
    "data = [1,2,'hello',2.2]\n",
    "\n",
    "for i in data:\n",
    "    if type(i) == int :\n",
    "        print(f'{i} is integer')\n",
    "    elif type(i) == str:\n",
    "        print(f\"{i} is string\")\n",
    "    else:\n",
    "        print(f\"{i} is float\")"
   ]
  },
  {
   "cell_type": "markdown",
   "id": "94a1876c",
   "metadata": {},
   "source": [
    "\n",
    "### 6. How do you get the current date and time in Python?"
   ]
  },
  {
   "cell_type": "code",
   "execution_count": 19,
   "id": "599ca9e6",
   "metadata": {},
   "outputs": [
    {
     "data": {
      "text/plain": [
       "datetime.datetime(2024, 6, 3, 8, 59, 58, 771426)"
      ]
     },
     "execution_count": 19,
     "metadata": {},
     "output_type": "execute_result"
    }
   ],
   "source": [
    "from datetime import datetime\n",
    "datetime.now()"
   ]
  },
  {
   "cell_type": "markdown",
   "id": "c4500ea9",
   "metadata": {},
   "source": [
    "\n",
    "\n",
    "\n",
    "### 8. How do you define a function in Python with a sample example."
   ]
  },
  {
   "cell_type": "code",
   "execution_count": 20,
   "id": "19a6c0ba",
   "metadata": {},
   "outputs": [
    {
     "data": {
      "text/plain": [
       "30"
      ]
     },
     "execution_count": 20,
     "metadata": {},
     "output_type": "execute_result"
    }
   ],
   "source": [
    "def add(a,b):\n",
    "    return a+b\n",
    "add(10,20)"
   ]
  },
  {
   "cell_type": "markdown",
   "id": "a44c6ec3",
   "metadata": {},
   "source": [
    "### 9. Define a class in Python and create an object of that class."
   ]
  },
  {
   "cell_type": "code",
   "execution_count": 21,
   "id": "54395030",
   "metadata": {},
   "outputs": [
    {
     "name": "stdout",
     "output_type": "stream",
     "text": [
      "hello\n"
     ]
    }
   ],
   "source": [
    "class A:\n",
    "    print('hello')\n",
    "    \n",
    "    \n",
    "obj = A "
   ]
  },
  {
   "cell_type": "markdown",
   "id": "aa10ed4d",
   "metadata": {},
   "source": [
    "### 10. Explain inheritance in Python with an example."
   ]
  },
  {
   "cell_type": "code",
   "execution_count": 22,
   "id": "2ff13e16",
   "metadata": {},
   "outputs": [
    {
     "name": "stdout",
     "output_type": "stream",
     "text": [
      "Method A from class A\n",
      "Method B from class B\n"
     ]
    }
   ],
   "source": [
    "class A:\n",
    "    def method_A(self):\n",
    "        return \"Method A from class A\"\n",
    "\n",
    "class B(A):\n",
    "    def method_B(self):\n",
    "        return \"Method B from class B\"\n",
    "\n",
    "\n",
    "\n",
    "# Create an instance of D\n",
    "instance_b = B()\n",
    "\n",
    "# Call methods from each class\n",
    "print(instance_b.method_A())  \n",
    "print(instance_b.method_B())  "
   ]
  },
  {
   "cell_type": "markdown",
   "id": "10c81d37",
   "metadata": {},
   "source": [
    "### 12. Write a program to find the sum of all even numbers in a list using a for loop."
   ]
  },
  {
   "cell_type": "code",
   "execution_count": 23,
   "id": "ed0bc469",
   "metadata": {},
   "outputs": [
    {
     "name": "stdout",
     "output_type": "stream",
     "text": [
      "Sum of even numbers in the list: 30\n"
     ]
    }
   ],
   "source": [
    "def sum_of_even_numbers(numbers):\n",
    "    total = 0\n",
    "    for num in numbers:\n",
    "        if num % 2 == 0:\n",
    "            total += num\n",
    "    return total\n",
    "\n",
    "\n",
    "my_list = [1, 2, 3, 4, 5, 6, 7, 8, 9, 10]\n",
    "\n",
    "print(\"Sum of even numbers in the list:\",sum_of_even_numbers(my_list))\n"
   ]
  },
  {
   "cell_type": "code",
   "execution_count": 16,
   "id": "87a7c325",
   "metadata": {},
   "outputs": [
    {
     "name": "stdout",
     "output_type": "stream",
     "text": [
      "The sum of 5 and 7 is: 12\n"
     ]
    }
   ],
   "source": [
    "\n",
    "# call by value\n",
    "\n",
    "\n",
    "def add_two_values(x, y):\n",
    "    result = x + y\n",
    "    return result\n",
    "\n",
    "# Example usage:\n",
    "value1 = 5\n",
    "value2 = 7\n",
    "sum_result = add_two_values(value1, value2)\n",
    "print(\"The sum of\", value1, \"and\", value2, \"is:\", sum_result)\n"
   ]
  },
  {
   "cell_type": "markdown",
   "id": "c8230a14",
   "metadata": {},
   "source": [
    "### 13. Explain nested if statements with an example."
   ]
  },
  {
   "cell_type": "code",
   "execution_count": 24,
   "id": "9aa34bb6",
   "metadata": {},
   "outputs": [
    {
     "name": "stdout",
     "output_type": "stream",
     "text": [
      "Number is positive\n",
      "Number is even\n"
     ]
    }
   ],
   "source": [
    "num = 10\n",
    "\n",
    "if num > 0:\n",
    "    print(\"Number is positive\")\n",
    "    if num % 2 == 0:\n",
    "        print(\"Number is even\")\n",
    "    else:\n",
    "        print(\"Number is odd\")\n",
    "else:\n",
    "    print(\"Number is not positive\")\n"
   ]
  },
  {
   "cell_type": "markdown",
   "id": "ff4b0a6f",
   "metadata": {},
   "source": [
    "### 14. How can you use a while loop to implement a basic countdown timer?"
   ]
  },
  {
   "cell_type": "code",
   "execution_count": 26,
   "id": "b8145eee",
   "metadata": {},
   "outputs": [
    {
     "name": "stdout",
     "output_type": "stream",
     "text": [
      "5\n",
      "4\n",
      "3\n",
      "2\n",
      "1\n",
      "Time's up!\n"
     ]
    }
   ],
   "source": [
    "import time\n",
    "\n",
    "def countdown_timer(seconds):\n",
    "    while seconds > 0:\n",
    "        print(seconds)\n",
    "        time.sleep(1)  # Wait for 1 second\n",
    "        seconds -= 1\n",
    "    print(\"Time's up!\")\n",
    "\n",
    "countdown_timer(5)\n"
   ]
  },
  {
   "cell_type": "markdown",
   "id": "083b796d",
   "metadata": {},
   "source": [
    "\n",
    "### 15. Explain how you can use the range() function with a step value"
   ]
  },
  {
   "cell_type": "code",
   "execution_count": 27,
   "id": "88962b40",
   "metadata": {},
   "outputs": [
    {
     "name": "stdout",
     "output_type": "stream",
     "text": [
      "0\n",
      "2\n",
      "4\n",
      "6\n",
      "8\n"
     ]
    }
   ],
   "source": [
    "\n",
    "for i in range(0,10,2):\n",
    "    print(i)\n"
   ]
  },
  {
   "cell_type": "code",
   "execution_count": null,
   "id": "5bf0e8ec",
   "metadata": {},
   "outputs": [],
   "source": []
  }
 ],
 "metadata": {
  "kernelspec": {
   "display_name": "Python 3 (ipykernel)",
   "language": "python",
   "name": "python3"
  },
  "language_info": {
   "codemirror_mode": {
    "name": "ipython",
    "version": 3
   },
   "file_extension": ".py",
   "mimetype": "text/x-python",
   "name": "python",
   "nbconvert_exporter": "python",
   "pygments_lexer": "ipython3",
   "version": "3.11.5"
  }
 },
 "nbformat": 4,
 "nbformat_minor": 5
}
